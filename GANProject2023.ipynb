{
  "nbformat": 4,
  "nbformat_minor": 0,
  "metadata": {
    "colab": {
      "provenance": []
    },
    "kernelspec": {
      "name": "python3",
      "display_name": "Python 3"
    },
    "language_info": {
      "name": "python"
    },
    "gpuClass": "standard",
    "accelerator": "GPU",
    "widgets": {
      "application/vnd.jupyter.widget-state+json": {
        "fbb624c4e25a42488db10957f58aaa9b": {
          "model_module": "@jupyter-widgets/controls",
          "model_name": "HBoxModel",
          "model_module_version": "1.5.0",
          "state": {
            "_dom_classes": [],
            "_model_module": "@jupyter-widgets/controls",
            "_model_module_version": "1.5.0",
            "_model_name": "HBoxModel",
            "_view_count": null,
            "_view_module": "@jupyter-widgets/controls",
            "_view_module_version": "1.5.0",
            "_view_name": "HBoxView",
            "box_style": "",
            "children": [
              "IPY_MODEL_6340df32996f43f1b7b07fdffc79d3ff",
              "IPY_MODEL_ac81fcb0834248038ec71884e27758d8",
              "IPY_MODEL_e04769b463144d50987e89a9dc168c48"
            ],
            "layout": "IPY_MODEL_9ba0642ff0b54e87b519443e2c4cf988"
          }
        },
        "6340df32996f43f1b7b07fdffc79d3ff": {
          "model_module": "@jupyter-widgets/controls",
          "model_name": "HTMLModel",
          "model_module_version": "1.5.0",
          "state": {
            "_dom_classes": [],
            "_model_module": "@jupyter-widgets/controls",
            "_model_module_version": "1.5.0",
            "_model_name": "HTMLModel",
            "_view_count": null,
            "_view_module": "@jupyter-widgets/controls",
            "_view_module_version": "1.5.0",
            "_view_name": "HTMLView",
            "description": "",
            "description_tooltip": null,
            "layout": "IPY_MODEL_24dfa6ecbeaa47829848fc877320d93f",
            "placeholder": "​",
            "style": "IPY_MODEL_0f6cbbb57d5a4c3ca615eca15becf860",
            "value": "Downloading: 100%"
          }
        },
        "ac81fcb0834248038ec71884e27758d8": {
          "model_module": "@jupyter-widgets/controls",
          "model_name": "FloatProgressModel",
          "model_module_version": "1.5.0",
          "state": {
            "_dom_classes": [],
            "_model_module": "@jupyter-widgets/controls",
            "_model_module_version": "1.5.0",
            "_model_name": "FloatProgressModel",
            "_view_count": null,
            "_view_module": "@jupyter-widgets/controls",
            "_view_module_version": "1.5.0",
            "_view_name": "ProgressView",
            "bar_style": "success",
            "description": "",
            "description_tooltip": null,
            "layout": "IPY_MODEL_ed6fa39219c14ba689d7e572cb920d85",
            "max": 589,
            "min": 0,
            "orientation": "horizontal",
            "style": "IPY_MODEL_205f61c5987549c5bae6d565a80234bc",
            "value": 589
          }
        },
        "e04769b463144d50987e89a9dc168c48": {
          "model_module": "@jupyter-widgets/controls",
          "model_name": "HTMLModel",
          "model_module_version": "1.5.0",
          "state": {
            "_dom_classes": [],
            "_model_module": "@jupyter-widgets/controls",
            "_model_module_version": "1.5.0",
            "_model_name": "HTMLModel",
            "_view_count": null,
            "_view_module": "@jupyter-widgets/controls",
            "_view_module_version": "1.5.0",
            "_view_name": "HTMLView",
            "description": "",
            "description_tooltip": null,
            "layout": "IPY_MODEL_05e2d622044f43739c81a929d9d4347d",
            "placeholder": "​",
            "style": "IPY_MODEL_9ea6735c3fe845af88cdde72edd3ebd3",
            "value": " 589/589 [00:00&lt;00:00, 28.3kB/s]"
          }
        },
        "9ba0642ff0b54e87b519443e2c4cf988": {
          "model_module": "@jupyter-widgets/base",
          "model_name": "LayoutModel",
          "model_module_version": "1.2.0",
          "state": {
            "_model_module": "@jupyter-widgets/base",
            "_model_module_version": "1.2.0",
            "_model_name": "LayoutModel",
            "_view_count": null,
            "_view_module": "@jupyter-widgets/base",
            "_view_module_version": "1.2.0",
            "_view_name": "LayoutView",
            "align_content": null,
            "align_items": null,
            "align_self": null,
            "border": null,
            "bottom": null,
            "display": null,
            "flex": null,
            "flex_flow": null,
            "grid_area": null,
            "grid_auto_columns": null,
            "grid_auto_flow": null,
            "grid_auto_rows": null,
            "grid_column": null,
            "grid_gap": null,
            "grid_row": null,
            "grid_template_areas": null,
            "grid_template_columns": null,
            "grid_template_rows": null,
            "height": null,
            "justify_content": null,
            "justify_items": null,
            "left": null,
            "margin": null,
            "max_height": null,
            "max_width": null,
            "min_height": null,
            "min_width": null,
            "object_fit": null,
            "object_position": null,
            "order": null,
            "overflow": null,
            "overflow_x": null,
            "overflow_y": null,
            "padding": null,
            "right": null,
            "top": null,
            "visibility": null,
            "width": null
          }
        },
        "24dfa6ecbeaa47829848fc877320d93f": {
          "model_module": "@jupyter-widgets/base",
          "model_name": "LayoutModel",
          "model_module_version": "1.2.0",
          "state": {
            "_model_module": "@jupyter-widgets/base",
            "_model_module_version": "1.2.0",
            "_model_name": "LayoutModel",
            "_view_count": null,
            "_view_module": "@jupyter-widgets/base",
            "_view_module_version": "1.2.0",
            "_view_name": "LayoutView",
            "align_content": null,
            "align_items": null,
            "align_self": null,
            "border": null,
            "bottom": null,
            "display": null,
            "flex": null,
            "flex_flow": null,
            "grid_area": null,
            "grid_auto_columns": null,
            "grid_auto_flow": null,
            "grid_auto_rows": null,
            "grid_column": null,
            "grid_gap": null,
            "grid_row": null,
            "grid_template_areas": null,
            "grid_template_columns": null,
            "grid_template_rows": null,
            "height": null,
            "justify_content": null,
            "justify_items": null,
            "left": null,
            "margin": null,
            "max_height": null,
            "max_width": null,
            "min_height": null,
            "min_width": null,
            "object_fit": null,
            "object_position": null,
            "order": null,
            "overflow": null,
            "overflow_x": null,
            "overflow_y": null,
            "padding": null,
            "right": null,
            "top": null,
            "visibility": null,
            "width": null
          }
        },
        "0f6cbbb57d5a4c3ca615eca15becf860": {
          "model_module": "@jupyter-widgets/controls",
          "model_name": "DescriptionStyleModel",
          "model_module_version": "1.5.0",
          "state": {
            "_model_module": "@jupyter-widgets/controls",
            "_model_module_version": "1.5.0",
            "_model_name": "DescriptionStyleModel",
            "_view_count": null,
            "_view_module": "@jupyter-widgets/base",
            "_view_module_version": "1.2.0",
            "_view_name": "StyleView",
            "description_width": ""
          }
        },
        "ed6fa39219c14ba689d7e572cb920d85": {
          "model_module": "@jupyter-widgets/base",
          "model_name": "LayoutModel",
          "model_module_version": "1.2.0",
          "state": {
            "_model_module": "@jupyter-widgets/base",
            "_model_module_version": "1.2.0",
            "_model_name": "LayoutModel",
            "_view_count": null,
            "_view_module": "@jupyter-widgets/base",
            "_view_module_version": "1.2.0",
            "_view_name": "LayoutView",
            "align_content": null,
            "align_items": null,
            "align_self": null,
            "border": null,
            "bottom": null,
            "display": null,
            "flex": null,
            "flex_flow": null,
            "grid_area": null,
            "grid_auto_columns": null,
            "grid_auto_flow": null,
            "grid_auto_rows": null,
            "grid_column": null,
            "grid_gap": null,
            "grid_row": null,
            "grid_template_areas": null,
            "grid_template_columns": null,
            "grid_template_rows": null,
            "height": null,
            "justify_content": null,
            "justify_items": null,
            "left": null,
            "margin": null,
            "max_height": null,
            "max_width": null,
            "min_height": null,
            "min_width": null,
            "object_fit": null,
            "object_position": null,
            "order": null,
            "overflow": null,
            "overflow_x": null,
            "overflow_y": null,
            "padding": null,
            "right": null,
            "top": null,
            "visibility": null,
            "width": null
          }
        },
        "205f61c5987549c5bae6d565a80234bc": {
          "model_module": "@jupyter-widgets/controls",
          "model_name": "ProgressStyleModel",
          "model_module_version": "1.5.0",
          "state": {
            "_model_module": "@jupyter-widgets/controls",
            "_model_module_version": "1.5.0",
            "_model_name": "ProgressStyleModel",
            "_view_count": null,
            "_view_module": "@jupyter-widgets/base",
            "_view_module_version": "1.2.0",
            "_view_name": "StyleView",
            "bar_color": null,
            "description_width": ""
          }
        },
        "05e2d622044f43739c81a929d9d4347d": {
          "model_module": "@jupyter-widgets/base",
          "model_name": "LayoutModel",
          "model_module_version": "1.2.0",
          "state": {
            "_model_module": "@jupyter-widgets/base",
            "_model_module_version": "1.2.0",
            "_model_name": "LayoutModel",
            "_view_count": null,
            "_view_module": "@jupyter-widgets/base",
            "_view_module_version": "1.2.0",
            "_view_name": "LayoutView",
            "align_content": null,
            "align_items": null,
            "align_self": null,
            "border": null,
            "bottom": null,
            "display": null,
            "flex": null,
            "flex_flow": null,
            "grid_area": null,
            "grid_auto_columns": null,
            "grid_auto_flow": null,
            "grid_auto_rows": null,
            "grid_column": null,
            "grid_gap": null,
            "grid_row": null,
            "grid_template_areas": null,
            "grid_template_columns": null,
            "grid_template_rows": null,
            "height": null,
            "justify_content": null,
            "justify_items": null,
            "left": null,
            "margin": null,
            "max_height": null,
            "max_width": null,
            "min_height": null,
            "min_width": null,
            "object_fit": null,
            "object_position": null,
            "order": null,
            "overflow": null,
            "overflow_x": null,
            "overflow_y": null,
            "padding": null,
            "right": null,
            "top": null,
            "visibility": null,
            "width": null
          }
        },
        "9ea6735c3fe845af88cdde72edd3ebd3": {
          "model_module": "@jupyter-widgets/controls",
          "model_name": "DescriptionStyleModel",
          "model_module_version": "1.5.0",
          "state": {
            "_model_module": "@jupyter-widgets/controls",
            "_model_module_version": "1.5.0",
            "_model_name": "DescriptionStyleModel",
            "_view_count": null,
            "_view_module": "@jupyter-widgets/base",
            "_view_module_version": "1.2.0",
            "_view_name": "StyleView",
            "description_width": ""
          }
        },
        "8d30319ae910434980f5877e43b8851b": {
          "model_module": "@jupyter-widgets/controls",
          "model_name": "HBoxModel",
          "model_module_version": "1.5.0",
          "state": {
            "_dom_classes": [],
            "_model_module": "@jupyter-widgets/controls",
            "_model_module_version": "1.5.0",
            "_model_name": "HBoxModel",
            "_view_count": null,
            "_view_module": "@jupyter-widgets/controls",
            "_view_module_version": "1.5.0",
            "_view_name": "HBoxView",
            "box_style": "",
            "children": [
              "IPY_MODEL_ef517627dbe544d6bc879761be3931c5",
              "IPY_MODEL_77c7dbce5dfd4a99bd37747e63676b57",
              "IPY_MODEL_46f5a45a3893400290dcfd128da89a92"
            ],
            "layout": "IPY_MODEL_77dd08df8aca423b9cc73a1e79efd913"
          }
        },
        "ef517627dbe544d6bc879761be3931c5": {
          "model_module": "@jupyter-widgets/controls",
          "model_name": "HTMLModel",
          "model_module_version": "1.5.0",
          "state": {
            "_dom_classes": [],
            "_model_module": "@jupyter-widgets/controls",
            "_model_module_version": "1.5.0",
            "_model_name": "HTMLModel",
            "_view_count": null,
            "_view_module": "@jupyter-widgets/controls",
            "_view_module_version": "1.5.0",
            "_view_name": "HTMLView",
            "description": "",
            "description_tooltip": null,
            "layout": "IPY_MODEL_f8d79284735c4b34917effcd3caaa644",
            "placeholder": "​",
            "style": "IPY_MODEL_ea6c067ef1d14db9b2fccb70664adfdf",
            "value": "Downloading: 100%"
          }
        },
        "77c7dbce5dfd4a99bd37747e63676b57": {
          "model_module": "@jupyter-widgets/controls",
          "model_name": "FloatProgressModel",
          "model_module_version": "1.5.0",
          "state": {
            "_dom_classes": [],
            "_model_module": "@jupyter-widgets/controls",
            "_model_module_version": "1.5.0",
            "_model_name": "FloatProgressModel",
            "_view_count": null,
            "_view_module": "@jupyter-widgets/controls",
            "_view_module_version": "1.5.0",
            "_view_name": "ProgressView",
            "bar_style": "success",
            "description": "",
            "description_tooltip": null,
            "layout": "IPY_MODEL_7b7865de70e64007921db888d4d544f7",
            "max": 528678,
            "min": 0,
            "orientation": "horizontal",
            "style": "IPY_MODEL_4045b6ceebdb404cb47b609d81059505",
            "value": 528678
          }
        },
        "46f5a45a3893400290dcfd128da89a92": {
          "model_module": "@jupyter-widgets/controls",
          "model_name": "HTMLModel",
          "model_module_version": "1.5.0",
          "state": {
            "_dom_classes": [],
            "_model_module": "@jupyter-widgets/controls",
            "_model_module_version": "1.5.0",
            "_model_name": "HTMLModel",
            "_view_count": null,
            "_view_module": "@jupyter-widgets/controls",
            "_view_module_version": "1.5.0",
            "_view_name": "HTMLView",
            "description": "",
            "description_tooltip": null,
            "layout": "IPY_MODEL_c8fb765b622740c5852b5e76fe7a3db6",
            "placeholder": "​",
            "style": "IPY_MODEL_70770645a59f4b568e370d14ed2be8e1",
            "value": " 516k/516k [00:00&lt;00:00, 9.80MB/s]"
          }
        },
        "77dd08df8aca423b9cc73a1e79efd913": {
          "model_module": "@jupyter-widgets/base",
          "model_name": "LayoutModel",
          "model_module_version": "1.2.0",
          "state": {
            "_model_module": "@jupyter-widgets/base",
            "_model_module_version": "1.2.0",
            "_model_name": "LayoutModel",
            "_view_count": null,
            "_view_module": "@jupyter-widgets/base",
            "_view_module_version": "1.2.0",
            "_view_name": "LayoutView",
            "align_content": null,
            "align_items": null,
            "align_self": null,
            "border": null,
            "bottom": null,
            "display": null,
            "flex": null,
            "flex_flow": null,
            "grid_area": null,
            "grid_auto_columns": null,
            "grid_auto_flow": null,
            "grid_auto_rows": null,
            "grid_column": null,
            "grid_gap": null,
            "grid_row": null,
            "grid_template_areas": null,
            "grid_template_columns": null,
            "grid_template_rows": null,
            "height": null,
            "justify_content": null,
            "justify_items": null,
            "left": null,
            "margin": null,
            "max_height": null,
            "max_width": null,
            "min_height": null,
            "min_width": null,
            "object_fit": null,
            "object_position": null,
            "order": null,
            "overflow": null,
            "overflow_x": null,
            "overflow_y": null,
            "padding": null,
            "right": null,
            "top": null,
            "visibility": null,
            "width": null
          }
        },
        "f8d79284735c4b34917effcd3caaa644": {
          "model_module": "@jupyter-widgets/base",
          "model_name": "LayoutModel",
          "model_module_version": "1.2.0",
          "state": {
            "_model_module": "@jupyter-widgets/base",
            "_model_module_version": "1.2.0",
            "_model_name": "LayoutModel",
            "_view_count": null,
            "_view_module": "@jupyter-widgets/base",
            "_view_module_version": "1.2.0",
            "_view_name": "LayoutView",
            "align_content": null,
            "align_items": null,
            "align_self": null,
            "border": null,
            "bottom": null,
            "display": null,
            "flex": null,
            "flex_flow": null,
            "grid_area": null,
            "grid_auto_columns": null,
            "grid_auto_flow": null,
            "grid_auto_rows": null,
            "grid_column": null,
            "grid_gap": null,
            "grid_row": null,
            "grid_template_areas": null,
            "grid_template_columns": null,
            "grid_template_rows": null,
            "height": null,
            "justify_content": null,
            "justify_items": null,
            "left": null,
            "margin": null,
            "max_height": null,
            "max_width": null,
            "min_height": null,
            "min_width": null,
            "object_fit": null,
            "object_position": null,
            "order": null,
            "overflow": null,
            "overflow_x": null,
            "overflow_y": null,
            "padding": null,
            "right": null,
            "top": null,
            "visibility": null,
            "width": null
          }
        },
        "ea6c067ef1d14db9b2fccb70664adfdf": {
          "model_module": "@jupyter-widgets/controls",
          "model_name": "DescriptionStyleModel",
          "model_module_version": "1.5.0",
          "state": {
            "_model_module": "@jupyter-widgets/controls",
            "_model_module_version": "1.5.0",
            "_model_name": "DescriptionStyleModel",
            "_view_count": null,
            "_view_module": "@jupyter-widgets/base",
            "_view_module_version": "1.2.0",
            "_view_name": "StyleView",
            "description_width": ""
          }
        },
        "7b7865de70e64007921db888d4d544f7": {
          "model_module": "@jupyter-widgets/base",
          "model_name": "LayoutModel",
          "model_module_version": "1.2.0",
          "state": {
            "_model_module": "@jupyter-widgets/base",
            "_model_module_version": "1.2.0",
            "_model_name": "LayoutModel",
            "_view_count": null,
            "_view_module": "@jupyter-widgets/base",
            "_view_module_version": "1.2.0",
            "_view_name": "LayoutView",
            "align_content": null,
            "align_items": null,
            "align_self": null,
            "border": null,
            "bottom": null,
            "display": null,
            "flex": null,
            "flex_flow": null,
            "grid_area": null,
            "grid_auto_columns": null,
            "grid_auto_flow": null,
            "grid_auto_rows": null,
            "grid_column": null,
            "grid_gap": null,
            "grid_row": null,
            "grid_template_areas": null,
            "grid_template_columns": null,
            "grid_template_rows": null,
            "height": null,
            "justify_content": null,
            "justify_items": null,
            "left": null,
            "margin": null,
            "max_height": null,
            "max_width": null,
            "min_height": null,
            "min_width": null,
            "object_fit": null,
            "object_position": null,
            "order": null,
            "overflow": null,
            "overflow_x": null,
            "overflow_y": null,
            "padding": null,
            "right": null,
            "top": null,
            "visibility": null,
            "width": null
          }
        },
        "4045b6ceebdb404cb47b609d81059505": {
          "model_module": "@jupyter-widgets/controls",
          "model_name": "ProgressStyleModel",
          "model_module_version": "1.5.0",
          "state": {
            "_model_module": "@jupyter-widgets/controls",
            "_model_module_version": "1.5.0",
            "_model_name": "ProgressStyleModel",
            "_view_count": null,
            "_view_module": "@jupyter-widgets/base",
            "_view_module_version": "1.2.0",
            "_view_name": "StyleView",
            "bar_color": null,
            "description_width": ""
          }
        },
        "c8fb765b622740c5852b5e76fe7a3db6": {
          "model_module": "@jupyter-widgets/base",
          "model_name": "LayoutModel",
          "model_module_version": "1.2.0",
          "state": {
            "_model_module": "@jupyter-widgets/base",
            "_model_module_version": "1.2.0",
            "_model_name": "LayoutModel",
            "_view_count": null,
            "_view_module": "@jupyter-widgets/base",
            "_view_module_version": "1.2.0",
            "_view_name": "LayoutView",
            "align_content": null,
            "align_items": null,
            "align_self": null,
            "border": null,
            "bottom": null,
            "display": null,
            "flex": null,
            "flex_flow": null,
            "grid_area": null,
            "grid_auto_columns": null,
            "grid_auto_flow": null,
            "grid_auto_rows": null,
            "grid_column": null,
            "grid_gap": null,
            "grid_row": null,
            "grid_template_areas": null,
            "grid_template_columns": null,
            "grid_template_rows": null,
            "height": null,
            "justify_content": null,
            "justify_items": null,
            "left": null,
            "margin": null,
            "max_height": null,
            "max_width": null,
            "min_height": null,
            "min_width": null,
            "object_fit": null,
            "object_position": null,
            "order": null,
            "overflow": null,
            "overflow_x": null,
            "overflow_y": null,
            "padding": null,
            "right": null,
            "top": null,
            "visibility": null,
            "width": null
          }
        },
        "70770645a59f4b568e370d14ed2be8e1": {
          "model_module": "@jupyter-widgets/controls",
          "model_name": "DescriptionStyleModel",
          "model_module_version": "1.5.0",
          "state": {
            "_model_module": "@jupyter-widgets/controls",
            "_model_module_version": "1.5.0",
            "_model_name": "DescriptionStyleModel",
            "_view_count": null,
            "_view_module": "@jupyter-widgets/base",
            "_view_module_version": "1.2.0",
            "_view_name": "StyleView",
            "description_width": ""
          }
        },
        "7b199a765c624b48bdb4faf48b9ede4c": {
          "model_module": "@jupyter-widgets/controls",
          "model_name": "HBoxModel",
          "model_module_version": "1.5.0",
          "state": {
            "_dom_classes": [],
            "_model_module": "@jupyter-widgets/controls",
            "_model_module_version": "1.5.0",
            "_model_name": "HBoxModel",
            "_view_count": null,
            "_view_module": "@jupyter-widgets/controls",
            "_view_module_version": "1.5.0",
            "_view_name": "HBoxView",
            "box_style": "",
            "children": [
              "IPY_MODEL_3bbf780980bf470b97865a745bc80e45",
              "IPY_MODEL_29384bfabb354a2286b55db11a6001a4",
              "IPY_MODEL_ebd3a229efae4782b1d3bbb92ee4a6f5"
            ],
            "layout": "IPY_MODEL_95805854afc84cedbac85eff625fe4e4"
          }
        },
        "3bbf780980bf470b97865a745bc80e45": {
          "model_module": "@jupyter-widgets/controls",
          "model_name": "HTMLModel",
          "model_module_version": "1.5.0",
          "state": {
            "_dom_classes": [],
            "_model_module": "@jupyter-widgets/controls",
            "_model_module_version": "1.5.0",
            "_model_name": "HTMLModel",
            "_view_count": null,
            "_view_module": "@jupyter-widgets/controls",
            "_view_module_version": "1.5.0",
            "_view_name": "HTMLView",
            "description": "",
            "description_tooltip": null,
            "layout": "IPY_MODEL_068ca73363b14ff9b33eb450e31b1b1b",
            "placeholder": "​",
            "style": "IPY_MODEL_402aac11a581408ab9232d0f997f853f",
            "value": "Downloading: 100%"
          }
        },
        "29384bfabb354a2286b55db11a6001a4": {
          "model_module": "@jupyter-widgets/controls",
          "model_name": "FloatProgressModel",
          "model_module_version": "1.5.0",
          "state": {
            "_dom_classes": [],
            "_model_module": "@jupyter-widgets/controls",
            "_model_module_version": "1.5.0",
            "_model_name": "FloatProgressModel",
            "_view_count": null,
            "_view_module": "@jupyter-widgets/controls",
            "_view_module_version": "1.5.0",
            "_view_name": "ProgressView",
            "bar_style": "success",
            "description": "",
            "description_tooltip": null,
            "layout": "IPY_MODEL_60f3245a676c463090a6e6b859657608",
            "max": 438141995,
            "min": 0,
            "orientation": "horizontal",
            "style": "IPY_MODEL_81421f36fac14e0db1c9806760b2f417",
            "value": 438141995
          }
        },
        "ebd3a229efae4782b1d3bbb92ee4a6f5": {
          "model_module": "@jupyter-widgets/controls",
          "model_name": "HTMLModel",
          "model_module_version": "1.5.0",
          "state": {
            "_dom_classes": [],
            "_model_module": "@jupyter-widgets/controls",
            "_model_module_version": "1.5.0",
            "_model_name": "HTMLModel",
            "_view_count": null,
            "_view_module": "@jupyter-widgets/controls",
            "_view_module_version": "1.5.0",
            "_view_name": "HTMLView",
            "description": "",
            "description_tooltip": null,
            "layout": "IPY_MODEL_8c0510c0bec743e886ffe18f261c2434",
            "placeholder": "​",
            "style": "IPY_MODEL_805e607b7ca443419438ab22714772d4",
            "value": " 418M/418M [00:16&lt;00:00, 27.4MB/s]"
          }
        },
        "95805854afc84cedbac85eff625fe4e4": {
          "model_module": "@jupyter-widgets/base",
          "model_name": "LayoutModel",
          "model_module_version": "1.2.0",
          "state": {
            "_model_module": "@jupyter-widgets/base",
            "_model_module_version": "1.2.0",
            "_model_name": "LayoutModel",
            "_view_count": null,
            "_view_module": "@jupyter-widgets/base",
            "_view_module_version": "1.2.0",
            "_view_name": "LayoutView",
            "align_content": null,
            "align_items": null,
            "align_self": null,
            "border": null,
            "bottom": null,
            "display": null,
            "flex": null,
            "flex_flow": null,
            "grid_area": null,
            "grid_auto_columns": null,
            "grid_auto_flow": null,
            "grid_auto_rows": null,
            "grid_column": null,
            "grid_gap": null,
            "grid_row": null,
            "grid_template_areas": null,
            "grid_template_columns": null,
            "grid_template_rows": null,
            "height": null,
            "justify_content": null,
            "justify_items": null,
            "left": null,
            "margin": null,
            "max_height": null,
            "max_width": null,
            "min_height": null,
            "min_width": null,
            "object_fit": null,
            "object_position": null,
            "order": null,
            "overflow": null,
            "overflow_x": null,
            "overflow_y": null,
            "padding": null,
            "right": null,
            "top": null,
            "visibility": null,
            "width": null
          }
        },
        "068ca73363b14ff9b33eb450e31b1b1b": {
          "model_module": "@jupyter-widgets/base",
          "model_name": "LayoutModel",
          "model_module_version": "1.2.0",
          "state": {
            "_model_module": "@jupyter-widgets/base",
            "_model_module_version": "1.2.0",
            "_model_name": "LayoutModel",
            "_view_count": null,
            "_view_module": "@jupyter-widgets/base",
            "_view_module_version": "1.2.0",
            "_view_name": "LayoutView",
            "align_content": null,
            "align_items": null,
            "align_self": null,
            "border": null,
            "bottom": null,
            "display": null,
            "flex": null,
            "flex_flow": null,
            "grid_area": null,
            "grid_auto_columns": null,
            "grid_auto_flow": null,
            "grid_auto_rows": null,
            "grid_column": null,
            "grid_gap": null,
            "grid_row": null,
            "grid_template_areas": null,
            "grid_template_columns": null,
            "grid_template_rows": null,
            "height": null,
            "justify_content": null,
            "justify_items": null,
            "left": null,
            "margin": null,
            "max_height": null,
            "max_width": null,
            "min_height": null,
            "min_width": null,
            "object_fit": null,
            "object_position": null,
            "order": null,
            "overflow": null,
            "overflow_x": null,
            "overflow_y": null,
            "padding": null,
            "right": null,
            "top": null,
            "visibility": null,
            "width": null
          }
        },
        "402aac11a581408ab9232d0f997f853f": {
          "model_module": "@jupyter-widgets/controls",
          "model_name": "DescriptionStyleModel",
          "model_module_version": "1.5.0",
          "state": {
            "_model_module": "@jupyter-widgets/controls",
            "_model_module_version": "1.5.0",
            "_model_name": "DescriptionStyleModel",
            "_view_count": null,
            "_view_module": "@jupyter-widgets/base",
            "_view_module_version": "1.2.0",
            "_view_name": "StyleView",
            "description_width": ""
          }
        },
        "60f3245a676c463090a6e6b859657608": {
          "model_module": "@jupyter-widgets/base",
          "model_name": "LayoutModel",
          "model_module_version": "1.2.0",
          "state": {
            "_model_module": "@jupyter-widgets/base",
            "_model_module_version": "1.2.0",
            "_model_name": "LayoutModel",
            "_view_count": null,
            "_view_module": "@jupyter-widgets/base",
            "_view_module_version": "1.2.0",
            "_view_name": "LayoutView",
            "align_content": null,
            "align_items": null,
            "align_self": null,
            "border": null,
            "bottom": null,
            "display": null,
            "flex": null,
            "flex_flow": null,
            "grid_area": null,
            "grid_auto_columns": null,
            "grid_auto_flow": null,
            "grid_auto_rows": null,
            "grid_column": null,
            "grid_gap": null,
            "grid_row": null,
            "grid_template_areas": null,
            "grid_template_columns": null,
            "grid_template_rows": null,
            "height": null,
            "justify_content": null,
            "justify_items": null,
            "left": null,
            "margin": null,
            "max_height": null,
            "max_width": null,
            "min_height": null,
            "min_width": null,
            "object_fit": null,
            "object_position": null,
            "order": null,
            "overflow": null,
            "overflow_x": null,
            "overflow_y": null,
            "padding": null,
            "right": null,
            "top": null,
            "visibility": null,
            "width": null
          }
        },
        "81421f36fac14e0db1c9806760b2f417": {
          "model_module": "@jupyter-widgets/controls",
          "model_name": "ProgressStyleModel",
          "model_module_version": "1.5.0",
          "state": {
            "_model_module": "@jupyter-widgets/controls",
            "_model_module_version": "1.5.0",
            "_model_name": "ProgressStyleModel",
            "_view_count": null,
            "_view_module": "@jupyter-widgets/base",
            "_view_module_version": "1.2.0",
            "_view_name": "StyleView",
            "bar_color": null,
            "description_width": ""
          }
        },
        "8c0510c0bec743e886ffe18f261c2434": {
          "model_module": "@jupyter-widgets/base",
          "model_name": "LayoutModel",
          "model_module_version": "1.2.0",
          "state": {
            "_model_module": "@jupyter-widgets/base",
            "_model_module_version": "1.2.0",
            "_model_name": "LayoutModel",
            "_view_count": null,
            "_view_module": "@jupyter-widgets/base",
            "_view_module_version": "1.2.0",
            "_view_name": "LayoutView",
            "align_content": null,
            "align_items": null,
            "align_self": null,
            "border": null,
            "bottom": null,
            "display": null,
            "flex": null,
            "flex_flow": null,
            "grid_area": null,
            "grid_auto_columns": null,
            "grid_auto_flow": null,
            "grid_auto_rows": null,
            "grid_column": null,
            "grid_gap": null,
            "grid_row": null,
            "grid_template_areas": null,
            "grid_template_columns": null,
            "grid_template_rows": null,
            "height": null,
            "justify_content": null,
            "justify_items": null,
            "left": null,
            "margin": null,
            "max_height": null,
            "max_width": null,
            "min_height": null,
            "min_width": null,
            "object_fit": null,
            "object_position": null,
            "order": null,
            "overflow": null,
            "overflow_x": null,
            "overflow_y": null,
            "padding": null,
            "right": null,
            "top": null,
            "visibility": null,
            "width": null
          }
        },
        "805e607b7ca443419438ab22714772d4": {
          "model_module": "@jupyter-widgets/controls",
          "model_name": "DescriptionStyleModel",
          "model_module_version": "1.5.0",
          "state": {
            "_model_module": "@jupyter-widgets/controls",
            "_model_module_version": "1.5.0",
            "_model_name": "DescriptionStyleModel",
            "_view_count": null,
            "_view_module": "@jupyter-widgets/base",
            "_view_module_version": "1.2.0",
            "_view_name": "StyleView",
            "description_width": ""
          }
        }
      }
    }
  },
  "cells": [
    {
      "cell_type": "code",
      "execution_count": null,
      "metadata": {
        "id": "YxSQr7jt_-Dq",
        "colab": {
          "base_uri": "https://localhost:8080/"
        },
        "outputId": "bae1090b-8e92-4220-827f-e6f6e0ada2e3"
      },
      "outputs": [
        {
          "output_type": "stream",
          "name": "stdout",
          "text": [
            "Mounted at /content/drive\n"
          ]
        }
      ],
      "source": [
        "from google.colab import drive\n",
        "drive.mount('/content/drive')"
      ]
    },
    {
      "cell_type": "code",
      "source": [
        "import os\n",
        "import cv2\n",
        "import numpy as np\n",
        "from PIL import Image\n",
        "from numpy import asarray\n",
        "import pandas as pd\n",
        "import pickle\n",
        "import time"
      ],
      "metadata": {
        "id": "asGZdTaZM21Z"
      },
      "execution_count": null,
      "outputs": []
    },
    {
      "cell_type": "code",
      "source": [
        "# Formatted time string\n",
        "def hms_string(sec_elapsed):\n",
        "    h = int(sec_elapsed / (60 * 60))\n",
        "    m = int((sec_elapsed % (60 * 60)) / 60)\n",
        "    s = sec_elapsed % 60\n",
        "    return \"{}:{:>02}:{:>05.2f}\".format(h, m, s)"
      ],
      "metadata": {
        "id": "zfmdRh_KgWs9"
      },
      "execution_count": null,
      "outputs": []
    },
    {
      "cell_type": "code",
      "source": [
        "ROOT_DIR = \"drive/MyDrive/GANProject_2023\"\n",
        "TEXT_DIR = f\"{ROOT_DIR}/data/descriptions.txt\"\n",
        "IMG_DIR = f\"{ROOT_DIR}/data/images\""
      ],
      "metadata": {
        "id": "NUX-nDJOvrXo"
      },
      "execution_count": null,
      "outputs": []
    },
    {
      "cell_type": "code",
      "source": [
        "images_path = []\n",
        "for image in os.listdir(IMG_DIR):\n",
        "  images = os.path.join(IMG_DIR, image)\n",
        "  images_path.append(images)    "
      ],
      "metadata": {
        "id": "DgM-mRCvMrIX"
      },
      "execution_count": null,
      "outputs": []
    },
    {
      "cell_type": "code",
      "source": [
        "images_path.sort()"
      ],
      "metadata": {
        "id": "QEoHzwIzNA9L"
      },
      "execution_count": null,
      "outputs": []
    },
    {
      "cell_type": "code",
      "source": [
        "images = []"
      ],
      "metadata": {
        "id": "26vcQBPYbHKb"
      },
      "execution_count": null,
      "outputs": []
    },
    {
      "cell_type": "code",
      "source": [
        "import numpy as np\n",
        "import matplotlib.pyplot as plt\n",
        "import os\n",
        "\n",
        "# loop through each image in the folder\n",
        "for filename in images_path[:5005]:\n",
        "    # load the image\n",
        "    img = Image.open(filename)\n",
        "\n",
        "    # rescale image to 64x64 pixel\n",
        "    resized_image = img.resize((64, 64))\n",
        "\n",
        "    # Convert the image to a numpy array\n",
        "    img_array = np.asarray(resized_image)\n",
        "\n",
        "    # normalize the image\n",
        "    img_norm = img_array / 255.0\n",
        "    \n",
        "    # add the normalized image to the list\n",
        "    images.append(img_norm)"
      ],
      "metadata": {
        "id": "qvTLmlLKbuRe"
      },
      "execution_count": null,
      "outputs": []
    },
    {
      "cell_type": "code",
      "source": [
        "len(images)"
      ],
      "metadata": {
        "colab": {
          "base_uri": "https://localhost:8080/"
        },
        "id": "9pW4qnOMcn4m",
        "outputId": "c8e5ce41-734a-42d5-c08e-589d534549cf"
      },
      "execution_count": null,
      "outputs": [
        {
          "output_type": "execute_result",
          "data": {
            "text/plain": [
              "5005"
            ]
          },
          "metadata": {},
          "execution_count": 9
        }
      ]
    },
    {
      "cell_type": "markdown",
      "source": [
        "### Note for text captions: [436, 1355, 3624, 3644, 3775]"
      ],
      "metadata": {
        "id": "XQqoZqd4pbdu"
      }
    },
    {
      "cell_type": "markdown",
      "source": [
        "# Error Handling in images"
      ],
      "metadata": {
        "id": "n2UD7EsUhudk"
      }
    },
    {
      "cell_type": "code",
      "source": [
        "false_index = []\n",
        "for i, image in enumerate(images):\n",
        "  if image.shape != (64,64,3):\n",
        "    false_index.append(i)"
      ],
      "metadata": {
        "id": "N9rCbWVQiDFj"
      },
      "execution_count": null,
      "outputs": []
    },
    {
      "cell_type": "code",
      "source": [
        "false_index"
      ],
      "metadata": {
        "colab": {
          "base_uri": "https://localhost:8080/"
        },
        "id": "Whdc8aunpifo",
        "outputId": "71d16d7f-ac25-4d86-8a8a-7bfb3318e9bc"
      },
      "execution_count": null,
      "outputs": [
        {
          "output_type": "execute_result",
          "data": {
            "text/plain": [
              "[436, 1355, 3624, 3644, 3775]"
            ]
          },
          "metadata": {},
          "execution_count": 11
        }
      ]
    },
    {
      "cell_type": "code",
      "source": [
        "images.pop(436)"
      ],
      "metadata": {
        "colab": {
          "base_uri": "https://localhost:8080/"
        },
        "id": "Qnhvg_SSiVyD",
        "outputId": "23f308e5-5b68-416f-f06b-6befe09a5af8"
      },
      "execution_count": null,
      "outputs": [
        {
          "output_type": "execute_result",
          "data": {
            "text/plain": [
              "array([[0.78823529, 0.79215686, 0.79607843, ..., 0.77647059, 0.77254902,\n",
              "        0.77254902],\n",
              "       [0.77647059, 0.78039216, 0.78039216, ..., 0.77254902, 0.77254902,\n",
              "        0.76862745],\n",
              "       [0.76862745, 0.77254902, 0.77254902, ..., 0.77254902, 0.77254902,\n",
              "        0.76862745],\n",
              "       ...,\n",
              "       [0.50196078, 0.51764706, 0.54509804, ..., 0.43137255, 0.43921569,\n",
              "        0.43921569],\n",
              "       [0.21176471, 0.27058824, 0.29411765, ..., 0.40392157, 0.41176471,\n",
              "        0.4       ],\n",
              "       [0.14509804, 0.18431373, 0.19215686, ..., 0.41176471, 0.43921569,\n",
              "        0.41960784]])"
            ]
          },
          "metadata": {},
          "execution_count": 155
        }
      ]
    },
    {
      "cell_type": "code",
      "source": [
        "len(images)"
      ],
      "metadata": {
        "colab": {
          "base_uri": "https://localhost:8080/"
        },
        "id": "MknLD6lSk8rY",
        "outputId": "b02045aa-3190-476a-be1d-a0f8b8562a81"
      },
      "execution_count": null,
      "outputs": [
        {
          "output_type": "execute_result",
          "data": {
            "text/plain": [
              "5000"
            ]
          },
          "metadata": {},
          "execution_count": 156
        }
      ]
    },
    {
      "cell_type": "code",
      "source": [
        "# convert the list of images into a numpy array\n",
        "images_array = asarray(images)"
      ],
      "metadata": {
        "id": "zMZrC6mwlbn2"
      },
      "execution_count": null,
      "outputs": []
    },
    {
      "cell_type": "code",
      "source": [
        "images_array.shape"
      ],
      "metadata": {
        "colab": {
          "base_uri": "https://localhost:8080/"
        },
        "id": "ZyFnLjxFnfNh",
        "outputId": "ea5fa46d-07fe-4aed-f357-25b1e87fe035"
      },
      "execution_count": null,
      "outputs": [
        {
          "output_type": "execute_result",
          "data": {
            "text/plain": [
              "(5000, 64, 64, 3)"
            ]
          },
          "metadata": {},
          "execution_count": 158
        }
      ]
    },
    {
      "cell_type": "code",
      "source": [
        "# save the numpy array in a pickle file\n",
        "with open(f\"{ROOT_DIR}/data/dataset/normalized_images.pickle\", 'wb') as f:\n",
        "  pickle.dump(images_array, f)"
      ],
      "metadata": {
        "id": "dNMnJ4P7a4ab"
      },
      "execution_count": null,
      "outputs": []
    },
    {
      "cell_type": "code",
      "source": [
        "images_arr = pd.read_pickle(f\"{ROOT_DIR}/data/dataset/normalized_images.pickle\")"
      ],
      "metadata": {
        "id": "NjB4HzxddIUG"
      },
      "execution_count": null,
      "outputs": []
    },
    {
      "cell_type": "code",
      "source": [
        "plt.imshow(images_arr[30])"
      ],
      "metadata": {
        "colab": {
          "base_uri": "https://localhost:8080/",
          "height": 449
        },
        "id": "IjXKNKAT5kr7",
        "outputId": "cc8c68ed-6910-4333-d5ce-345c6f18cc09"
      },
      "execution_count": null,
      "outputs": [
        {
          "output_type": "execute_result",
          "data": {
            "text/plain": [
              "<matplotlib.image.AxesImage at 0x7f699e83cc40>"
            ]
          },
          "metadata": {},
          "execution_count": 162
        },
        {
          "output_type": "display_data",
          "data": {
            "text/plain": [
              "<Figure size 640x480 with 1 Axes>"
            ],
            "image/png": "[encoded data removed]"
          },
          "metadata": {}
        }
      ]
    },
    {
      "cell_type": "markdown",
      "source": [
        "# Generate Text Embeddings "
      ],
      "metadata": {
        "id": "G0_xYsPl7GF2"
      }
    },
    {
      "cell_type": "code",
      "source": [
        "pip install nepali-embedding"
      ],
      "metadata": {
        "colab": {
          "base_uri": "https://localhost:8080/"
        },
        "id": "4vGe_ahv7Wrs",
        "outputId": "111080d5-18c6-48b2-903b-35de7853dddf"
      },
      "execution_count": null,
      "outputs": [
        {
          "output_type": "stream",
          "name": "stdout",
          "text": [
            "Looking in indexes: https://pypi.org/simple, https://us-python.pkg.dev/colab-wheels/public/simple/\n",
            "Collecting nepali-embedding\n",
            "  Downloading nepali_embedding-0.1-py3-none-any.whl (13 kB)\n",
            "Requirement already satisfied: scipy in /usr/local/lib/python3.9/dist-packages (from nepali-embedding) (1.10.1)\n",
            "Collecting gensim==4.1.2\n",
            "  Downloading gensim-4.1.2-cp39-cp39-manylinux_2_12_x86_64.manylinux2010_x86_64.whl (24.0 MB)\n",
            "\u001b[2K     \u001b[90m━━━━━━━━━━━━━━━━━━━━━━━━━━━━━━━━━━━━━━━━\u001b[0m \u001b[32m24.0/24.0 MB\u001b[0m \u001b[31m67.4 MB/s\u001b[0m eta \u001b[36m0:00:00\u001b[0m\n",
            "\u001b[?25hRequirement already satisfied: torch in /usr/local/lib/python3.9/dist-packages (from nepali-embedding) (2.0.0+cu118)\n",
            "Collecting scikit-learn==0.24.2\n",
            "  Downloading scikit_learn-0.24.2-cp39-cp39-manylinux2010_x86_64.whl (23.8 MB)\n",
            "\u001b[2K     \u001b[90m━━━━━━━━━━━━━━━━━━━━━━━━━━━━━━━━━━━━━━━━\u001b[0m \u001b[32m23.8/23.8 MB\u001b[0m \u001b[31m23.5 MB/s\u001b[0m eta \u001b[36m0:00:00\u001b[0m\n",
            "\u001b[?25hCollecting icu==0.0.1\n",
            "  Downloading icu-0.0.1-py3-none-any.whl (49 kB)\n",
            "\u001b[2K     \u001b[90m━━━━━━━━━━━━━━━━━━━━━━━━━━━━━━━━━━━━━━━━\u001b[0m \u001b[32m49.6/49.6 kB\u001b[0m \u001b[31m6.9 MB/s\u001b[0m eta \u001b[36m0:00:00\u001b[0m\n",
            "\u001b[?25hCollecting transformers==4.15.0\n",
            "  Downloading transformers-4.15.0-py3-none-any.whl (3.4 MB)\n",
            "\u001b[2K     \u001b[90m━━━━━━━━━━━━━━━━━━━━━━━━━━━━━━━━━━━━━━━━\u001b[0m \u001b[32m3.4/3.4 MB\u001b[0m \u001b[31m67.3 MB/s\u001b[0m eta \u001b[36m0:00:00\u001b[0m\n",
            "\u001b[?25hRequirement already satisfied: smart-open>=1.8.1 in /usr/local/lib/python3.9/dist-packages (from gensim==4.1.2->nepali-embedding) (6.3.0)\n",
            "Requirement already satisfied: numpy>=1.17.0 in /usr/local/lib/python3.9/dist-packages (from gensim==4.1.2->nepali-embedding) (1.22.4)\n",
            "Requirement already satisfied: joblib>=0.11 in /usr/local/lib/python3.9/dist-packages (from scikit-learn==0.24.2->nepali-embedding) (1.2.0)\n",
            "Requirement already satisfied: threadpoolctl>=2.0.0 in /usr/local/lib/python3.9/dist-packages (from scikit-learn==0.24.2->nepali-embedding) (3.1.0)\n",
            "Collecting huggingface-hub<1.0,>=0.1.0\n",
            "  Downloading huggingface_hub-0.14.1-py3-none-any.whl (224 kB)\n",
            "\u001b[2K     \u001b[90m━━━━━━━━━━━━━━━━━━━━━━━━━━━━━━━━━━━━━━\u001b[0m \u001b[32m224.5/224.5 kB\u001b[0m \u001b[31m27.5 MB/s\u001b[0m eta \u001b[36m0:00:00\u001b[0m\n",
            "\u001b[?25hRequirement already satisfied: pyyaml>=5.1 in /usr/local/lib/python3.9/dist-packages (from transformers==4.15.0->nepali-embedding) (6.0)\n",
            "Requirement already satisfied: tqdm>=4.27 in /usr/local/lib/python3.9/dist-packages (from transformers==4.15.0->nepali-embedding) (4.65.0)\n",
            "Requirement already satisfied: requests in /usr/local/lib/python3.9/dist-packages (from transformers==4.15.0->nepali-embedding) (2.27.1)\n",
            "Requirement already satisfied: filelock in /usr/local/lib/python3.9/dist-packages (from transformers==4.15.0->nepali-embedding) (3.12.0)\n",
            "Collecting sacremoses\n",
            "  Downloading sacremoses-0.0.53.tar.gz (880 kB)\n",
            "\u001b[2K     \u001b[90m━━━━━━━━━━━━━━━━━━━━━━━━━━━━━━━━━━━━━━\u001b[0m \u001b[32m880.6/880.6 kB\u001b[0m \u001b[31m67.9 MB/s\u001b[0m eta \u001b[36m0:00:00\u001b[0m\n",
            "\u001b[?25h  Preparing metadata (setup.py) ... \u001b[?25l\u001b[?25hdone\n",
            "Requirement already satisfied: regex!=2019.12.17 in /usr/local/lib/python3.9/dist-packages (from transformers==4.15.0->nepali-embedding) (2022.10.31)\n",
            "Collecting tokenizers<0.11,>=0.10.1\n",
            "  Downloading tokenizers-0.10.3-cp39-cp39-manylinux_2_5_x86_64.manylinux1_x86_64.manylinux_2_12_x86_64.manylinux2010_x86_64.whl (3.3 MB)\n",
            "\u001b[2K     \u001b[90m━━━━━━━━━━━━━━━━━━━━━━━━━━━━━━━━━━━━━━━━\u001b[0m \u001b[32m3.3/3.3 MB\u001b[0m \u001b[31m79.5 MB/s\u001b[0m eta \u001b[36m0:00:00\u001b[0m\n",
            "\u001b[?25hRequirement already satisfied: packaging>=20.0 in /usr/local/lib/python3.9/dist-packages (from transformers==4.15.0->nepali-embedding) (23.1)\n",
            "Requirement already satisfied: jinja2 in /usr/local/lib/python3.9/dist-packages (from torch->nepali-embedding) (3.1.2)\n",
            "Requirement already satisfied: typing-extensions in /usr/local/lib/python3.9/dist-packages (from torch->nepali-embedding) (4.5.0)\n",
            "Requirement already satisfied: triton==2.0.0 in /usr/local/lib/python3.9/dist-packages (from torch->nepali-embedding) (2.0.0)\n",
            "Requirement already satisfied: sympy in /usr/local/lib/python3.9/dist-packages (from torch->nepali-embedding) (1.11.1)\n",
            "Requirement already satisfied: networkx in /usr/local/lib/python3.9/dist-packages (from torch->nepali-embedding) (3.1)\n",
            "Requirement already satisfied: cmake in /usr/local/lib/python3.9/dist-packages (from triton==2.0.0->torch->nepali-embedding) (3.25.2)\n",
            "Requirement already satisfied: lit in /usr/local/lib/python3.9/dist-packages (from triton==2.0.0->torch->nepali-embedding) (16.0.2)\n",
            "Requirement already satisfied: fsspec in /usr/local/lib/python3.9/dist-packages (from huggingface-hub<1.0,>=0.1.0->transformers==4.15.0->nepali-embedding) (2023.4.0)\n",
            "Requirement already satisfied: MarkupSafe>=2.0 in /usr/local/lib/python3.9/dist-packages (from jinja2->torch->nepali-embedding) (2.1.2)\n",
            "Requirement already satisfied: charset-normalizer~=2.0.0 in /usr/local/lib/python3.9/dist-packages (from requests->transformers==4.15.0->nepali-embedding) (2.0.12)\n",
            "Requirement already satisfied: urllib3<1.27,>=1.21.1 in /usr/local/lib/python3.9/dist-packages (from requests->transformers==4.15.0->nepali-embedding) (1.26.15)\n",
            "Requirement already satisfied: idna<4,>=2.5 in /usr/local/lib/python3.9/dist-packages (from requests->transformers==4.15.0->nepali-embedding) (3.4)\n",
            "Requirement already satisfied: certifi>=2017.4.17 in /usr/local/lib/python3.9/dist-packages (from requests->transformers==4.15.0->nepali-embedding) (2022.12.7)\n",
            "Requirement already satisfied: six in /usr/local/lib/python3.9/dist-packages (from sacremoses->transformers==4.15.0->nepali-embedding) (1.16.0)\n",
            "Requirement already satisfied: click in /usr/local/lib/python3.9/dist-packages (from sacremoses->transformers==4.15.0->nepali-embedding) (8.1.3)\n",
            "Requirement already satisfied: mpmath>=0.19 in /usr/local/lib/python3.9/dist-packages (from sympy->torch->nepali-embedding) (1.3.0)\n",
            "Building wheels for collected packages: sacremoses\n",
            "  Building wheel for sacremoses (setup.py) ... \u001b[?25l\u001b[?25hdone\n",
            "  Created wheel for sacremoses: filename=sacremoses-0.0.53-py3-none-any.whl size=895259 sha256=a83cbf63af3bbb42f2ec14786a9df19d275c7fbe15decffababfa8c3a5038c80\n",
            "  Stored in directory: /root/.cache/pip/wheels/12/1c/3d/46cf06718d63a32ff798a89594b61e7f345ab6b36d909ce033\n",
            "Successfully built sacremoses\n",
            "Installing collected packages: tokenizers, sacremoses, icu, scikit-learn, huggingface-hub, gensim, transformers, nepali-embedding\n",
            "  Attempting uninstall: scikit-learn\n",
            "    Found existing installation: scikit-learn 1.2.2\n",
            "    Uninstalling scikit-learn-1.2.2:\n",
            "      Successfully uninstalled scikit-learn-1.2.2\n",
            "  Attempting uninstall: gensim\n",
            "    Found existing installation: gensim 4.3.1\n",
            "    Uninstalling gensim-4.3.1:\n",
            "      Successfully uninstalled gensim-4.3.1\n",
            "\u001b[31mERROR: pip's dependency resolver does not currently take into account all the packages that are installed. This behaviour is the source of the following dependency conflicts.\n",
            "yellowbrick 1.5 requires scikit-learn>=1.0.0, but you have scikit-learn 0.24.2 which is incompatible.\n",
            "imbalanced-learn 0.10.1 requires scikit-learn>=1.0.2, but you have scikit-learn 0.24.2 which is incompatible.\u001b[0m\u001b[31m\n",
            "\u001b[0mSuccessfully installed gensim-4.1.2 huggingface-hub-0.14.1 icu-0.0.1 nepali-embedding-0.1 sacremoses-0.0.53 scikit-learn-0.24.2 tokenizers-0.10.3 transformers-4.15.0\n"
          ]
        }
      ]
    },
    {
      "cell_type": "code",
      "source": [
        "with open(TEXT_DIR, 'r', encoding = 'utf-8') as f:\n",
        "  cap = f.readlines()"
      ],
      "metadata": {
        "id": "o_m7a7xR7mbs"
      },
      "execution_count": null,
      "outputs": []
    },
    {
      "cell_type": "code",
      "source": [
        "cap = cap[:5005]"
      ],
      "metadata": {
        "id": "htxsxIsC8OlH"
      },
      "execution_count": null,
      "outputs": []
    },
    {
      "cell_type": "code",
      "source": [
        "from nepali_embedding.nepBERT.embedding_generator import NepBERT\n",
        "nepbert = NepBERT()"
      ],
      "metadata": {
        "colab": {
          "base_uri": "https://localhost:8080/",
          "height": 113,
          "referenced_widgets": [
            "fbb624c4e25a42488db10957f58aaa9b",
            "6340df32996f43f1b7b07fdffc79d3ff",
            "ac81fcb0834248038ec71884e27758d8",
            "e04769b463144d50987e89a9dc168c48",
            "9ba0642ff0b54e87b519443e2c4cf988",
            "24dfa6ecbeaa47829848fc877320d93f",
            "0f6cbbb57d5a4c3ca615eca15becf860",
            "ed6fa39219c14ba689d7e572cb920d85",
            "205f61c5987549c5bae6d565a80234bc",
            "05e2d622044f43739c81a929d9d4347d",
            "9ea6735c3fe845af88cdde72edd3ebd3",
            "8d30319ae910434980f5877e43b8851b",
            "ef517627dbe544d6bc879761be3931c5",
            "77c7dbce5dfd4a99bd37747e63676b57",
            "46f5a45a3893400290dcfd128da89a92",
            "77dd08df8aca423b9cc73a1e79efd913",
            "f8d79284735c4b34917effcd3caaa644",
            "ea6c067ef1d14db9b2fccb70664adfdf",
            "7b7865de70e64007921db888d4d544f7",
            "4045b6ceebdb404cb47b609d81059505",
            "c8fb765b622740c5852b5e76fe7a3db6",
            "70770645a59f4b568e370d14ed2be8e1",
            "7b199a765c624b48bdb4faf48b9ede4c",
            "3bbf780980bf470b97865a745bc80e45",
            "29384bfabb354a2286b55db11a6001a4",
            "ebd3a229efae4782b1d3bbb92ee4a6f5",
            "95805854afc84cedbac85eff625fe4e4",
            "068ca73363b14ff9b33eb450e31b1b1b",
            "402aac11a581408ab9232d0f997f853f",
            "60f3245a676c463090a6e6b859657608",
            "81421f36fac14e0db1c9806760b2f417",
            "8c0510c0bec743e886ffe18f261c2434",
            "805e607b7ca443419438ab22714772d4"
          ]
        },
        "id": "QpyQXL5j8u5b",
        "outputId": "55e8a52d-7243-4a11-eb9b-dfe05bb3d629"
      },
      "execution_count": null,
      "outputs": [
        {
          "output_type": "display_data",
          "data": {
            "text/plain": [
              "Downloading:   0%|          | 0.00/589 [00:00<?, ?B/s]"
            ],
            "application/vnd.jupyter.widget-view+json": {
              "version_major": 2,
              "version_minor": 0,
              "model_id": "fbb624c4e25a42488db10957f58aaa9b"
            }
          },
          "metadata": {}
        },
        {
          "output_type": "display_data",
          "data": {
            "text/plain": [
              "Downloading:   0%|          | 0.00/516k [00:00<?, ?B/s]"
            ],
            "application/vnd.jupyter.widget-view+json": {
              "version_major": 2,
              "version_minor": 0,
              "model_id": "8d30319ae910434980f5877e43b8851b"
            }
          },
          "metadata": {}
        },
        {
          "output_type": "display_data",
          "data": {
            "text/plain": [
              "Downloading:   0%|          | 0.00/418M [00:00<?, ?B/s]"
            ],
            "application/vnd.jupyter.widget-view+json": {
              "version_major": 2,
              "version_minor": 0,
              "model_id": "7b199a765c624b48bdb4faf48b9ede4c"
            }
          },
          "metadata": {}
        }
      ]
    },
    {
      "cell_type": "code",
      "source": [
        "index_to_remove = [436, 1355, 3624, 3644, 3775]"
      ],
      "metadata": {
        "id": "sIXCvhx3r-oG"
      },
      "execution_count": null,
      "outputs": []
    },
    {
      "cell_type": "code",
      "source": [
        "#np_arr.shape"
      ],
      "metadata": {
        "id": "A5MvtP-V9eSA"
      },
      "execution_count": null,
      "outputs": []
    },
    {
      "cell_type": "code",
      "source": [
        "text_embeddings = []\n",
        "for lines in cap:\n",
        "  embedding = nepbert.get_bert_embedding_sentence(lines,)\n",
        "  embedding = embedding.detach().cpu().numpy()\n",
        "  text_embeddings.append(embedding)"
      ],
      "metadata": {
        "colab": {
          "base_uri": "https://localhost:8080/"
        },
        "id": "CoaIjgNN8hQH",
        "outputId": "a915aaff-38a9-4b32-bea5-3781d4360c54"
      },
      "execution_count": null,
      "outputs": [
        {
          "output_type": "stream",
          "name": "stdout",
          "text": [
            "\u001b[1;30;43mStreaming output truncated to the last 5000 lines.\u001b[0m\n",
            "7 बिल\n",
            "8 लामो\n",
            "9 र\n",
            "10 खरो\n",
            "11 छ\n",
            "12 ,\n",
            "13 र\n",
            "14 पट\n",
            "15 सत\n",
            "16 ##ो\n",
            "17 छ\n",
            "18 ।\n",
            "19 [SEP]\n",
            "0 [CLS]\n",
            "1 यो\n",
            "2 चराको\n",
            "3 लामो\n",
            "4 रड\n",
            "5 बिल\n",
            "6 र\n",
            "7 खरो\n",
            "8 शरीर\n",
            "9 निलो\n",
            "10 ##सग\n",
            "11 निलो\n",
            "12 ##सग\n",
            "13 छ\n",
            "14 ।\n",
            "15 [SEP]\n",
            "0 [CLS]\n",
            "1 लामो\n",
            "2 च\n",
            "3 ##च\n",
            "4 ##चो\n",
            "5 र\n",
            "6 नीलो\n",
            "7 पख\n",
            "8 ##टाको\n",
            "9 साथ\n",
            "10 लामो\n",
            "11 च\n",
            "12 ##च\n",
            "13 ##चो\n",
            "14 र\n",
            "15 नीलो\n",
            "16 पख\n",
            "17 ##टा\n",
            "18 प\n",
            "19 ##वा\n",
            "20 ##ख\n",
            "21 ##हरको\n",
            "22 साथ\n",
            "23 सानो\n",
            "24 चरा\n",
            "25 [SEP]\n",
            "0 [CLS]\n",
            "1 लामो\n",
            "2 सन\n",
            "3 ##तला\n",
            "4 ##को\n",
            "5 च\n",
            "6 ##च\n",
            "7 ##चो\n",
            "8 खल\n",
            "9 ,\n",
            "10 यो\n",
            "11 चराको\n",
            "12 सन\n",
            "13 ##दर\n",
            "14 सत\n",
            "15 ##ो\n",
            "16 सत\n",
            "17 ##न\n",
            "18 र\n",
            "19 भव\n",
            "20 ##य\n",
            "21 निलो\n",
            "22 फिर\n",
            "23 ##ता\n",
            "24 छ\n",
            "25 ।\n",
            "26 [SEP]\n",
            "0 [CLS]\n",
            "1 एक\n",
            "2 सानो\n",
            "3 चरा\n",
            "4 एक\n",
            "5 चमक\n",
            "6 ##िलो\n",
            "7 सत\n",
            "8 ##ो\n",
            "9 पट\n",
            "10 सग\n",
            "11 लामो\n",
            "12 र\n",
            "13 सन\n",
            "14 ##तला\n",
            "15 बक\n",
            "16 छ\n",
            "17 ,\n",
            "18 र\n",
            "19 यो\n",
            "20 फिर\n",
            "21 ##ता\n",
            "22 उज\n",
            "23 ##ज\n",
            "24 ##वल\n",
            "25 सट\n",
            "26 ##िट\n",
            "27 ##ोलि\n",
            "28 ##ज\n",
            "29 छ\n",
            "30 ।\n",
            "31 [SEP]\n",
            "0 [CLS]\n",
            "1 यो\n",
            "2 सत\n",
            "3 ##ो\n",
            "4 सत\n",
            "5 ##न\n",
            "6 र\n",
            "7 निलो\n",
            "8 पख\n",
            "9 ##टाको\n",
            "10 साथ\n",
            "11 र\n",
            "12 ##गी\n",
            "13 ##न\n",
            "14 चरा\n",
            "15 हो\n",
            "16 ।\n",
            "17 [SEP]\n",
            "0 [CLS]\n",
            "1 एक\n",
            "2 ठ\n",
            "3 ##लो\n",
            "4 ,\n",
            "5 रातो\n",
            "6 बिल\n",
            "7 को\n",
            "8 साथ\n",
            "9 चरा\n",
            "10 जन\n",
            "11 सन\n",
            "12 ##तला\n",
            "13 बिन\n",
            "14 ##दमा\n",
            "15 समा\n",
            "16 ##पत\n",
            "17 ह\n",
            "18 ##न\n",
            "19 ##छ\n",
            "20 ,\n",
            "21 रातो\n",
            "22 टाउको\n",
            "23 र\n",
            "24 नाप\n",
            "25 ,\n",
            "26 निलो\n",
            "27 पछाडि\n",
            "28 ,\n",
            "29 र\n",
            "30 सन\n",
            "31 ##तला\n",
            "32 सत\n",
            "33 ##न\n",
            "34 [SEP]\n",
            "0 [CLS]\n",
            "1 एक\n",
            "2 लामो\n",
            "3 च\n",
            "4 ##च\n",
            "5 ##चो\n",
            "6 सग\n",
            "7 एक\n",
            "8 सानो\n",
            "9 र\n",
            "10 ##गी\n",
            "11 ##न\n",
            "12 चरा\n",
            "13 ,\n",
            "14 निलो\n",
            "15 बक\n",
            "16 ##बारी\n",
            "17 ##हर\n",
            "18 ,\n",
            "19 र\n",
            "20 रातो\n",
            "21 टाउको\n",
            "22 सग\n",
            "23 ।\n",
            "24 [SEP]\n",
            "0 [CLS]\n",
            "1 यो\n",
            "2 एक\n",
            "3 सानो\n",
            "4 रातो\n",
            "5 खरो\n",
            "6 चरा\n",
            "7 हो\n",
            "8 जन\n",
            "9 च\n",
            "10 ##हक\n",
            "11 ##िलो\n",
            "12 हरियो\n",
            "13 पख\n",
            "14 ##टा\n",
            "15 र\n",
            "16 खरो\n",
            "17 च\n",
            "18 ##च\n",
            "19 ##चोक\n",
            "20 ##ो\n",
            "21 साथ\n",
            "22 हो\n",
            "23 ।\n",
            "24 [SEP]\n",
            "0 [CLS]\n",
            "1 एक\n",
            "2 धर\n",
            "3 ठ\n",
            "4 ##लो\n",
            "5 पोइ\n",
            "6 ##न\n",
            "7 ##ट\n",
            "8 बिल\n",
            "9 ,\n",
            "10 खिल\n",
            "11 रातो\n",
            "12 टाउको\n",
            "13 र\n",
            "14 नप\n",
            "15 ,\n",
            "16 सत\n",
            "17 ##ो\n",
            "18 घाट\n",
            "19 ##ी\n",
            "20 र\n",
            "21 सत\n",
            "22 ##न\n",
            "23 ,\n",
            "24 र\n",
            "25 निलो\n",
            "26 सध\n",
            "27 ##ारको\n",
            "28 साथ\n",
            "29 एउटा\n",
            "30 चरा\n",
            "31 ,\n",
            "32 सत\n",
            "33 ##ो\n",
            "34 घाट\n",
            "35 ##ी\n",
            "36 ,\n",
            "37 र\n",
            "38 निलो\n",
            "39 सध\n",
            "40 ##ार\n",
            "41 ।\n",
            "42 [SEP]\n",
            "0 [CLS]\n",
            "1 निलो\n",
            "2 पख\n",
            "3 ##टा\n",
            "4 र\n",
            "5 खरो\n",
            "6 पट\n",
            "7 ,\n",
            "8 टाउको\n",
            "9 र\n",
            "10 नाम\n",
            "11 ##पस\n",
            "12 ##ग\n",
            "13 सत\n",
            "14 ##ो\n",
            "15 घाट\n",
            "16 ##ी\n",
            "17 र\n",
            "18 नाप\n",
            "19 ##नको\n",
            "20 साथ\n",
            "21 सत\n",
            "22 ##ो\n",
            "23 र\n",
            "24 नाप\n",
            "25 ##स\n",
            "26 छ\n",
            "27 ,\n",
            "28 र\n",
            "29 उज\n",
            "30 ##ज\n",
            "31 ##वल\n",
            "32 कालो\n",
            "33 र\n",
            "34 ##गी\n",
            "35 ##न\n",
            "36 र\n",
            "37 ##गको\n",
            "38 खट\n",
            "39 ##टा\n",
            "40 छ\n",
            "41 ।\n",
            "42 [SEP]\n",
            "0 [CLS]\n",
            "1 लामो\n",
            "2 बिल\n",
            "3 लामो\n",
            "4 बिल\n",
            "5 लामो\n",
            "6 बिल\n",
            "7 यसको\n",
            "8 बह\n",
            "9 ##मत\n",
            "10 ##का\n",
            "11 लागि\n",
            "12 खरो\n",
            "13 प\n",
            "14 ##वा\n",
            "15 ##ख\n",
            "16 ##हर\n",
            "17 छन\n",
            "18 ,\n",
            "19 ट\n",
            "20 ##ल\n",
            "21 को\n",
            "22 बाह\n",
            "23 ##क\n",
            "24 जन\n",
            "25 यसको\n",
            "26 पच\n",
            "27 ##छ\n",
            "28 ##र\n",
            "29 र\n",
            "30 पछाडि\n",
            "31 उप\n",
            "32 ##स\n",
            "33 ##थित\n",
            "34 छ\n",
            "35 ।\n",
            "36 [SEP]\n",
            "0 [CLS]\n",
            "1 यो\n",
            "2 एक\n",
            "3 चरा\n",
            "4 कक\n",
            "5 ##र\n",
            "6 ,\n",
            "7 निलो\n",
            "8 पख\n",
            "9 ##टा\n",
            "10 र\n",
            "11 एक\n",
            "12 ठ\n",
            "13 ##लो\n",
            "14 च\n",
            "15 ##च\n",
            "16 ##चो\n",
            "17 हो\n",
            "18 ।\n",
            "19 [SEP]\n",
            "0 [CLS]\n",
            "1 यो\n",
            "2 निलो\n",
            "3 पख\n",
            "4 ##टा\n",
            "5 र\n",
            "6 धर\n",
            "7 ठ\n",
            "8 ##लो\n",
            "9 च\n",
            "10 ##च\n",
            "11 ##चोक\n",
            "12 ##ो\n",
            "13 साथ\n",
            "14 खरो\n",
            "15 चरा\n",
            "16 हो\n",
            "17 ।\n",
            "18 [SEP]\n",
            "0 [CLS]\n",
            "1 एउटा\n",
            "2 सानो\n",
            "3 चरा\n",
            "4 मख\n",
            "5 ##य\n",
            "6 र\n",
            "7 ##पमा\n",
            "8 कालो\n",
            "9 शरीरलाई\n",
            "10 सत\n",
            "11 ##ो\n",
            "12 छातीमा\n",
            "13 चरा\n",
            "14 ,\n",
            "15 पख\n",
            "16 ##टा\n",
            "17 र\n",
            "18 धर\n",
            "19 लामो\n",
            "20 च\n",
            "21 ##च\n",
            "22 ##चो\n",
            "23 ##मा\n",
            "24 चमक\n",
            "25 ##िलो\n",
            "26 निलो\n",
            "27 पट\n",
            "28 ##टी\n",
            "29 ।\n",
            "30 [SEP]\n",
            "0 [CLS]\n",
            "1 यो\n",
            "2 एक\n",
            "3 सन\n",
            "4 ##दर\n",
            "5 सन\n",
            "6 ##तला\n",
            "7 -\n",
            "8 खरो\n",
            "9 पक\n",
            "10 ##षी\n",
            "11 उज\n",
            "12 ##याल\n",
            "13 ##ो\n",
            "14 नीलो\n",
            "15 पख\n",
            "16 ##टा\n",
            "17 ,\n",
            "18 f\n",
            "19 ##l\n",
            "20 ##ank\n",
            "21 र\n",
            "22 पच\n",
            "23 ##छ\n",
            "24 ##र\n",
            "25 ,\n",
            "26 र\n",
            "27 सत\n",
            "28 ##ो\n",
            "29 घाट\n",
            "30 ##ी\n",
            "31 को\n",
            "32 साथ\n",
            "33 ।\n",
            "34 [SEP]\n",
            "0 [CLS]\n",
            "1 र\n",
            "2 ##गी\n",
            "3 ##न\n",
            "4 बर\n",
            "5 ##ड\n",
            "6 ##सग\n",
            "7 ठ\n",
            "8 ##लो\n",
            "9 टाउको\n",
            "10 र\n",
            "11 च\n",
            "12 ##च\n",
            "13 ##चो\n",
            "14 ##मा\n",
            "15 छ\n",
            "16 जब\n",
            "17 यसको\n",
            "18 शरीरको\n",
            "19 तल\n",
            "20 ##नामा\n",
            "21 बरा\n",
            "22 ##उन\n",
            "23 मक\n",
            "24 ##ट\n",
            "25 र\n",
            "26 नाप\n",
            "27 ,\n",
            "28 द\n",
            "29 ##ई\n",
            "30 पख\n",
            "31 ##टा\n",
            "32 र\n",
            "33 रातो\n",
            "34 खट\n",
            "35 ##टाको\n",
            "36 साथ\n",
            "37 ।\n",
            "38 [SEP]\n",
            "0 [CLS]\n",
            "1 यो\n",
            "2 सानो\n",
            "3 चराको\n",
            "4 सन\n",
            "5 ##दर\n",
            "6 खरो\n",
            "7 र\n",
            "8 बल\n",
            "9 प\n",
            "10 ##वा\n",
            "11 ##ख\n",
            "12 ##हर\n",
            "13 छन\n",
            "14 ।\n",
            "15 च\n",
            "16 ##च\n",
            "17 ##चो\n",
            "18 कालो\n",
            "19 र\n",
            "20 रातो\n",
            "21 छ\n",
            "22 ,\n",
            "23 लामो\n",
            "24 र\n",
            "25 एक\n",
            "26 मध\n",
            "27 ##यम\n",
            "28 आकारको\n",
            "29 छप\n",
            "30 ##ारो\n",
            "31 समा\n",
            "32 ##तन\n",
            "33 पर\n",
            "34 ##या\n",
            "35 ##पत\n",
            "36 छ\n",
            "37 ।\n",
            "38 [SEP]\n",
            "0 [CLS]\n",
            "1 एक\n",
            "2 कालो\n",
            "3 चरा\n",
            "4 यसको\n",
            "5 यसको\n",
            "6 छाती\n",
            "7 र\n",
            "8 घाट\n",
            "9 ##ी\n",
            "10 र\n",
            "11 लामो\n",
            "12 रातो\n",
            "13 t\n",
            "14 ##ie\n",
            "15 ##d\n",
            "16 चक\n",
            "17 मा\n",
            "18 सत\n",
            "19 ##ो\n",
            "20 को\n",
            "21 एक\n",
            "22 कालो\n",
            "23 चरा\n",
            "24 ।\n",
            "25 [SEP]\n",
            "0 [CLS]\n",
            "1 सत\n",
            "2 ##ो\n",
            "3 अट\n",
            "4 ##टरको\n",
            "5 साथ\n",
            "6 एक\n",
            "7 सत\n",
            "8 ##ो\n",
            "9 अट\n",
            "10 ##टर\n",
            "11 सग\n",
            "12 एक\n",
            "13 खरो\n",
            "14 चरा\n",
            "15 ।\n",
            "16 लामो\n",
            "17 ,\n",
            "18 बाक\n",
            "19 ##लो\n",
            "20 च\n",
            "21 ##च\n",
            "22 ##चो\n",
            "23 [SEP]\n",
            "0 [CLS]\n",
            "1 चरा\n",
            "2 ##हर\n",
            "3 शरीर\n",
            "4 कालो\n",
            "5 पख\n",
            "6 ##टाको\n",
            "7 साथ\n",
            "8 खरो\n",
            "9 छ\n",
            "10 ।\n",
            "11 चरा\n",
            "12 ##हर\n",
            "13 बक\n",
            "14 चरा\n",
            "15 ##हर\n",
            "16 शरीरको\n",
            "17 लागि\n",
            "18 धर\n",
            "19 ठ\n",
            "20 ##लो\n",
            "21 छ\n",
            "22 ,\n",
            "23 यो\n",
            "24 लामो\n",
            "25 र\n",
            "26 सम\n",
            "27 ##तल\n",
            "28 ह\n",
            "29 ##न\n",
            "30 ##छ\n",
            "31 ।\n",
            "32 [SEP]\n",
            "0 [CLS]\n",
            "1 यो\n",
            "2 चराको\n",
            "3 गहिरो\n",
            "4 चक\n",
            "5 ##लट\n",
            "6 खरो\n",
            "7 मक\n",
            "8 ##ट\n",
            "9 ,\n",
            "10 गाला\n",
            "11 र\n",
            "12 पट\n",
            "13 छ\n",
            "14 सत\n",
            "15 ##ो\n",
            "16 घाट\n",
            "17 ##ी\n",
            "18 ,\n",
            "19 बरा\n",
            "20 ##उन\n",
            "21 ट\n",
            "22 ##रि\n",
            "23 ##प\n",
            "24 र\n",
            "25 एक\n",
            "26 धर\n",
            "27 ठ\n",
            "28 ##लो\n",
            "29 खरो\n",
            "30 च\n",
            "31 ##च\n",
            "32 ##चो\n",
            "33 ##मा\n",
            "34 ।\n",
            "35 [SEP]\n",
            "0 [CLS]\n",
            "1 चराको\n",
            "2 लामो\n",
            "3 रातो\n",
            "4 च\n",
            "5 ##च\n",
            "6 ##चो\n",
            "7 र\n",
            "8 निलो\n",
            "9 र\n",
            "10 खरो\n",
            "11 शरीरको\n",
            "12 मि\n",
            "13 ##शरण\n",
            "14 छ\n",
            "15 ।\n",
            "16 [SEP]\n",
            "0 [CLS]\n",
            "1 यो\n",
            "2 सत\n",
            "3 ##ो\n",
            "4 छाती\n",
            "5 र\n",
            "6 ठ\n",
            "7 ##लो\n",
            "8 च\n",
            "9 ##च\n",
            "10 ##चो\n",
            "11 भएको\n",
            "12 चरा\n",
            "13 हो\n",
            "14 ।\n",
            "15 [SEP]\n",
            "0 [CLS]\n",
            "1 यो\n",
            "2 खरो\n",
            "3 चराको\n",
            "4 ठ\n",
            "5 ##लो\n",
            "6 रातो\n",
            "7 च\n",
            "8 ##च\n",
            "9 ##चो\n",
            "10 र\n",
            "11 निलो\n",
            "12 गति\n",
            "13 ##सार\n",
            "14 र\n",
            "15 बाहिरी\n",
            "16 मला\n",
            "17 ##र\n",
            "18 ##टी\n",
            "19 ##हर\n",
            "20 छन\n",
            "21 ।\n",
            "22 [SEP]\n",
            "0 [CLS]\n",
            "1 यो\n",
            "2 खरो\n",
            "3 चराको\n",
            "4 रातो\n",
            "5 लामो\n",
            "6 च\n",
            "7 ##च\n",
            "8 ##चो\n",
            "9 र\n",
            "10 सत\n",
            "11 ##ो\n",
            "12 सत\n",
            "13 ##न\n",
            "14 क\n",
            "15 ##ष\n",
            "16 ##तर\n",
            "17 छ\n",
            "18 ।\n",
            "19 [SEP]\n",
            "0 [CLS]\n",
            "1 एक\n",
            "2 सत\n",
            "3 ##ो\n",
            "4 छाती\n",
            "5 ,\n",
            "6 चमक\n",
            "7 ##दार\n",
            "8 निलो\n",
            "9 परा\n",
            "10 ##इ\n",
            "11 ##म\n",
            "12 ##हर\n",
            "13 ,\n",
            "14 र\n",
            "15 खरो\n",
            "16 पक\n",
            "17 ##ष\n",
            "18 सग\n",
            "19 एक\n",
            "20 लामो\n",
            "21 फी\n",
            "22 ##ल\n",
            "23 बर\n",
            "24 ##ड\n",
            "25 ।\n",
            "26 [SEP]\n",
            "0 [CLS]\n",
            "1 सानो\n",
            "2 चरा\n",
            "3 खरो\n",
            "4 पट\n",
            "5 र\n",
            "6 पट\n",
            "7 ,\n",
            "8 सत\n",
            "9 ##ो\n",
            "10 र\n",
            "11 कालो\n",
            "12 सत\n",
            "13 ##न\n",
            "14 ,\n",
            "15 हल\n",
            "16 ##का\n",
            "17 एक\n",
            "18 ##वा\n",
            "19 ट\n",
            "20 ##ल\n",
            "21 फ\n",
            "22 ##दर\n",
            "23 ,\n",
            "24 पख\n",
            "25 ##टाका\n",
            "26 सल\n",
            "27 ##ला\n",
            "28 ##हह\n",
            "29 ##र\n",
            "30 ,\n",
            "31 र\n",
            "32 पछाडि\n",
            "33 सन\n",
            "34 ##तला\n",
            "35 -\n",
            "36 रातो\n",
            "37 फराकिलो\n",
            "38 ,\n",
            "39 रातो\n",
            "40 फराकिलो\n",
            "41 छ\n",
            "42 ।\n",
            "43 [SEP]\n",
            "0 [CLS]\n",
            "1 यो\n",
            "2 चराको\n",
            "3 रातो\n",
            "4 सा\n",
            "5 ##ढ\n",
            "6 र\n",
            "7 पट\n",
            "8 ##मा\n",
            "9 कालो\n",
            "10 टाउको\n",
            "11 छ\n",
            "12 ,\n",
            "13 कालो\n",
            "14 र\n",
            "15 निलो\n",
            "16 शरीर\n",
            "17 ।\n",
            "18 [SEP]\n",
            "0 [CLS]\n",
            "1 सत\n",
            "2 ##ो\n",
            "3 सत\n",
            "4 ##न\n",
            "5 र\n",
            "6 तर\n",
            "7 ##ध\n",
            "8 ##को\n",
            "9 साथ\n",
            "10 लामो\n",
            "11 रातो\n",
            "12 वर\n",
            "13 ##ो\n",
            "14 व\n",
            "15 ##क\n",
            "16 पट\n",
            "17 ##टी\n",
            "18 ।\n",
            "19 [SEP]\n",
            "0 [CLS]\n",
            "1 यो\n",
            "2 ठ\n",
            "3 ##लो\n",
            "4 रातो\n",
            "5 च\n",
            "6 ##च\n",
            "7 ##चोक\n",
            "8 ##ो\n",
            "9 साथ\n",
            "10 सानो\n",
            "11 चरा\n",
            "12 हो\n",
            "13 ,\n",
            "14 अरब\n",
            "15 ##रन\n",
            "16 र\n",
            "17 c\n",
            "18 ##ol\n",
            "19 ##or\n",
            "20 ग\n",
            "21 ##को\n",
            "22 टाउको\n",
            "23 र\n",
            "24 पटक\n",
            "25 ##ो\n",
            "26 साथ\n",
            "27 पट\n",
            "28 ,\n",
            "29 र\n",
            "30 जीवन\n",
            "31 ##त\n",
            "32 इ\n",
            "33 ##लक\n",
            "34 ##टर\n",
            "35 ##िक\n",
            "36 निलो\n",
            "37 पछाडि\n",
            "38 र\n",
            "39 प\n",
            "40 ##वा\n",
            "41 ##ख\n",
            "42 ##हर\n",
            "43 ।\n",
            "44 [SEP]\n",
            "0 [CLS]\n",
            "1 चराको\n",
            "2 रातो\n",
            "3 बिल\n",
            "4 र\n",
            "5 एउटा\n",
            "6 सानो\n",
            "7 कालो\n",
            "8 अ\n",
            "9 ##यर\n",
            "10 हद\n",
            "11 ##छ\n",
            "12 ।\n",
            "13 [SEP]\n",
            "0 [CLS]\n",
            "1 चराको\n",
            "2 एक\n",
            "3 सन\n",
            "4 ##तला\n",
            "5 मला\n",
            "6 छ\n",
            "7 जन\n",
            "8 यसको\n",
            "9 शरीरको\n",
            "10 तल\n",
            "11 ##नामा\n",
            "12 लामो\n",
            "13 ह\n",
            "14 ##न\n",
            "15 ##छ\n",
            "16 ,\n",
            "17 यसको\n",
            "18 सत\n",
            "19 ##ो\n",
            "20 घाट\n",
            "21 ##ी\n",
            "22 ,\n",
            "23 खरो\n",
            "24 पट\n",
            "25 र\n",
            "26 पट\n",
            "27 छ\n",
            "28 ।\n",
            "29 [SEP]\n",
            "0 [CLS]\n",
            "1 यो\n",
            "2 चरा\n",
            "3 खरो\n",
            "4 छ\n",
            "5 र\n",
            "6 रातो\n",
            "7 बिल\n",
            "8 सग\n",
            "9 सत\n",
            "10 ##ो\n",
            "11 सत\n",
            "12 ##न\n",
            "13 छ\n",
            "14 [SEP]\n",
            "0 [CLS]\n",
            "1 यो\n",
            "2 चरा\n",
            "3 उज\n",
            "4 ##याल\n",
            "5 ##ो\n",
            "6 निलो\n",
            "7 र\n",
            "8 कालो\n",
            "9 ठ\n",
            "10 ##लो\n",
            "11 बिल\n",
            "12 ##को\n",
            "13 साथ\n",
            "14 कालो\n",
            "15 छ\n",
            "16 ।\n",
            "17 [SEP]\n",
            "0 [CLS]\n",
            "1 यो\n",
            "2 बाक\n",
            "3 ##लो\n",
            "4 बाक\n",
            "5 ##लो\n",
            "6 र\n",
            "7 नीलो\n",
            "8 पख\n",
            "9 ##टा\n",
            "10 चराको\n",
            "11 आफनो\n",
            "12 च\n",
            "13 ##च\n",
            "14 ##चोक\n",
            "15 ##ो\n",
            "16 तल\n",
            "17 ##नामा\n",
            "18 धर\n",
            "19 सानो\n",
            "20 शरीर\n",
            "21 छ\n",
            "22 ।\n",
            "23 [SEP]\n",
            "0 [CLS]\n",
            "1 एक\n",
            "2 मध\n",
            "3 ##यम\n",
            "4 खरो\n",
            "5 चरा\n",
            "6 र\n",
            "7 कालो\n",
            "8 प\n",
            "9 ##वा\n",
            "10 ##ख\n",
            "11 ##हरको\n",
            "12 साथ\n",
            "13 एक\n",
            "14 मध\n",
            "15 ##यम\n",
            "16 खरो\n",
            "17 चरा\n",
            "18 ।\n",
            "19 [SEP]\n",
            "0 [CLS]\n",
            "1 कालो\n",
            "2 चरा\n",
            "3 सत\n",
            "4 ##ो\n",
            "5 घाट\n",
            "6 ##ी\n",
            "7 र\n",
            "8 निलो\n",
            "9 पछाडिको\n",
            "10 साथ\n",
            "11 ##को\n",
            "12 बाक\n",
            "13 ##लो\n",
            "14 बस\n",
            "15 ##सग\n",
            "16 पोइ\n",
            "17 ##न\n",
            "18 ##ट\n",
            "19 बिल\n",
            "20 छ\n",
            "21 ।\n",
            "22 [SEP]\n",
            "0 [CLS]\n",
            "1 एक\n",
            "2 मध\n",
            "3 ##यम\n",
            "4 आकारको\n",
            "5 चरा\n",
            "6 धर\n",
            "7 ठ\n",
            "8 ##लो\n",
            "9 र\n",
            "10 बाक\n",
            "11 ##लो\n",
            "12 रातो\n",
            "13 बिल\n",
            "14 ##को\n",
            "15 साथ\n",
            "16 [SEP]\n",
            "0 [CLS]\n",
            "1 चमक\n",
            "2 ##िलो\n",
            "3 र\n",
            "4 ##गको\n",
            "5 चरा\n",
            "6 अत\n",
            "7 ##यन\n",
            "8 ##त\n",
            "9 लामो\n",
            "10 रातो\n",
            "11 बिल\n",
            "12 र\n",
            "13 सन\n",
            "14 ##तला\n",
            "15 खट\n",
            "16 ##टाको\n",
            "17 साथ\n",
            "18 [SEP]\n",
            "0 [CLS]\n",
            "1 धर\n",
            "2 ठ\n",
            "3 ##लो\n",
            "4 सग\n",
            "5 -\n",
            "6 यसको\n",
            "7 सम\n",
            "8 ##गर\n",
            "9 आकारको\n",
            "10 तल\n",
            "11 ##नामा\n",
            "12 -\n",
            "13 रातो\n",
            "14 च\n",
            "15 ##च\n",
            "16 ##चोक\n",
            "17 ##ो\n",
            "18 तल\n",
            "19 ##नामा\n",
            "20 यो\n",
            "21 चरा\n",
            "22 ##ल\n",
            "23 सत\n",
            "24 ##ो\n",
            "25 सत\n",
            "26 ##न\n",
            "27 र\n",
            "28 खिया\n",
            "29 र\n",
            "30 ##गको\n",
            "31 शरीर\n",
            "32 पर\n",
            "33 ##सत\n",
            "34 ##त\n",
            "35 गर\n",
            "36 ##दछ\n",
            "37 ।\n",
            "38 [SEP]\n",
            "0 [CLS]\n",
            "1 यसको\n",
            "2 पछाडि\n",
            "3 र\n",
            "4 पच\n",
            "5 ##छ\n",
            "6 ##र\n",
            "7 र\n",
            "8 ठ\n",
            "9 ##लो\n",
            "10 च\n",
            "11 ##च\n",
            "12 ##चो\n",
            "13 ##मा\n",
            "14 निलो\n",
            "15 पछाडि\n",
            "16 र\n",
            "17 ##गी\n",
            "18 ##न\n",
            "19 चरा\n",
            "20 ।\n",
            "21 [SEP]\n",
            "0 [CLS]\n",
            "1 एक\n",
            "2 अद\n",
            "3 ##वित\n",
            "4 ##ीय\n",
            "5 र\n",
            "6 ##गी\n",
            "7 ##न\n",
            "8 चरा\n",
            "9 ,\n",
            "10 एकदम\n",
            "11 सानो\n",
            "12 तर\n",
            "13 विश\n",
            "14 ##ष\n",
            "15 गरी\n",
            "16 लामो\n",
            "17 रातो\n",
            "18 च\n",
            "19 ##च\n",
            "20 ##चोक\n",
            "21 ##ो\n",
            "22 साथ\n",
            "23 ,\n",
            "24 र\n",
            "25 एक\n",
            "26 ##वा\n",
            "27 प\n",
            "28 ##वा\n",
            "29 ##ख\n",
            "30 ##हर\n",
            "31 पछाडि\n",
            "32 पछाडि\n",
            "33 ।\n",
            "34 [SEP]\n",
            "0 [CLS]\n",
            "1 यो\n",
            "2 चराको\n",
            "3 बरा\n",
            "4 ##उन\n",
            "5 शरीरको\n",
            "6 साथ\n",
            "7 लामो\n",
            "8 रातो\n",
            "9 बिल\n",
            "10 छ\n",
            "11 ,\n",
            "12 पख\n",
            "13 ##टामा\n",
            "14 पट\n",
            "15 र\n",
            "16 निलो\n",
            "17 ##मा\n",
            "18 सत\n",
            "19 ##ो\n",
            "20 र\n",
            "21 निलो\n",
            "22 ##मा\n",
            "23 सत\n",
            "24 ##ो\n",
            "25 ।\n",
            "26 [SEP]\n",
            "0 [CLS]\n",
            "1 चरा\n",
            "2 ##सग\n",
            "3 धर\n",
            "4 लज\n",
            "5 बर\n",
            "6 ##सिक\n",
            "7 ##ल\n",
            "8 बिल\n",
            "9 ,\n",
            "10 खरो\n",
            "11 मक\n",
            "12 ##ट\n",
            "13 ,\n",
            "14 र\n",
            "15 यसको\n",
            "16 पछाडि\n",
            "17 र\n",
            "18 परि\n",
            "19 ##नस\n",
            "20 ##िट\n",
            "21 ##ी\n",
            "22 र\n",
            "23 श\n",
            "24 ##लय\n",
            "25 ##कर\n",
            "26 ##िया\n",
            "27 ##हर\n",
            "28 ##मा\n",
            "29 निलो\n",
            "30 पल\n",
            "31 ##म\n",
            "32 ##ज\n",
            "33 छ\n",
            "34 [SEP]\n",
            "0 [CLS]\n",
            "1 यो\n",
            "2 चमक\n",
            "3 ##िलो\n",
            "4 र\n",
            "5 ##गी\n",
            "6 ##न\n",
            "7 रातो\n",
            "8 मक\n",
            "9 ##ट\n",
            "10 र\n",
            "11 पट\n",
            "12 ,\n",
            "13 निलो\n",
            "14 पख\n",
            "15 ##टा\n",
            "16 ,\n",
            "17 र\n",
            "18 लामो\n",
            "19 ,\n",
            "20 फल\n",
            "21 ##या\n",
            "22 ##ट\n",
            "23 रड\n",
            "24 बिल\n",
            "25 छ\n",
            "26 ।\n",
            "27 [SEP]\n",
            "0 [CLS]\n",
            "1 यो\n",
            "2 शानदार\n",
            "3 नम\n",
            "4 ##ना\n",
            "5 एक\n",
            "6 रातो\n",
            "7 पट\n",
            "8 र\n",
            "9 सत\n",
            "10 ##न\n",
            "11 निलो\n",
            "12 पख\n",
            "13 ##टा\n",
            "14 र\n",
            "15 पच\n",
            "16 ##छ\n",
            "17 ##र\n",
            "18 छ\n",
            "19 ।\n",
            "20 [SEP]\n",
            "0 [CLS]\n",
            "1 यो\n",
            "2 चराको\n",
            "3 सत\n",
            "4 ##ो\n",
            "5 सत\n",
            "6 ##न\n",
            "7 ,\n",
            "8 रातो\n",
            "9 मक\n",
            "10 ##ट\n",
            "11 ,\n",
            "12 कालो\n",
            "13 सप\n",
            "14 ##र\n",
            "15 ##विल\n",
            "16 ##ियर\n",
            "17 ##ी\n",
            "18 ,\n",
            "19 कालो\n",
            "20 ,\n",
            "21 कालो\n",
            "22 ,\n",
            "23 र\n",
            "24 निलो\n",
            "25 पख\n",
            "26 ##टा\n",
            "27 सग\n",
            "28 छ\n",
            "29 ।\n",
            "30 [SEP]\n",
            "0 [CLS]\n",
            "1 एक\n",
            "2 र\n",
            "3 ##गी\n",
            "4 ##न\n",
            "5 खरो\n",
            "6 र\n",
            "7 निलो\n",
            "8 चरा\n",
            "9 ठ\n",
            "10 ##लो\n",
            "11 टाउको\n",
            "12 र\n",
            "13 लामो\n",
            "14 रातो\n",
            "15 बिल\n",
            "16 सग\n",
            "17 ।\n",
            "18 [SEP]\n",
            "0 [CLS]\n",
            "1 यो\n",
            "2 र\n",
            "3 ##गी\n",
            "4 ##न\n",
            "5 नम\n",
            "6 ##ना\n",
            "7 एक\n",
            "8 खिया\n",
            "9 र\n",
            "10 ##गको\n",
            "11 पट\n",
            "12 ,\n",
            "13 मक\n",
            "14 ##ट\n",
            "15 ,\n",
            "16 र\n",
            "17 नापी\n",
            "18 निलो\n",
            "19 परा\n",
            "20 ##न\n",
            "21 ##तह\n",
            "22 ##र\n",
            "23 र\n",
            "24 य\n",
            "25 ##द\n",
            "26 ##ध\n",
            "27 ,\n",
            "28 र\n",
            "29 पच\n",
            "30 ##छ\n",
            "31 ##र\n",
            "32 सग\n",
            "33 उच\n",
            "34 ##चार\n",
            "35 ##ण\n",
            "36 गरिएको\n",
            "37 छ\n",
            "38 ।\n",
            "39 [SEP]\n",
            "0 [CLS]\n",
            "1 चरा\n",
            "2 ##हरको\n",
            "3 टाउको\n",
            "4 सत\n",
            "5 ##ो\n",
            "6 बी\n",
            "7 ##म\n",
            "8 ##क\n",
            "9 पहल\n",
            "10 ##ो\n",
            "11 र\n",
            "12 पख\n",
            "13 ##टा\n",
            "14 हो\n",
            "15 खरो\n",
            "16 खट\n",
            "17 ##टा\n",
            "18 सन\n",
            "19 ##तला\n",
            "20 र\n",
            "21 छोटो\n",
            "22 छ\n",
            "23 ।\n",
            "24 [SEP]\n",
            "0 [CLS]\n",
            "1 यो\n",
            "2 चराको\n",
            "3 पहल\n",
            "4 ##ो\n",
            "5 पहल\n",
            "6 ##ो\n",
            "7 बिल\n",
            "8 गर\n",
            "9 ##हर\n",
            "10 परा\n",
            "11 ##इ\n",
            "12 ##मरी\n",
            "13 ##हर\n",
            "14 र\n",
            "15 सत\n",
            "16 ##ो\n",
            "17 सत\n",
            "18 ##न\n",
            "19 र\n",
            "20 शरीर\n",
            "21 छ\n",
            "22 ।\n",
            "23 [SEP]\n",
            "0 [CLS]\n",
            "1 एक\n",
            "2 मध\n",
            "3 ##यम\n",
            "4 आकारको\n",
            "5 सत\n",
            "6 ##ो\n",
            "7 चरा\n",
            "8 ,\n",
            "9 कालो\n",
            "10 टिप\n",
            "11 ##ड\n",
            "12 पख\n",
            "13 ##टा\n",
            "14 र\n",
            "15 सा\n",
            "16 ##घर\n",
            "17 ##ो\n",
            "18 पहल\n",
            "19 ##ो\n",
            "20 च\n",
            "21 ##च\n",
            "22 ##चो\n",
            "23 सग\n",
            "24 [SEP]\n",
            "0 [CLS]\n",
            "1 चराको\n",
            "2 सत\n",
            "3 ##ो\n",
            "4 टाउको\n",
            "5 छ\n",
            "6 र\n",
            "7 पहल\n",
            "8 ##ो\n",
            "9 घ\n",
            "10 ##माइ\n",
            "11 ##एको\n",
            "12 च\n",
            "13 ##च\n",
            "14 ##चोक\n",
            "15 ##ो\n",
            "16 साथ\n",
            "17 रातो\n",
            "18 अ\n",
            "19 ##यर\n",
            "20 ##रि\n",
            "21 ##ग\n",
            "22 छ\n",
            "23 ।\n",
            "24 [SEP]\n",
            "0 [CLS]\n",
            "1 यो\n",
            "2 ठ\n",
            "3 ##लो\n",
            "4 हड\n",
            "5 लडाई\n",
            "6 चराको\n",
            "7 पहल\n",
            "8 ##ो\n",
            "9 च\n",
            "10 ##च\n",
            "11 ##चो\n",
            "12 र\n",
            "13 सन\n",
            "14 ##तला\n",
            "15 खट\n",
            "16 ##टा\n",
            "17 थियो\n",
            "18 ।\n",
            "19 [SEP]\n",
            "0 [CLS]\n",
            "1 यो\n",
            "2 खरो\n",
            "3 पख\n",
            "4 ##टा\n",
            "5 र\n",
            "6 पहल\n",
            "7 ##ो\n",
            "8 च\n",
            "9 ##च\n",
            "10 ##चोक\n",
            "11 ##ो\n",
            "12 साथ\n",
            "13 सत\n",
            "14 ##ो\n",
            "15 चरा\n",
            "16 हो\n",
            "17 ।\n",
            "18 [SEP]\n",
            "0 [CLS]\n",
            "1 चराको\n",
            "2 सत\n",
            "3 ##ो\n",
            "4 टाउको\n",
            "5 र\n",
            "6 पच\n",
            "7 ##छ\n",
            "8 ##र\n",
            "9 ,\n",
            "10 खरो\n",
            "11 पख\n",
            "12 ##टा\n",
            "13 र\n",
            "14 रातो\n",
            "15 तारा\n",
            "16 ##स\n",
            "17 र\n",
            "18 खट\n",
            "19 ##टा\n",
            "20 छ\n",
            "21 ।\n",
            "22 [SEP]\n",
            "0 [CLS]\n",
            "1 यो\n",
            "2 जवान\n",
            "3 चरा\n",
            "4 कालो\n",
            "5 च\n",
            "6 ##च\n",
            "7 ##चो\n",
            "8 सग\n",
            "9 सत\n",
            "10 ##ो\n",
            "11 र\n",
            "12 अस\n",
            "13 ##प\n",
            "14 ##ष\n",
            "15 ##ट\n",
            "16 छ\n",
            "17 ।\n",
            "18 [SEP]\n",
            "0 [CLS]\n",
            "1 यो\n",
            "2 सत\n",
            "3 ##ो\n",
            "4 चराको\n",
            "5 खरो\n",
            "6 पख\n",
            "7 ##टा\n",
            "8 छ\n",
            "9 ,\n",
            "10 एक\n",
            "11 दल\n",
            "12 पहल\n",
            "13 ##ो\n",
            "14 पहल\n",
            "15 ##ो\n",
            "16 खान\n",
            "17 ##होस\n",
            "18 ,\n",
            "19 र\n",
            "20 चमक\n",
            "21 ##िलो\n",
            "22 रातो\n",
            "23 व\n",
            "24 ##ब\n",
            "25 ##ब\n",
            "26 ।\n",
            "27 [SEP]\n",
            "0 [CLS]\n",
            "1 चरा\n",
            "2 मध\n",
            "3 ##यम\n",
            "4 आकारको\n",
            "5 छ\n",
            "6 ,\n",
            "7 कालो\n",
            "8 र\n",
            "9 सत\n",
            "10 ##ो\n",
            "11 र\n",
            "12 ##ग\n",
            "13 ##हर\n",
            "14 ,\n",
            "15 र\n",
            "16 बाक\n",
            "17 ##लो\n",
            "18 पहल\n",
            "19 ##ो\n",
            "20 च\n",
            "21 ##च\n",
            "22 ##चो\n",
            "23 छ\n",
            "24 जन\n",
            "25 तल\n",
            "26 घ\n",
            "27 ##मा\n",
            "28 ##उ\n",
            "29 ##दछ\n",
            "30 ।\n",
            "31 [SEP]\n",
            "0 [CLS]\n",
            "1 चराको\n",
            "2 सत\n",
            "3 ##ो\n",
            "4 सत\n",
            "5 ##न\n",
            "6 र\n",
            "7 पटक\n",
            "8 ##ो\n",
            "9 साथ\n",
            "10 साथ\n",
            "11 सानो\n",
            "12 अ\n",
            "13 ##यर\n",
            "14 ##ोको\n",
            "15 र\n",
            "16 ##पमा\n",
            "17 छ\n",
            "18 ।\n",
            "19 [SEP]\n",
            "0 [CLS]\n",
            "1 यी\n",
            "2 चरा\n",
            "3 ##हर\n",
            "4 वास\n",
            "5 ##त\n",
            "6 ##व\n",
            "7 ##म\n",
            "8 उज\n",
            "9 ##याल\n",
            "10 ##ो\n",
            "11 सन\n",
            "12 ##तला\n",
            "13 खट\n",
            "14 ##टाको\n",
            "15 साथ\n",
            "16 लामो\n",
            "17 पख\n",
            "18 ##टा\n",
            "19 छन\n",
            "20 ।\n",
            "21 [SEP]\n",
            "0 [CLS]\n",
            "1 यो\n",
            "2 चराको\n",
            "3 शरीर\n",
            "4 श\n",
            "5 ##द\n",
            "6 ##ध\n",
            "7 सत\n",
            "8 ##ो\n",
            "9 छ\n",
            "10 ,\n",
            "11 र\n",
            "12 यो\n",
            "13 पख\n",
            "14 ##टा\n",
            "15 सत\n",
            "16 ##ो\n",
            "17 परा\n",
            "18 ##इ\n",
            "19 ##मको\n",
            "20 साथ\n",
            "21 नरम\n",
            "22 खरो\n",
            "23 हो\n",
            "24 ।\n",
            "25 [SEP]\n",
            "0 [CLS]\n",
            "1 पहल\n",
            "2 ##ो\n",
            "3 बक\n",
            "4 ##सग\n",
            "5 ,\n",
            "6 यो\n",
            "7 सत\n",
            "8 ##ो\n",
            "9 -\n",
            "10 बोल\n",
            "11 ##टको\n",
            "12 चराको\n",
            "13 खरानी\n",
            "14 परा\n",
            "15 ##इ\n",
            "16 ##मरी\n",
            "17 र\n",
            "18 गतिशील\n",
            "19 छ\n",
            "20 ।\n",
            "21 [SEP]\n",
            "0 [CLS]\n",
            "1 यो\n",
            "2 चराको\n",
            "3 कालो\n",
            "4 आखा\n",
            "5 ,\n",
            "6 सत\n",
            "7 ##ो\n",
            "8 मक\n",
            "9 ##ट\n",
            "10 र\n",
            "11 सन\n",
            "12 ##तला\n",
            "13 तारा\n",
            "14 ##स\n",
            "15 र\n",
            "16 खट\n",
            "17 ##टा\n",
            "18 छन\n",
            "19 ।\n",
            "20 [SEP]\n",
            "0 [CLS]\n",
            "1 यो\n",
            "2 खरो\n",
            "3 पख\n",
            "4 ##टाको\n",
            "5 साथ\n",
            "6 सत\n",
            "7 ##ो\n",
            "8 चरा\n",
            "9 हो\n",
            "10 जन\n",
            "11 कालो\n",
            "12 सल\n",
            "13 ##ला\n",
            "14 ##हह\n",
            "15 ##र\n",
            "16 छन\n",
            "17 ।\n",
            "18 [SEP]\n",
            "0 [CLS]\n",
            "1 चराको\n",
            "2 नत\n",
            "3 ##त\n",
            "4 ##वमा\n",
            "5 र\n",
            "6 आन\n",
            "7 ##पात\n",
            "8 ##िक\n",
            "9 यसको\n",
            "10 शरीर\n",
            "11 ##तर\n",
            "12 ##फ\n",
            "13 लाग\n",
            "14 ##छ\n",
            "15 ,\n",
            "16 यसको\n",
            "17 पहल\n",
            "18 ##ो\n",
            "19 च\n",
            "20 ##च\n",
            "21 ##चो\n",
            "22 र\n",
            "23 रातो\n",
            "24 खट\n",
            "25 ##टा\n",
            "26 र\n",
            "27 सत\n",
            "28 ##ो\n",
            "29 शरीर\n",
            "30 छ\n",
            "31 ।\n",
            "32 [SEP]\n",
            "0 [CLS]\n",
            "1 सानो\n",
            "2 गोला\n",
            "3 ##कार\n",
            "4 बिल\n",
            "5 ,\n",
            "6 कालो\n",
            "7 परा\n",
            "8 ##इ\n",
            "9 ##मरी\n",
            "10 ,\n",
            "11 र\n",
            "12 सत\n",
            "13 ##ो\n",
            "14 शरीर\n",
            "15 सग\n",
            "16 एक\n",
            "17 चरा\n",
            "18 [SEP]\n",
            "0 [CLS]\n",
            "1 सन\n",
            "2 ##तला\n",
            "3 खट\n",
            "4 ##टा\n",
            "5 र\n",
            "6 खरो\n",
            "7 गतिरोध\n",
            "8 र\n",
            "9 परा\n",
            "10 ##इ\n",
            "11 ##मरी\n",
            "12 ##को\n",
            "13 साथ\n",
            "14 एक\n",
            "15 सत\n",
            "16 ##ो\n",
            "17 ठ\n",
            "18 ##लो\n",
            "19 चरा\n",
            "20 ,\n",
            "21 र\n",
            "22 एक\n",
            "23 छोटो\n",
            "24 पहल\n",
            "25 ##ो\n",
            "26 बिल\n",
            "27 ।\n",
            "28 [SEP]\n",
            "0 [CLS]\n",
            "1 सत\n",
            "2 ##ो\n",
            "3 चरा\n",
            "4 ##सग\n",
            "5 सन\n",
            "6 ##तला\n",
            "7 खट\n",
            "8 ##टा\n",
            "9 छ\n",
            "10 र\n",
            "11 बिल\n",
            "12 पहल\n",
            "13 ##ो\n",
            "14 पहल\n",
            "15 ##ो\n",
            "16 छ\n",
            "17 ।\n",
            "18 [SEP]\n",
            "0 [CLS]\n",
            "1 सन\n",
            "2 ##तला\n",
            "3 फाउ\n",
            "4 ##न\n",
            "5 ##ड\n",
            "6 ##ड\n",
            "7 सिन\n",
            "8 ##डि\n",
            "9 ##ग\n",
            "10 फाउ\n",
            "11 ##न\n",
            "12 ##डल\n",
            "13 सम\n",
            "14 ##दरमा\n",
            "15 माछा\n",
            "16 खोज\n",
            "17 ##द\n",
            "18 छ\n",
            "19 ।\n",
            "20 [SEP]\n",
            "0 [CLS]\n",
            "1 चरा\n",
            "2 ##ल\n",
            "3 खट\n",
            "4 ##टा\n",
            "5 हब\n",
            "6 ##बर\n",
            "7 गरको\n",
            "8 छ\n",
            "9 जन\n",
            "10 रातो\n",
            "11 पहल\n",
            "12 ##ो\n",
            "13 बिल\n",
            "14 हो\n",
            "15 ।\n",
            "16 [SEP]\n",
            "0 [CLS]\n",
            "1 एक\n",
            "2 डाउन\n",
            "3 ##ठ\n",
            "4 ##रको\n",
            "5 पल\n",
            "6 ##ट\n",
            "7 ##ड\n",
            "8 बिल\n",
            "9 ,\n",
            "10 सत\n",
            "11 ##ो\n",
            "12 टाउको\n",
            "13 र\n",
            "14 सत\n",
            "15 ##न\n",
            "16 ,\n",
            "17 र\n",
            "18 खरो\n",
            "19 पख\n",
            "20 ##टाको\n",
            "21 साथ\n",
            "22 एउटा\n",
            "23 चरा\n",
            "24 ।\n",
            "25 [SEP]\n",
            "0 [CLS]\n",
            "1 एक\n",
            "2 सत\n",
            "3 ##ो\n",
            "4 चरा\n",
            "5 ,\n",
            "6 पहल\n",
            "7 ##ो\n",
            "8 च\n",
            "9 ##च\n",
            "10 ##चो\n",
            "11 र\n",
            "12 सन\n",
            "13 ##तला\n",
            "14 खट\n",
            "15 ##टा\n",
            "16 सग\n",
            "17 ।\n",
            "18 [SEP]\n",
            "0 [CLS]\n",
            "1 चरा\n",
            "2 र\n",
            "3 पटक\n",
            "4 ##ो\n",
            "5 पट\n",
            "6 सत\n",
            "7 ##ो\n",
            "8 छ\n",
            "9 र\n",
            "10 पहल\n",
            "11 ##ो\n",
            "12 च\n",
            "13 ##च\n",
            "14 ##चो\n",
            "15 घ\n",
            "16 ##मको\n",
            "17 छ\n",
            "18 ।\n",
            "19 [SEP]\n",
            "0 [CLS]\n",
            "1 यो\n",
            "2 सत\n",
            "3 ##ो\n",
            "4 चरा\n",
            "5 ##सग\n",
            "6 लामो\n",
            "7 पख\n",
            "8 ##टा\n",
            "9 ##हर\n",
            "10 लामो\n",
            "11 पख\n",
            "12 ##टा\n",
            "13 ##हर\n",
            "14 र\n",
            "15 छोटो\n",
            "16 पहल\n",
            "17 ##ो\n",
            "18 बक\n",
            "19 ,\n",
            "20 सर\n",
            "21 ##का\n",
            "22 खट\n",
            "23 ##टा\n",
            "24 ##हर\n",
            "25 र\n",
            "26 कालो\n",
            "27 थिए\n",
            "28 ।\n",
            "29 [SEP]\n",
            "0 [CLS]\n",
            "1 लामो\n",
            "2 पहल\n",
            "3 ##ो\n",
            "4 च\n",
            "5 ##च\n",
            "6 ##चो\n",
            "7 र\n",
            "8 रातो\n",
            "9 खट\n",
            "10 ##टा\n",
            "11 र\n",
            "12 खरो\n",
            "13 नीलो\n",
            "14 पख\n",
            "15 ##टा\n",
            "16 फ\n",
            "17 ##दरको\n",
            "18 साथ\n",
            "19 सत\n",
            "20 ##ो\n",
            "21 चरा\n",
            "22 [SEP]\n",
            "0 [CLS]\n",
            "1 चरा\n",
            "2 ##ल\n",
            "3 खट\n",
            "4 ##टा\n",
            "5 हब\n",
            "6 ##बर\n",
            "7 ##ट\n",
            "8 गर\n",
            "9 ##दछ\n",
            "10 जन\n",
            "11 सन\n",
            "12 ##तला\n",
            "13 र\n",
            "14 पहल\n",
            "15 ##ो\n",
            "16 बिल\n",
            "17 ह\n",
            "18 ##न\n",
            "19 ##छ\n",
            "20 ।\n",
            "21 [SEP]\n",
            "0 [CLS]\n",
            "1 यो\n",
            "2 सत\n",
            "3 ##ो\n",
            "4 र\n",
            "5 खरो\n",
            "6 एक\n",
            "7 सानो\n",
            "8 फल\n",
            "9 ##ट\n",
            "10 बिल\n",
            "11 ,\n",
            "12 र\n",
            "13 एक\n",
            "14 खरो\n",
            "15 पख\n",
            "16 ##टा\n",
            "17 सग\n",
            "18 [SEP]\n",
            "0 [CLS]\n",
            "1 एउटा\n",
            "2 चरा\n",
            "3 ##सग\n",
            "4 सत\n",
            "5 ##ो\n",
            "6 पट\n",
            "7 ,\n",
            "8 चमक\n",
            "9 ##िलो\n",
            "10 सन\n",
            "11 ##तला\n",
            "12 ##र\n",
            "13 वम\n",
            "14 ##बल\n",
            "15 ह\n",
            "16 ##न\n",
            "17 ##छ\n",
            "18 ,\n",
            "19 र\n",
            "20 गाढा\n",
            "21 खरो\n",
            "22 पछाडि\n",
            "23 ।\n",
            "24 [SEP]\n",
            "0 [CLS]\n",
            "1 एउटा\n",
            "2 सानो\n",
            "3 आकारको\n",
            "4 चरा\n",
            "5 जन\n",
            "6 एक\n",
            "7 सत\n",
            "8 ##ो\n",
            "9 पट\n",
            "10 र\n",
            "11 मध\n",
            "12 ##यम\n",
            "13 आकारको\n",
            "14 घ\n",
            "15 ##मा\n",
            "16 ##उरो\n",
            "17 बिल\n",
            "18 छ\n",
            "19 [SEP]\n",
            "0 [CLS]\n",
            "1 यो\n",
            "2 चराको\n",
            "3 सत\n",
            "4 ##ो\n",
            "5 पट\n",
            "6 ,\n",
            "7 सत\n",
            "8 ##न\n",
            "9 ,\n",
            "10 र\n",
            "11 टाउको\n",
            "12 छ\n",
            "13 ,\n",
            "14 जसको\n",
            "15 अन\n",
            "16 ##त\n",
            "17 ##यमा\n",
            "18 घ\n",
            "19 ##माइ\n",
            "20 ##एको\n",
            "21 छ\n",
            "22 ।\n",
            "23 यसको\n",
            "24 खरो\n",
            "25 पख\n",
            "26 ##टा\n",
            "27 र\n",
            "28 रातो\n",
            "29 खट\n",
            "30 ##टाको\n",
            "31 साथ\n",
            "32 पच\n",
            "33 ##छ\n",
            "34 ##र\n",
            "35 छ\n",
            "36 ।\n",
            "37 [SEP]\n",
            "0 [CLS]\n",
            "1 ठोस\n",
            "2 सत\n",
            "3 ##ो\n",
            "4 चरा\n",
            "5 र\n",
            "6 उज\n",
            "7 ##याल\n",
            "8 ##ो\n",
            "9 सन\n",
            "10 ##तला\n",
            "11 खट\n",
            "12 ##टाको\n",
            "13 साथ\n",
            "14 ठोस\n",
            "15 सत\n",
            "16 ##ो\n",
            "17 चरा\n",
            "18 ।\n",
            "19 [SEP]\n",
            "0 [CLS]\n",
            "1 एक\n",
            "2 सत\n",
            "3 ##ो\n",
            "4 टाउको\n",
            "5 ,\n",
            "6 सत\n",
            "7 ##न\n",
            "8 र\n",
            "9 पट\n",
            "10 ,\n",
            "11 र\n",
            "12 एक\n",
            "13 खरो\n",
            "14 फिर\n",
            "15 ##ता\n",
            "16 र\n",
            "17 पख\n",
            "18 ##टा\n",
            "19 सग\n",
            "20 ,\n",
            "21 एक\n",
            "22 खरो\n",
            "23 ,\n",
            "24 पहल\n",
            "25 ##ो\n",
            "26 तलको\n",
            "27 घ\n",
            "28 ##मा\n",
            "29 ##उरो\n",
            "30 बिल\n",
            "31 सग\n",
            "32 एक\n",
            "33 खरो\n",
            "34 ।\n",
            "35 [SEP]\n",
            "0 [CLS]\n",
            "1 यो\n",
            "2 चरि\n",
            "3 ##ग\n",
            "4 लगभग\n",
            "5 पर\n",
            "6 ##ण\n",
            "7 हल\n",
            "8 ##का\n",
            "9 खरो\n",
            "10 ,\n",
            "11 गाढा\n",
            "12 परा\n",
            "13 ##इ\n",
            "14 ##मरी\n",
            "15 र\n",
            "16 गतिशील\n",
            "17 ##ता\n",
            "18 सग\n",
            "19 छ\n",
            "20 ।\n",
            "21 [SEP]\n",
            "0 [CLS]\n",
            "1 यो\n",
            "2 चरा\n",
            "3 सब\n",
            "4 सत\n",
            "5 ##ो\n",
            "6 हो\n",
            "7 जन\n",
            "8 पख\n",
            "9 ##टा\n",
            "10 बाह\n",
            "11 ##क\n",
            "12 यो\n",
            "13 सन\n",
            "14 ##तला\n",
            "15 वम\n",
            "16 ##बड\n",
            "17 ह\n",
            "18 ##न\n",
            "19 ##छ\n",
            "20 ।\n",
            "21 [SEP]\n",
            "0 [CLS]\n",
            "1 यो\n",
            "2 चरा\n",
            "3 लगभग\n",
            "4 सब\n",
            "5 सत\n",
            "6 ##ो\n",
            "7 छ\n",
            "8 ,\n",
            "9 पख\n",
            "10 ##टा\n",
            "11 हल\n",
            "12 ##का\n",
            "13 खरो\n",
            "14 र\n",
            "15 एक\n",
            "16 सानो\n",
            "17 पहल\n",
            "18 ##ो\n",
            "19 बिल\n",
            "20 भइरह\n",
            "21 ##को\n",
            "22 ।\n",
            "23 [SEP]\n",
            "0 [CLS]\n",
            "1 यो\n",
            "2 चराको\n",
            "3 एक\n",
            "4 ठ\n",
            "5 ##लो\n",
            "6 सत\n",
            "7 ##ो\n",
            "8 सत\n",
            "9 ##न\n",
            "10 ,\n",
            "11 खरो\n",
            "12 पख\n",
            "13 ##टा\n",
            "14 ,\n",
            "15 र\n",
            "16 एक\n",
            "17 सानो\n",
            "18 पहल\n",
            "19 ##ो\n",
            "20 बिल\n",
            "21 यसको\n",
            "22 शरीरमा\n",
            "23 अन\n",
            "24 ##पात\n",
            "25 ##मा\n",
            "26 छन\n",
            "27 ।\n",
            "28 [SEP]\n",
            "0 [CLS]\n",
            "1 चरा\n",
            "2 खरानी\n",
            "3 पख\n",
            "4 ##टा\n",
            "5 र\n",
            "6 सन\n",
            "7 ##तला\n",
            "8 व\n",
            "9 ##ब\n",
            "10 र\n",
            "11 बारा\n",
            "12 ##ल\n",
            "13 ##हर\n",
            "14 भएको\n",
            "15 साथ\n",
            "16 सत\n",
            "17 ##ो\n",
            "18 छ\n",
            "19 ।\n",
            "20 [SEP]\n",
            "0 [CLS]\n",
            "1 यो\n",
            "2 सानो\n",
            "3 सत\n",
            "4 ##ो\n",
            "5 चरा\n",
            "6 को\n",
            "7 पहल\n",
            "8 ##ो\n",
            "9 च\n",
            "10 ##च\n",
            "11 ##चो\n",
            "12 ,\n",
            "13 खरो\n",
            "14 फिर\n",
            "15 ##ता\n",
            "16 ,\n",
            "17 र\n",
            "18 सन\n",
            "19 ##तला\n",
            "20 र\n",
            "21 ##गको\n",
            "22 खट\n",
            "23 ##टा\n",
            "24 छ\n",
            "25 ।\n",
            "26 [SEP]\n",
            "0 [CLS]\n",
            "1 सत\n",
            "2 ##ो\n",
            "3 ,\n",
            "4 खरो\n",
            "5 ,\n",
            "6 र\n",
            "7 कालो\n",
            "8 र\n",
            "9 ##गको\n",
            "10 शरीरको\n",
            "11 साथ\n",
            "12 एक\n",
            "13 ठ\n",
            "14 ##लो\n",
            "15 चरा\n",
            "16 ।\n",
            "17 [SEP]\n",
            "0 [CLS]\n",
            "1 थोर\n",
            "2 घ\n",
            "3 ##लन\n",
            "4 पहल\n",
            "5 ##ो\n",
            "6 च\n",
            "7 ##च\n",
            "8 ##चोक\n",
            "9 ##ो\n",
            "10 साथ\n",
            "11 ,\n",
            "12 रातो\n",
            "13 व\n",
            "14 ##ब\n",
            "15 टाउको\n",
            "16 ,\n",
            "17 सत\n",
            "18 ##ो\n",
            "19 टाउको\n",
            "20 र\n",
            "21 सत\n",
            "22 ##न\n",
            "23 ,\n",
            "24 र\n",
            "25 यो\n",
            "26 कालो\n",
            "27 पख\n",
            "28 ##टा\n",
            "29 हो\n",
            "30 ,\n",
            "31 यो\n",
            "32 चरा\n",
            "33 हर\n",
            "34 ##न\n",
            "35 सन\n",
            "36 ##दर\n",
            "37 छ\n",
            "38 ।\n",
            "39 [SEP]\n",
            "0 [CLS]\n",
            "1 चराको\n",
            "2 साथ\n",
            "3 छोटो\n",
            "4 बिल\n",
            "5 ##को\n",
            "6 साथ\n",
            "7 गोल\n",
            "8 टाउको\n",
            "9 छ\n",
            "10 ,\n",
            "11 र\n",
            "12 खरो\n",
            "13 पख\n",
            "14 ##टाको\n",
            "15 साथ\n",
            "16 सब\n",
            "17 सत\n",
            "18 ##ो\n",
            "19 छ\n",
            "20 ।\n",
            "21 [SEP]\n",
            "0 [CLS]\n",
            "1 यो\n",
            "2 चरि\n",
            "3 ##ग\n",
            "4 यसको\n",
            "5 सक\n",
            "6 ##षक\n",
            "7 ##हर\n",
            "8 र\n",
            "9 सन\n",
            "10 ##तला\n",
            "11 खट\n",
            "12 ##टामा\n",
            "13 कालो\n",
            "14 सल\n",
            "15 ##ला\n",
            "16 ##हको\n",
            "17 साथ\n",
            "18 सब\n",
            "19 सत\n",
            "20 ##ो\n",
            "21 छ\n",
            "22 ।\n",
            "23 [SEP]\n",
            "0 [CLS]\n",
            "1 यो\n",
            "2 मनमोहक\n",
            "3 चराको\n",
            "4 खरो\n",
            "5 पख\n",
            "6 ##टा\n",
            "7 ,\n",
            "8 सन\n",
            "9 ##तला\n",
            "10 खट\n",
            "11 ##टा\n",
            "12 र\n",
            "13 पहल\n",
            "14 ##ो\n",
            "15 च\n",
            "16 ##च\n",
            "17 ##चोक\n",
            "18 ##ो\n",
            "19 साथ\n",
            "20 सत\n",
            "21 ##ो\n",
            "22 शरीर\n",
            "23 छ\n",
            "24 ।\n",
            "25 [SEP]\n",
            "0 [CLS]\n",
            "1 भव\n",
            "2 ##य\n",
            "3 वहा\n",
            "4 ##इट\n",
            "5 गा\n",
            "6 ##र\n",
            "7 ##ड\n",
            "8 चरा\n",
            "9 ##हरको\n",
            "10 माध\n",
            "11 ##यम\n",
            "12 ##बाट\n",
            "13 यसको\n",
            "14 खरो\n",
            "15 पख\n",
            "16 ##टा\n",
            "17 ##हर\n",
            "18 र\n",
            "19 सन\n",
            "20 ##तला\n",
            "21 बक\n",
            "22 हद\n",
            "23 गएको\n",
            "24 छ\n",
            "25 ।\n",
            "26 [SEP]\n",
            "0 [CLS]\n",
            "1 एक\n",
            "2 सत\n",
            "3 ##ो\n",
            "4 टाउको\n",
            "5 र\n",
            "6 कालो\n",
            "7 पख\n",
            "8 ##टा\n",
            "9 सन\n",
            "10 ##तला\n",
            "11 खट\n",
            "12 ##टा\n",
            "13 सग\n",
            "14 कालो\n",
            "15 पख\n",
            "16 ##टा\n",
            "17 सग\n",
            "18 एक\n",
            "19 सानो\n",
            "20 चरा\n",
            "21 [SEP]\n",
            "0 [CLS]\n",
            "1 यो\n",
            "2 मध\n",
            "3 ##यम\n",
            "4 आकारको\n",
            "5 प\n",
            "6 ##ञ\n",
            "7 ##च\n",
            "8 एक\n",
            "9 अल\n",
            "10 ##बोट\n",
            "11 ##रोस\n",
            "12 ##सग\n",
            "13 मिल\n",
            "14 ##दो\n",
            "15 ##जल\n",
            "16 ##दो\n",
            "17 छ\n",
            "18 ,\n",
            "19 सन\n",
            "20 ##तला\n",
            "21 प\n",
            "22 ##या\n",
            "23 ##ड\n",
            "24 ##हर\n",
            "25 ##सग\n",
            "26 उभिएको\n",
            "27 ,\n",
            "28 सब\n",
            "29 खरो\n",
            "30 पख\n",
            "31 ##टा\n",
            "32 र\n",
            "33 हिउ\n",
            "34 सत\n",
            "35 ##ो\n",
            "36 टाउको\n",
            "37 ।\n",
            "38 [SEP]\n",
            "0 [CLS]\n",
            "1 चराको\n",
            "2 एक\n",
            "3 सत\n",
            "4 ##ो\n",
            "5 टाउको\n",
            "6 र\n",
            "7 खरो\n",
            "8 हब\n",
            "9 ##को\n",
            "10 खट\n",
            "11 ##टाको\n",
            "12 साथ\n",
            "13 खरो\n",
            "14 टाउको\n",
            "15 छ\n",
            "16 ।\n",
            "17 [SEP]\n",
            "0 [CLS]\n",
            "1 यो\n",
            "2 सत\n",
            "3 ##ो\n",
            "4 र\n",
            "5 खरो\n",
            "6 चराको\n",
            "7 पहल\n",
            "8 ##ो\n",
            "9 बिल\n",
            "10 ,\n",
            "11 कालो\n",
            "12 बाहिरी\n",
            "13 शर\n",
            "14 ##खला\n",
            "15 र\n",
            "16 आश\n",
            "17 ##चर\n",
            "18 ##य\n",
            "19 ##जनक\n",
            "20 र\n",
            "21 ##गी\n",
            "22 ##न\n",
            "23 रातो\n",
            "24 फिट\n",
            "25 छ\n",
            "26 ।\n",
            "27 [SEP]\n",
            "0 [CLS]\n",
            "1 सत\n",
            "2 ##ो\n",
            "3 र\n",
            "4 खरो\n",
            "5 चरा\n",
            "6 ##हर\n",
            "7 ठ\n",
            "8 ##लो\n",
            "9 मख\n",
            "10 र\n",
            "11 तल\n",
            "12 ##तिर\n",
            "13 घ\n",
            "14 ##माइ\n",
            "15 ##एको\n",
            "16 च\n",
            "17 ##च\n",
            "18 ##चो\n",
            "19 ##ल\n",
            "20 ।\n",
            "21 [SEP]\n",
            "0 [CLS]\n",
            "1 लामो\n",
            "2 पक\n",
            "3 ##षी\n",
            "4 एक\n",
            "5 सन\n",
            "6 ##तला\n",
            "7 बक\n",
            "8 र\n",
            "9 सत\n",
            "10 ##ो\n",
            "11 र\n",
            "12 ##गको\n",
            "13 पख\n",
            "14 ##टा\n",
            "15 सग\n",
            "16 एक\n",
            "17 सन\n",
            "18 ##तला\n",
            "19 ब\n",
            "20 ##वक\n",
            "21 ##फ\n",
            "22 र\n",
            "23 सत\n",
            "24 ##ो\n",
            "25 प\n",
            "26 ##वाल\n",
            "27 ##मा\n",
            "28 ।\n",
            "29 [SEP]\n",
            "0 [CLS]\n",
            "1 यो\n",
            "2 चराको\n",
            "3 पहल\n",
            "4 ##ो\n",
            "5 च\n",
            "6 ##च\n",
            "7 ##चो\n",
            "8 ,\n",
            "9 सत\n",
            "10 ##ो\n",
            "11 सत\n",
            "12 ##न\n",
            "13 ,\n",
            "14 खरो\n",
            "15 पख\n",
            "16 ##टा\n",
            "17 ,\n",
            "18 र\n",
            "19 रातो\n",
            "20 खट\n",
            "21 ##टा\n",
            "22 छ\n",
            "23 ।\n",
            "24 [SEP]\n",
            "0 [CLS]\n",
            "1 यसको\n",
            "2 शरीरको\n",
            "3 तल\n",
            "4 ##नामा\n",
            "5 चरा\n",
            "6 ##हरको\n",
            "7 सानो\n",
            "8 च\n",
            "9 ##च\n",
            "10 ##चो\n",
            "11 छ\n",
            "12 ,\n",
            "13 सत\n",
            "14 ##ो\n",
            "15 घाट\n",
            "16 ##ी\n",
            "17 र\n",
            "18 खरो\n",
            "19 र\n",
            "20 सत\n",
            "21 ##ो\n",
            "22 नाप\n",
            "23 ,\n",
            "24 सत\n",
            "25 ##ो\n",
            "26 पटक\n",
            "27 ##ो\n",
            "28 साथ\n",
            "29 ।\n",
            "30 [SEP]\n",
            "0 [CLS]\n",
            "1 यो\n",
            "2 चराको\n",
            "3 एक\n",
            "4 हल\n",
            "5 ##का\n",
            "6 खरो\n",
            "7 छाती\n",
            "8 र\n",
            "9 पट\n",
            "10 छ\n",
            "11 यसको\n",
            "12 घाट\n",
            "13 ##ी\n",
            "14 बयान\n",
            "15 ##डको\n",
            "16 घाट\n",
            "17 ##ी\n",
            "18 र\n",
            "19 छोटो\n",
            "20 पोइ\n",
            "21 ##न\n",
            "22 ##ट\n",
            "23 बिल\n",
            "24 ।\n",
            "25 [SEP]\n",
            "0 [CLS]\n",
            "1 यो\n",
            "2 चराको\n",
            "3 कालो\n",
            "4 पहल\n",
            "5 ##ो\n",
            "6 घाट\n",
            "7 ##ीको\n",
            "8 साथ\n",
            "9 कालो\n",
            "10 गाला\n",
            "11 प\n",
            "12 ##या\n",
            "13 ##च\n",
            "14 छ\n",
            "15 ।\n",
            "16 [SEP]\n",
            "0 [CLS]\n",
            "1 पोइ\n",
            "2 ##न\n",
            "3 ##ट\n",
            "4 बिल\n",
            "5 ,\n",
            "6 कालो\n",
            "7 गा\n",
            "8 ##क\n",
            "9 प\n",
            "10 ##या\n",
            "11 ##च\n",
            "12 ,\n",
            "13 कालो\n",
            "14 घाट\n",
            "15 ##ी\n",
            "16 ,\n",
            "17 र\n",
            "18 पर\n",
            "19 ##ण\n",
            "20 सत\n",
            "21 ##ो\n",
            "22 सत\n",
            "23 ##न\n",
            "24 ।\n",
            "25 [SEP]\n",
            "0 [CLS]\n",
            "1 सानो\n",
            "2 चराको\n",
            "3 कालो\n",
            "4 ध\n",
            "5 ##लो\n",
            "6 पट\n",
            "7 ##टि\n",
            "8 र\n",
            "9 छोटो\n",
            "10 खरो\n",
            "11 बिल\n",
            "12 छ\n",
            "13 ।\n",
            "14 [SEP]\n",
            "0 [CLS]\n",
            "1 छोटो\n",
            "2 बोट\n",
            "3 चराको\n",
            "4 सानो\n",
            "5 सिधा\n",
            "6 अना\n",
            "7 ##क\n",
            "8 ह\n",
            "9 ##न\n",
            "10 ##छ\n",
            "11 ,\n",
            "12 सत\n",
            "13 ##ो\n",
            "14 अट\n",
            "15 ##ट\n",
            "16 ,\n",
            "17 र\n",
            "18 पछाडि\n",
            "19 र\n",
            "20 पख\n",
            "21 ##टामा\n",
            "22 खरो\n",
            "23 र\n",
            "24 ##ग\n",
            "25 ##हर\n",
            "26 ।\n",
            "27 [SEP]\n",
            "0 [CLS]\n",
            "1 चराको\n",
            "2 अन\n",
            "3 ##हार\n",
            "4 सत\n",
            "5 ##ो\n",
            "6 ,\n",
            "7 पहल\n",
            "8 ##ो\n",
            "9 छ\n",
            "10 ।\n",
            "11 र\n",
            "12 पछाडि\n",
            "13 ,\n",
            "14 यसको\n",
            "15 छाती\n",
            "16 र\n",
            "17 पट\n",
            "18 सत\n",
            "19 ##ो\n",
            "20 छ\n",
            "21 ।\n",
            "22 [SEP]\n",
            "0 [CLS]\n",
            "1 सानो\n",
            "2 चराको\n",
            "3 सत\n",
            "4 ##ो\n",
            "5 र\n",
            "6 c\n",
            "7 ##ol\n",
            "8 ##or\n",
            "9 ग\n",
            "10 ##को\n",
            "11 मनि\n",
            "12 ##को\n",
            "13 छ\n",
            "14 ,\n",
            "15 पछाडि\n",
            "16 बरा\n",
            "17 ##उन\n",
            "18 प\n",
            "19 ##या\n",
            "20 ##च\n",
            "21 ##हर\n",
            "22 ,\n",
            "23 र\n",
            "24 अन\n",
            "25 ##हार\n",
            "26 ##मा\n",
            "27 य\n",
            "28 ##लो\n",
            "29 प\n",
            "30 ##या\n",
            "31 ##च\n",
            "32 ##हर\n",
            "33 ।\n",
            "34 [SEP]\n",
            "0 [CLS]\n",
            "1 चराको\n",
            "2 एक\n",
            "3 सानो\n",
            "4 कालो\n",
            "5 बिल\n",
            "6 साथ\n",
            "7 पातलो\n",
            "8 फि\n",
            "9 ##ला\n",
            "10 ##हर\n",
            "11 छ\n",
            "12 ।\n",
            "13 [SEP]\n",
            "0 [CLS]\n",
            "1 चरा\n",
            "2 को\n",
            "3 टाउको\n",
            "4 खरो\n",
            "5 र\n",
            "6 घाट\n",
            "7 ##ी\n",
            "8 पहल\n",
            "9 ##ो\n",
            "10 छ\n",
            "11 ।\n",
            "12 [SEP]\n",
            "0 [CLS]\n",
            "1 लामो\n",
            "2 खट\n",
            "3 ##टा\n",
            "4 ,\n",
            "5 सत\n",
            "6 ##ो\n",
            "7 पट\n",
            "8 ,\n",
            "9 लाइट\n",
            "10 खरो\n",
            "11 पख\n",
            "12 ##टा\n",
            "13 ,\n",
            "14 कालो\n",
            "15 घाट\n",
            "16 ##ी\n",
            "17 ,\n",
            "18 गा\n",
            "19 ##ल\n",
            "20 प\n",
            "21 ##या\n",
            "22 ##च\n",
            "23 र\n",
            "24 मक\n",
            "25 ##ट\n",
            "26 ।\n",
            "27 [SEP]\n",
            "0 [CLS]\n",
            "1 यो\n",
            "2 चराको\n",
            "3 घाट\n",
            "4 ##ी\n",
            "5 ,\n",
            "6 सप\n",
            "7 ##रस\n",
            "8 ##िल\n",
            "9 ##ियर\n",
            "10 ##ी\n",
            "11 ##हर\n",
            "12 ##मा\n",
            "13 कालो\n",
            "14 पट\n",
            "15 ##टिको\n",
            "16 साथ\n",
            "17 सत\n",
            "18 ##ो\n",
            "19 पट\n",
            "20 छ\n",
            "21 ,\n",
            "22 र\n",
            "23 खरो\n",
            "24 परा\n",
            "25 ##इ\n",
            "26 ##मरी\n",
            "27 र\n",
            "28 श\n",
            "29 ##लय\n",
            "30 ##कर\n",
            "31 ##ियाको\n",
            "32 साथ\n",
            "33 ।\n",
            "34 [SEP]\n",
            "0 [CLS]\n",
            "1 चराको\n",
            "2 कालो\n",
            "3 अ\n",
            "4 ##यर\n",
            "5 ##रि\n",
            "6 ##ग\n",
            "7 छ\n",
            "8 ,\n",
            "9 पातलो\n",
            "10 फि\n",
            "11 ##ला\n",
            "12 र\n",
            "13 कालो\n",
            "14 बिल\n",
            "15 छ\n",
            "16 ।\n",
            "17 [SEP]\n",
            "0 [CLS]\n",
            "1 यो\n",
            "2 चराको\n",
            "3 पछाडि\n",
            "4 रातो\n",
            "5 खरो\n",
            "6 पख\n",
            "7 ##हर\n",
            "8 छन\n",
            "9 र\n",
            "10 विश\n",
            "11 ##वस\n",
            "12 ##त\n",
            "13 मल\n",
            "14 ##क\n",
            "15 सग\n",
            "16 खडा\n",
            "17 छ\n",
            "18 [SEP]\n",
            "0 [CLS]\n",
            "1 चराको\n",
            "2 एक\n",
            "3 सकिन\n",
            "4 ##ी\n",
            "5 टा\n",
            "6 ##रस\n",
            "7 ##स\n",
            "8 छ\n",
            "9 जन\n",
            "10 कालो\n",
            "11 र\n",
            "12 सानो\n",
            "13 बिल\n",
            "14 हो\n",
            "15 ।\n",
            "16 [SEP]\n",
            "0 [CLS]\n",
            "1 यो\n",
            "2 चराको\n",
            "3 सत\n",
            "4 ##ो\n",
            "5 सत\n",
            "6 ##न\n",
            "7 र\n",
            "8 पट\n",
            "9 ,\n",
            "10 कालो\n",
            "11 गाला\n",
            "12 प\n",
            "13 ##या\n",
            "14 ##च\n",
            "15 ##हर\n",
            "16 र\n",
            "17 नक\n",
            "18 ##लाइन\n",
            "19 ,\n",
            "20 खरो\n",
            "21 पख\n",
            "22 ##टाको\n",
            "23 साथ\n",
            "24 छ\n",
            "25 ।\n",
            "26 [SEP]\n",
            "0 [CLS]\n",
            "1 चराको\n",
            "2 कालो\n",
            "3 घाट\n",
            "4 ##ी\n",
            "5 ,\n",
            "6 टया\n",
            "7 ##न\n",
            "8 पख\n",
            "9 ##टा\n",
            "10 ,\n",
            "11 र\n",
            "12 सानो\n",
            "13 ,\n",
            "14 खरो\n",
            "15 बिल\n",
            "16 छ\n",
            "17 ।\n",
            "18 [SEP]\n",
            "0 [CLS]\n",
            "1 एक\n",
            "2 सानो\n",
            "3 मोट\n",
            "4 ##ा\n",
            "5 चरा\n",
            "6 हरियो\n",
            "7 र\n",
            "8 ##गी\n",
            "9 ##न\n",
            "10 अन\n",
            "11 ##हार\n",
            "12 र\n",
            "13 छोटो\n",
            "14 ती\n",
            "15 ##खो\n",
            "16 च\n",
            "17 ##च\n",
            "18 ##चोक\n",
            "19 ##ो\n",
            "20 साथ\n",
            "21 [SEP]\n",
            "0 [CLS]\n",
            "1 आखा\n",
            "2 ##को\n",
            "3 कालो\n",
            "4 प\n",
            "5 ##या\n",
            "6 ##चको\n",
            "7 साथ\n",
            "8 एक\n",
            "9 सानो\n",
            "10 चरा\n",
            "11 ,\n",
            "12 पहल\n",
            "13 ##ो\n",
            "14 घाट\n",
            "15 ##ी\n",
            "16 ,\n",
            "17 र\n",
            "18 कालो\n",
            "19 प\n",
            "20 ##या\n",
            "21 ##च\n",
            "22 ##हर\n",
            "23 ।\n",
            "24 [SEP]\n",
            "0 [CLS]\n",
            "1 शरीर\n",
            "2 खरो\n",
            "3 छ\n",
            "4 ,\n",
            "5 पट\n",
            "6 सत\n",
            "7 ##ो\n",
            "8 छ\n",
            "9 ,\n",
            "10 र\n",
            "11 घाट\n",
            "12 ##ी\n",
            "13 पहल\n",
            "14 ##ो\n",
            "15 छ\n",
            "16 ।\n",
            "17 [SEP]\n",
            "0 [CLS]\n",
            "1 चरा\n",
            "2 ##ल\n",
            "3 हा\n",
            "4 ##सो\n",
            "5 ##को\n",
            "6 हा\n",
            "7 ##सो\n",
            "8 र\n",
            "9 सत\n",
            "10 ##ो\n",
            "11 पटक\n",
            "12 ##ो\n",
            "13 साथ\n",
            "14 पहल\n",
            "15 ##ो\n",
            "16 अन\n",
            "17 ##हार\n",
            "18 छ\n",
            "19 ।\n",
            "20 [SEP]\n",
            "0 [CLS]\n",
            "1 टा\n",
            "2 ##रस\n",
            "3 ##स\n",
            "4 कालो\n",
            "5 छ\n",
            "6 कि\n",
            "7 घाट\n",
            "8 ##ी\n",
            "9 पहल\n",
            "10 ##ो\n",
            "11 हो\n",
            "12 नली\n",
            "13 ##को\n",
            "14 सत\n",
            "15 ##ो\n",
            "16 ह\n",
            "17 ##न\n",
            "18 ##छ\n",
            "19 र\n",
            "20 चरा\n",
            "21 ##हरको\n",
            "22 पछाडि\n",
            "23 रातो\n",
            "24 खरो\n",
            "25 ह\n",
            "26 ##न\n",
            "27 ##छ\n",
            "28 ।\n",
            "29 [SEP]\n",
            "0 [CLS]\n",
            "1 चरा\n",
            "2 सत\n",
            "3 ##ो\n",
            "4 पट\n",
            "5 र\n",
            "6 पातलो\n",
            "7 कालो\n",
            "8 तन\n",
            "9 ##दाको\n",
            "10 साथ\n",
            "11 खरो\n",
            "12 खरो\n",
            "13 छ\n",
            "14 ।\n",
            "15 [SEP]\n",
            "0 [CLS]\n",
            "1 एक\n",
            "2 मध\n",
            "3 ##यम\n",
            "4 माथि\n",
            "5 ##ल\n",
            "6 ##लो\n",
            "7 सत\n",
            "8 ##न\n",
            "9 ,\n",
            "10 सत\n",
            "11 ##ो\n",
            "12 घाट\n",
            "13 ##ी\n",
            "14 ,\n",
            "15 कालो\n",
            "16 मक\n",
            "17 ##ट\n",
            "18 ,\n",
            "19 कालो\n",
            "20 मक\n",
            "21 ##ट\n",
            "22 ,\n",
            "23 कालो\n",
            "24 मक\n",
            "25 ##ट\n",
            "26 ,\n",
            "27 खरो\n",
            "28 गाला\n",
            "29 ,\n",
            "30 हल\n",
            "31 ##का\n",
            "32 खरो\n",
            "33 पख\n",
            "34 ##टा\n",
            "35 र\n",
            "36 एक\n",
            "37 कालो\n",
            "38 गाढा\n",
            "39 ।\n",
            "40 [SEP]\n",
            "0 [CLS]\n",
            "1 यो\n",
            "2 पहल\n",
            "3 ##ो\n",
            "4 र\n",
            "5 कालो\n",
            "6 गाला\n",
            "7 प\n",
            "8 ##या\n",
            "9 ##च\n",
            "10 ##हरको\n",
            "11 साथ\n",
            "12 खरो\n",
            "13 चरा\n",
            "14 हो\n",
            "15 ।\n",
            "16 [SEP]\n",
            "0 [CLS]\n",
            "1 सत\n",
            "2 ##ो\n",
            "3 /\n",
            "4 खरो\n",
            "5 पट\n",
            "6 ,\n",
            "7 पहल\n",
            "8 ##ो\n",
            "9 र\n",
            "10 कालो\n",
            "11 टाउको\n",
            "12 ,\n",
            "13 र\n",
            "14 हल\n",
            "15 ##का\n",
            "16 खरो\n",
            "17 पख\n",
            "18 ##हर\n",
            "19 र\n",
            "20 हल\n",
            "21 ##का\n",
            "22 खरो\n",
            "23 टाउको\n",
            "24 ।\n",
            "25 [SEP]\n",
            "0 [CLS]\n",
            "1 यो\n",
            "2 सत\n",
            "3 ##ो\n",
            "4 पट\n",
            "5 ,\n",
            "6 खरो\n",
            "7 पख\n",
            "8 ##टा\n",
            "9 र\n",
            "10 यसको\n",
            "11 अन\n",
            "12 ##हार\n",
            "13 ##मा\n",
            "14 कालो\n",
            "15 पख\n",
            "16 ##टा\n",
            "17 र\n",
            "18 कालो\n",
            "19 पट\n",
            "20 ##टी\n",
            "21 भएको\n",
            "22 चरा\n",
            "23 हो\n",
            "24 ।\n",
            "25 [SEP]\n",
            "0 [CLS]\n",
            "1 यो\n",
            "2 सानो\n",
            "3 चराको\n",
            "4 कालो\n",
            "5 र\n",
            "6 पहल\n",
            "7 ##ो\n",
            "8 टाउको\n",
            "9 छ\n",
            "10 ,\n",
            "11 र\n",
            "12 धर\n",
            "13 ,\n",
            "14 सानो\n",
            "15 च\n",
            "16 ##च\n",
            "17 ##चो\n",
            "18 छ\n",
            "19 ।\n",
            "20 [SEP]\n",
            "0 [CLS]\n",
            "1 यो\n",
            "2 चराको\n",
            "3 कालो\n",
            "4 मक\n",
            "5 ##ट\n",
            "6 ,\n",
            "7 सत\n",
            "8 ##ो\n",
            "9 नपा\n",
            "10 ,\n",
            "11 कालो\n",
            "12 गाला\n",
            "13 प\n",
            "14 ##या\n",
            "15 ##च\n",
            "16 ,\n",
            "17 र\n",
            "18 एक\n",
            "19 सब\n",
            "20 सत\n",
            "21 ##ो\n",
            "22 पट\n",
            "23 र\n",
            "24 सत\n",
            "25 ##न\n",
            "26 भएको\n",
            "27 द\n",
            "28 ##खि\n",
            "29 ##न\n",
            "30 ##छ\n",
            "31 ।\n",
            "32 [SEP]\n",
            "0 [CLS]\n",
            "1 घाट\n",
            "2 ##ी\n",
            "3 र\n",
            "4 पहल\n",
            "5 ##ो\n",
            "6 अन\n",
            "7 ##हार\n",
            "8 ##को\n",
            "9 वरिपरि\n",
            "10 कालो\n",
            "11 घ\n",
            "12 ##ण\n",
            "13 ##टीको\n",
            "14 साथ\n",
            "15 खरो\n",
            "16 चरा\n",
            "17 ।\n",
            "18 [SEP]\n",
            "0 [CLS]\n",
            "1 चरा\n",
            "2 ##सग\n",
            "3 एक\n",
            "4 सत\n",
            "5 ##ो\n",
            "6 पट\n",
            "7 र\n",
            "8 खरो\n",
            "9 शरीरको\n",
            "10 साथ\n",
            "11 पहल\n",
            "12 ##ो\n",
            "13 घाट\n",
            "14 ##ी\n",
            "15 र\n",
            "16 कालो\n",
            "17 भौ\n",
            "18 ##क\n",
            "19 छ\n",
            "20 ।\n",
            "21 [SEP]\n",
            "0 [CLS]\n",
            "1 यो\n",
            "2 चराको\n",
            "3 पख\n",
            "4 ##टा\n",
            "5 फराकिलो\n",
            "6 पल\n",
            "7 ##ॉ\n",
            "8 ##प\n",
            "9 फिट\n",
            "10 ह\n",
            "11 ##न\n",
            "12 ##छ\n",
            "13 र\n",
            "14 ती\n",
            "15 ##खो\n",
            "16 बिल\n",
            "17 र\n",
            "18 ती\n",
            "19 ##खो\n",
            "20 च\n",
            "21 ##च\n",
            "22 ##चो\n",
            "23 [SEP]\n",
            "0 [CLS]\n",
            "1 एउटा\n",
            "2 चराको\n",
            "3 सत\n",
            "4 ##ो\n",
            "5 सत\n",
            "6 ##न\n",
            "7 र\n",
            "8 पट\n",
            "9 ,\n",
            "10 र\n",
            "11 कालो\n",
            "12 मक\n",
            "13 ##ट\n",
            "14 र\n",
            "15 खरो\n",
            "16 c\n",
            "17 ##ov\n",
            "18 ##art\n",
            "19 ##s\n",
            "20 छ\n",
            "21 ।\n",
            "22 [SEP]\n",
            "0 [CLS]\n",
            "1 यो\n",
            "2 सानो\n",
            "3 ,\n",
            "4 फ\n",
            "5 ##या\n",
            "6 ##ट\n",
            "7 चरा\n",
            "8 छ\n",
            "9 ,\n",
            "10 एक\n",
            "11 सत\n",
            "12 ##ो\n",
            "13 शरीर\n",
            "14 ,\n",
            "15 र\n",
            "16 कालो\n",
            "17 धारा\n",
            "18 सग\n",
            "19 एक\n",
            "20 फि\n",
            "21 ##कका\n",
            "22 पहल\n",
            "23 ##ो\n",
            "24 टाउको\n",
            "25 ।\n",
            "26 [SEP]\n",
            "0 [CLS]\n",
            "1 यो\n",
            "2 मध\n",
            "3 ##यम\n",
            "4 आकारको\n",
            "5 बर\n",
            "6 ##डको\n",
            "7 खरो\n",
            "8 शरीर\n",
            "9 छ\n",
            "10 ,\n",
            "11 र\n",
            "12 कालो\n",
            "13 प\n",
            "14 ##या\n",
            "15 ##च\n",
            "16 ##हरको\n",
            "17 साथ\n",
            "18 पहल\n",
            "19 ##ो\n",
            "20 टाउको\n",
            "21 ।\n",
            "22 [SEP]\n",
            "0 [CLS]\n",
            "1 पक\n",
            "2 ##षी\n",
            "3 ##को\n",
            "4 सानो\n",
            "5 च\n",
            "6 ##च\n",
            "7 ##चो\n",
            "8 छ\n",
            "9 जब\n",
            "10 यसको\n",
            "11 शरीरको\n",
            "12 तल\n",
            "13 ##नामा\n",
            "14 पहल\n",
            "15 ##ो\n",
            "16 घाट\n",
            "17 ##ी\n",
            "18 ,\n",
            "19 सत\n",
            "20 ##ो\n",
            "21 अ\n",
            "22 ##यर\n",
            "23 ##रि\n",
            "24 ##ग\n",
            "25 र\n",
            "26 कालो\n",
            "27 टा\n",
            "28 ##रस\n",
            "29 ##स\n",
            "30 र\n",
            "31 खट\n",
            "32 ##टाको\n",
            "33 साथ\n",
            "34 तल\n",
            "35 ##ना\n",
            "36 गर\n",
            "37 ##न\n",
            "38 ##होस\n",
            "39 ।\n",
            "40 [SEP]\n",
            "0 [CLS]\n",
            "1 पहल\n",
            "2 ##ो\n",
            "3 र\n",
            "4 कालो\n",
            "5 टाउको\n",
            "6 र\n",
            "7 कालो\n",
            "8 टा\n",
            "9 ##रस\n",
            "10 ##स\n",
            "11 र\n",
            "12 खट\n",
            "13 ##टाको\n",
            "14 साथ\n",
            "15 खरो\n",
            "16 चरा\n",
            "17 ।\n",
            "18 [SEP]\n",
            "0 [CLS]\n",
            "1 एउटा\n",
            "2 सानो\n",
            "3 चरा\n",
            "4 ,\n",
            "5 एक\n",
            "6 प\n",
            "7 ##यार\n",
            "8 ##ा\n",
            "9 पट\n",
            "10 ,\n",
            "11 र\n",
            "12 आखा\n",
            "13 मनि\n",
            "14 कालो\n",
            "15 झरना\n",
            "16 ।\n",
            "17 [SEP]\n",
            "0 [CLS]\n",
            "1 सत\n",
            "2 ##ो\n",
            "3 पट\n",
            "4 र\n",
            "5 पहल\n",
            "6 ##ो\n",
            "7 सत\n",
            "8 ##नको\n",
            "9 साथ\n",
            "10 सानो\n",
            "11 खरो\n",
            "12 चरा\n",
            "13 ।\n",
            "14 [SEP]\n",
            "0 [CLS]\n",
            "1 यो\n",
            "2 एक\n",
            "3 चरा\n",
            "4 ,\n",
            "5 सत\n",
            "6 ##ो\n",
            "7 पट\n",
            "8 र\n",
            "9 खरो\n",
            "10 पख\n",
            "11 ##टा\n",
            "12 सग\n",
            "13 एक\n",
            "14 चरा\n",
            "15 हो\n",
            "16 ।\n",
            "17 [SEP]\n",
            "0 [CLS]\n",
            "1 चराको\n",
            "2 पहल\n",
            "3 ##ो\n",
            "4 घाट\n",
            "5 ##ी\n",
            "6 ,\n",
            "7 खरो\n",
            "8 सत\n",
            "9 ##ो\n",
            "10 सत\n",
            "11 ##न\n",
            "12 ,\n",
            "13 पट\n",
            "14 र\n",
            "15 पट\n",
            "16 ,\n",
            "17 यसको\n",
            "18 शरीरको\n",
            "19 आकारको\n",
            "20 तल\n",
            "21 ##नामा\n",
            "22 थोर\n",
            "23 च\n",
            "24 ##च\n",
            "25 ##च\n",
            "26 छ\n",
            "27 ।\n",
            "28 [SEP]\n",
            "0 [CLS]\n",
            "1 चराको\n",
            "2 एक\n",
            "3 पहल\n",
            "4 ##ो\n",
            "5 घाट\n",
            "6 ##ी\n",
            "7 र\n",
            "8 खरो\n",
            "9 प\n",
            "10 ##वा\n",
            "11 ##ख\n",
            "12 ##हर\n",
            "13 पछाडि\n",
            "14 छ\n",
            "15 र\n",
            "16 पच\n",
            "17 ##छ\n",
            "18 ##र\n",
            "19 र\n",
            "20 पच\n",
            "21 ##छ\n",
            "22 ##र\n",
            "23 प\n",
            "24 ##वा\n",
            "25 ##ख\n",
            "26 ##हर\n",
            "27 छन\n",
            "28 ।\n",
            "29 [SEP]\n",
            "0 [CLS]\n",
            "1 यो\n",
            "2 सानो\n",
            "3 -\n",
            "4 बिल\n",
            "5 पक\n",
            "6 ##षी\n",
            "7 ##को\n",
            "8 सत\n",
            "9 ##ो\n",
            "10 सत\n",
            "11 ##न\n",
            "12 ##पान\n",
            "13 छ\n",
            "14 खरो\n",
            "15 ,\n",
            "16 एक\n",
            "17 हल\n",
            "18 ##का\n",
            "19 पहल\n",
            "20 ##ो\n",
            "21 घाट\n",
            "22 ##ी\n",
            "23 र\n",
            "24 सप\n",
            "25 ##रस\n",
            "26 ##िल\n",
            "27 ##ी\n",
            "28 क\n",
            "29 ##ष\n",
            "30 ##तर\n",
            "31 ,\n",
            "32 कालो\n",
            "33 चक\n",
            "34 प\n",
            "35 ##या\n",
            "36 ##च\n",
            "37 ##हर\n",
            "38 ,\n",
            "39 र\n",
            "40 कव\n",
            "41 ##ालिटी\n",
            "42 ##को\n",
            "43 स\n",
            "44 ##झा\n",
            "45 ##वह\n",
            "46 ##र\n",
            "47 ।\n",
            "48 [SEP]\n",
            "0 [CLS]\n",
            "1 यो\n",
            "2 सत\n",
            "3 ##ो\n",
            "4 पट\n",
            "5 ,\n",
            "6 खरो\n",
            "7 पख\n",
            "8 ##टा\n",
            "9 ,\n",
            "10 एक\n",
            "11 पहल\n",
            "12 ##ो\n",
            "13 घाट\n",
            "14 ##ी\n",
            "15 र\n",
            "16 कालो\n",
            "17 घाटा\n",
            "18 पट\n",
            "19 ##टि\n",
            "20 छ\n",
            "21 ।\n",
            "22 [SEP]\n",
            "0 [CLS]\n",
            "1 यो\n",
            "2 चराको\n",
            "3 बरा\n",
            "4 ##उन\n",
            "5 पटक\n",
            "6 ##ो\n",
            "7 साथ\n",
            "8 सत\n",
            "9 ##ो\n",
            "10 पट\n",
            "11 र\n",
            "12 सत\n",
            "13 ##नको\n",
            "14 साथ\n",
            "15 सत\n",
            "16 ##न\n",
            "17 छ\n",
            "18 ।\n",
            "19 [SEP]\n",
            "0 [CLS]\n",
            "1 यसको\n",
            "2 पख\n",
            "3 ##टा\n",
            "4 र\n",
            "5 पच\n",
            "6 ##छ\n",
            "7 ##रको\n",
            "8 साथ\n",
            "9 कालो\n",
            "10 दाग\n",
            "11 ##हरको\n",
            "12 साथ\n",
            "13 सानो\n",
            "14 खरो\n",
            "15 पक\n",
            "16 ##षी\n",
            "17 ##हर\n",
            "18 ।\n",
            "19 [SEP]\n",
            "0 [CLS]\n",
            "1 यो\n",
            "2 फ\n",
            "3 ##फी\n",
            "4 सानो\n",
            "5 चराको\n",
            "6 सत\n",
            "7 ##ो\n",
            "8 पट\n",
            "9 र\n",
            "10 सत\n",
            "11 ##न\n",
            "12 ह\n",
            "13 ##न\n",
            "14 ##छ\n",
            "15 यसको\n",
            "16 मक\n",
            "17 ##ट\n",
            "18 र\n",
            "19 नप\n",
            "20 ##िल\n",
            "21 ##हर\n",
            "22 ##मा\n",
            "23 कालो\n",
            "24 पट\n",
            "25 ##टि\n",
            "26 ##हरको\n",
            "27 साथ\n",
            "28 छ\n",
            "29 ।\n",
            "30 [SEP]\n",
            "0 [CLS]\n",
            "1 चरा\n",
            "2 ##सग\n",
            "3 एउटा\n",
            "4 सानो\n",
            "5 कालो\n",
            "6 बिल\n",
            "7 र\n",
            "8 कालो\n",
            "9 घाट\n",
            "10 ##ी\n",
            "11 छ\n",
            "12 ।\n",
            "13 [SEP]\n",
            "0 [CLS]\n",
            "1 चराको\n",
            "2 एक\n",
            "3 लाइट\n",
            "4 टन\n",
            "5 पट\n",
            "6 छ\n",
            "7 पहल\n",
            "8 ##ो\n",
            "9 घाट\n",
            "10 ##ी\n",
            "11 र\n",
            "12 कालो\n",
            "13 आखा\n",
            "14 चि\n",
            "15 ##हन\n",
            "16 ##ित\n",
            "17 ।\n",
            "18 [SEP]\n",
            "0 [CLS]\n",
            "1 चराको\n",
            "2 छाला\n",
            "3 टा\n",
            "4 ##रस\n",
            "5 ##स\n",
            "6 छ\n",
            "7 जन\n",
            "8 कालो\n",
            "9 र\n",
            "10 सानो\n",
            "11 बिल\n",
            "12 छ\n",
            "13 ।\n",
            "14 [SEP]\n",
            "0 [CLS]\n",
            "1 यो\n",
            "2 चराको\n",
            "3 सत\n",
            "4 ##ो\n",
            "5 पट\n",
            "6 ,\n",
            "7 कालो\n",
            "8 घाट\n",
            "9 ##ी\n",
            "10 र\n",
            "11 सत\n",
            "12 ##ो\n",
            "13 आल\n",
            "14 उ\n",
            "15 ##रह\n",
            "16 ##को\n",
            "17 छ\n",
            "18 ।\n",
            "19 [SEP]\n",
            "0 [CLS]\n",
            "1 यो\n",
            "2 एक\n",
            "3 कालो\n",
            "4 गाला\n",
            "5 प\n",
            "6 ##या\n",
            "7 ##चको\n",
            "8 साथ\n",
            "9 एक\n",
            "10 खरो\n",
            "11 र\n",
            "12 सत\n",
            "13 ##ो\n",
            "14 चरा\n",
            "15 हो\n",
            "16 [SEP]\n",
            "0 [CLS]\n",
            "1 यो\n",
            "2 एक\n",
            "3 खरो\n",
            "4 टाउको\n",
            "5 र\n",
            "6 यसको\n",
            "7 आखा\n",
            "8 मनि\n",
            "9 ##को\n",
            "10 खरो\n",
            "11 टाउको\n",
            "12 र\n",
            "13 कालो\n",
            "14 धार\n",
            "15 ##िको\n",
            "16 साथ\n",
            "17 खरो\n",
            "18 चरा\n",
            "19 हो\n",
            "20 ।\n",
            "21 [SEP]\n",
            "0 [CLS]\n",
            "1 यो\n",
            "2 सत\n",
            "3 ##ो\n",
            "4 पट\n",
            "5 र\n",
            "6 पहल\n",
            "7 ##ो\n",
            "8 घाट\n",
            "9 ##ीको\n",
            "10 साथ\n",
            "11 खरो\n",
            "12 चरा\n",
            "13 हो\n",
            "14 ।\n",
            "15 [SEP]\n",
            "0 [CLS]\n",
            "1 यो\n",
            "2 सानो\n",
            "3 चराको\n",
            "4 कालो\n",
            "5 मक\n",
            "6 ##ट\n",
            "7 ,\n",
            "8 आखा\n",
            "9 ,\n",
            "10 घाट\n",
            "11 ##ी\n",
            "12 र\n",
            "13 च\n",
            "14 ##च\n",
            "15 ##चो\n",
            "16 छ\n",
            "17 ।\n",
            "18 परा\n",
            "19 ##य\n",
            "20 :\n",
            "21 खरो\n",
            "22 पख\n",
            "23 ##टा\n",
            "24 खरो\n",
            "25 र\n",
            "26 सत\n",
            "27 ##ो\n",
            "28 पटक\n",
            "29 ##ो\n",
            "30 साथ\n",
            "31 ।\n",
            "32 [SEP]\n",
            "0 [CLS]\n",
            "1 चराको\n",
            "2 सानो\n",
            "3 बिल\n",
            "4 छ\n",
            "5 जन\n",
            "6 कालो\n",
            "7 र\n",
            "8 एक\n",
            "9 सानो\n",
            "10 अ\n",
            "11 ##यर\n",
            "12 ##ोलि\n",
            "13 ##ग\n",
            "14 छ\n",
            "15 ।\n",
            "16 [SEP]\n",
            "0 [CLS]\n",
            "1 पट\n",
            "2 र\n",
            "3 छाती\n",
            "4 सत\n",
            "5 ##ो\n",
            "6 भएको\n",
            "7 बला\n",
            "8 ##मा\n",
            "9 चरा\n",
            "10 ##हरको\n",
            "11 मक\n",
            "12 ##ट\n",
            "13 खरो\n",
            "14 छ\n",
            "15 ।\n",
            "16 [SEP]\n",
            "0 [CLS]\n",
            "1 यस\n",
            "2 पट\n",
            "3 ##र\n",
            "4 ##या\n",
            "5 ##ट\n",
            "6 चरा\n",
            "7 एक\n",
            "8 जोक\n",
            "9 ##र\n",
            "10 अन\n",
            "11 ##हार\n",
            "12 ##सग\n",
            "13 खडा\n",
            "14 छ\n",
            "15 ,\n",
            "16 चारवटा\n",
            "17 विभ\n",
            "18 ##िन\n",
            "19 ##न\n",
            "20 र\n",
            "21 c\n",
            "22 ##ol\n",
            "23 ##or\n",
            "24 ##s\n",
            "25 हर\n",
            "26 ##सग\n",
            "27 मिल\n",
            "28 ##र\n",
            "29 ,\n",
            "30 जबकि\n",
            "31 सब\n",
            "32 खरो\n",
            "33 पछाडि\n",
            "34 र\n",
            "35 सब\n",
            "36 सत\n",
            "37 ##ो\n",
            "38 अन\n",
            "39 ##डर\n",
            "40 ##साइड\n",
            "41 गर\n",
            "42 ##द\n",
            "43 ।\n",
            "44 [SEP]\n",
            "0 [CLS]\n",
            "1 यो\n",
            "2 एक\n",
            "3 सत\n",
            "4 ##ो\n",
            "5 सत\n",
            "6 ##न\n",
            "7 र\n",
            "8 खरो\n",
            "9 पख\n",
            "10 ##टा\n",
            "11 सग\n",
            "12 एक\n",
            "13 चरा\n",
            "14 हो\n",
            "15 ।\n",
            "16 [SEP]\n",
            "0 [CLS]\n",
            "1 यो\n",
            "2 विस\n",
            "3 ##तार\n",
            "4 ##ित\n",
            "5 चराको\n",
            "6 साथ\n",
            "7 पहल\n",
            "8 ##ो\n",
            "9 र\n",
            "10 कालो\n",
            "11 छाप\n",
            "12 ##को\n",
            "13 साथ\n",
            "14 नरम\n",
            "15 टया\n",
            "16 ##न\n",
            "17 र\n",
            "18 ##ग\n",
            "19 छ\n",
            "20 ।\n",
            "21 [SEP]\n",
            "0 [CLS]\n",
            "1 ठ\n",
            "2 ##लो\n",
            "3 चराको\n",
            "4 लामो\n",
            "5 सत\n",
            "6 ##ो\n",
            "7 घाट\n",
            "8 ##ी\n",
            "9 ,\n",
            "10 लामो\n",
            "11 खरानी\n",
            "12 बलि\n",
            "13 ,\n",
            "14 र\n",
            "15 ठोस\n",
            "16 कालो\n",
            "17 आखा\n",
            "18 ।\n",
            "19 [SEP]\n",
            "0 [CLS]\n",
            "1 एउटा\n",
            "2 ठ\n",
            "3 ##लो\n",
            "4 चराको\n",
            "5 कालो\n",
            "6 मक\n",
            "7 ##ट\n",
            "8 ,\n",
            "9 सानो\n",
            "10 र\n",
            "11 धारिलो\n",
            "12 बिल\n",
            "13 ,\n",
            "14 र\n",
            "15 खरो\n",
            "16 प\n",
            "17 ##घ\n",
            "18 ##ी\n",
            "19 ##हरको\n",
            "20 ट\n",
            "21 ##फ\n",
            "22 ##फरक\n",
            "23 ##ो\n",
            "24 साथ\n",
            "25 एक\n",
            "26 पछाडि\n",
            "27 छ\n",
            "28 ।\n",
            "29 [SEP]\n",
            "0 [CLS]\n",
            "1 चराको\n",
            "2 एक\n",
            "3 घ\n",
            "4 ##माइ\n",
            "5 ##एको\n",
            "6 घाट\n",
            "7 ##ी\n",
            "8 र\n",
            "9 सत\n",
            "10 ##ो\n",
            "11 सत\n",
            "12 ##न\n",
            "13 र\n",
            "14 लामो\n",
            "15 बिल\n",
            "16 छ\n",
            "17 ।\n",
            "18 [SEP]\n",
            "0 [CLS]\n",
            "1 चराको\n",
            "2 एक\n",
            "3 ठोस\n",
            "4 कालो\n",
            "5 टाउको\n",
            "6 ,\n",
            "7 सत\n",
            "8 ##ो\n",
            "9 र\n",
            "10 कालो\n",
            "11 बान\n",
            "12 ##की\n",
            "13 ,\n",
            "14 कालो\n",
            "15 च\n",
            "16 ##च\n",
            "17 ##चो\n",
            "18 ,\n",
            "19 र\n",
            "20 एक\n",
            "21 ठ\n",
            "22 ##लो\n",
            "23 सम\n",
            "24 ##तल\n",
            "25 टाउकोमा\n",
            "26 छ\n",
            "27 ।\n",
            "28 [SEP]\n",
            "0 [CLS]\n",
            "1 लामो\n",
            "2 घ\n",
            "3 ##माइ\n",
            "4 ##एको\n",
            "5 घाट\n",
            "6 ##ी\n",
            "7 ,\n",
            "8 र\n",
            "9 कालो\n",
            "10 र\n",
            "11 खरो\n",
            "12 र\n",
            "13 ##गको\n",
            "14 शरीरको\n",
            "15 साथ\n",
            "16 ठ\n",
            "17 ##लो\n",
            "18 ब\n",
            "19 ##त\n",
            "20 ##ख\n",
            "21 ।\n",
            "22 [SEP]\n",
            "0 [CLS]\n",
            "1 एक\n",
            "2 चमक\n",
            "3 ##िलो\n",
            "4 सत\n",
            "5 ##ो\n",
            "6 सत\n",
            "7 ##न\n",
            "8 र\n",
            "9 एक\n",
            "10 गाढा\n",
            "11 मक\n",
            "12 ##ट\n",
            "13 र\n",
            "14 पछाडि\n",
            "15 एक\n",
            "16 वाटर\n",
            "17 ##बर\n",
            "18 ##ड\n",
            "19 ।\n",
            "20 [SEP]\n",
            "0 [CLS]\n",
            "1 चरा\n",
            "2 एक\n",
            "3 खरो\n",
            "4 टाउको\n",
            "5 र\n",
            "6 सत\n",
            "7 ##ो\n",
            "8 घाट\n",
            "9 ##ी\n",
            "10 सग\n",
            "11 कालो\n",
            "12 शरीर\n",
            "13 छ\n",
            "14 ।\n",
            "15 [SEP]\n",
            "0 [CLS]\n",
            "1 सन\n",
            "2 ##दर\n",
            "3 पानी\n",
            "4 फाउ\n",
            "5 ##लमा\n",
            "6 र\n",
            "7 ##श\n",
            "8 ##मी\n",
            "9 ##ल\n",
            "10 सिल\n",
            "11 ##की\n",
            "12 हल\n",
            "13 ##का\n",
            "14 खरो\n",
            "15 र\n",
            "16 टाउको\n",
            "17 ##को\n",
            "18 प\n",
            "19 ##वा\n",
            "20 ##ख\n",
            "21 ##हर\n",
            "22 ,\n",
            "23 एक\n",
            "24 मध\n",
            "25 ##यम\n",
            "26 लामो\n",
            "27 च\n",
            "28 ##च\n",
            "29 ##चो\n",
            "30 ,\n",
            "31 सत\n",
            "32 ##ो\n",
            "33 र\n",
            "34 ##खा\n",
            "35 ##हर\n",
            "36 यसको\n",
            "37 तल\n",
            "38 ##लो\n",
            "39 घाट\n",
            "40 ##ी\n",
            "41 र\n",
            "42 पछाडि\n",
            "43 सत\n",
            "44 ##ो\n",
            "45 र\n",
            "46 ##खा\n",
            "47 ##हर\n",
            "48 ।\n",
            "49 [SEP]\n",
            "0 [CLS]\n",
            "1 यो\n",
            "2 सप\n",
            "3 ##ट\n",
            "4 गरिएको\n",
            "5 जस\n",
            "6 ##तो\n",
            "7 चराको\n",
            "8 सब\n",
            "9 कालो\n",
            "10 अन\n",
            "11 ##हार\n",
            "12 ,\n",
            "13 र\n",
            "14 लामो\n",
            "15 ,\n",
            "16 पातलो\n",
            "17 च\n",
            "18 ##च\n",
            "19 ##चो\n",
            "20 ह\n",
            "21 ##न\n",
            "22 ##छ\n",
            "23 ।\n",
            "24 [SEP]\n",
            "0 [CLS]\n",
            "1 एक\n",
            "2 खरो\n",
            "3 पट\n",
            "4 र\n",
            "5 घाट\n",
            "6 ##ी\n",
            "7 र\n",
            "8 एक\n",
            "9 लामो\n",
            "10 सम\n",
            "11 ##तल\n",
            "12 बिल\n",
            "13 सग\n",
            "14 एक\n",
            "15 खरो\n",
            "16 चरा\n",
            "17 ।\n",
            "18 [SEP]\n",
            "0 [CLS]\n",
            "1 यो\n",
            "2 चराको\n",
            "3 लामो\n",
            "4 घाट\n",
            "5 ##ी\n",
            "6 र\n",
            "7 सत\n",
            "8 ##ो\n",
            "9 घाट\n",
            "10 ##ी\n",
            "11 ,\n",
            "12 सत\n",
            "13 ##न\n",
            "14 ,\n",
            "15 र\n",
            "16 पट\n",
            "17 ,\n",
            "18 र\n",
            "19 बाकी\n",
            "20 चरा\n",
            "21 खरो\n",
            "22 खरो\n",
            "23 छ\n",
            "24 ।\n",
            "25 [SEP]\n",
            "0 [CLS]\n",
            "1 कालो\n",
            "2 र\n",
            "3 c\n",
            "4 ##ol\n",
            "5 ##ore\n",
            "6 ##d\n",
            "7 गल\n",
            "8 ##ी\n",
            "9 पानी\n",
            "10 चरा\n",
            "11 ##हर\n",
            "12 पर\n",
            "13 ##काश\n",
            "14 खरो\n",
            "15 वा\n",
            "16 सत\n",
            "17 ##ो\n",
            "18 पट\n",
            "19 र\n",
            "20 शब\n",
            "21 ##र\n",
            "22 ##ट\n",
            "23 कट\n",
            "24 ##ब\n",
            "25 ##ज\n",
            "26 ##हर\n",
            "27 ,\n",
            "28 पनि\n",
            "29 पोइ\n",
            "30 ##न\n",
            "31 ##ट\n",
            "32 बिल\n",
            "33 र\n",
            "34 हल\n",
            "35 ##का\n",
            "36 अ\n",
            "37 ##यर\n",
            "38 ##ो\n",
            "39 ।\n",
            "40 [SEP]\n",
            "0 [CLS]\n",
            "1 यसको\n",
            "2 छातीमा\n",
            "3 सत\n",
            "4 ##ो\n",
            "5 भएको\n",
            "6 एक\n",
            "7 पातलो\n",
            "8 कालो\n",
            "9 चरा\n",
            "10 ।\n",
            "11 [SEP]\n",
            "0 [CLS]\n",
            "1 मध\n",
            "2 ##यम\n",
            "3 आकारको\n",
            "4 पातलो\n",
            "5 र\n",
            "6 पोख\n",
            "7 ##त\n",
            "8 हल\n",
            "9 ##का\n",
            "10 खरो\n",
            "11 च\n",
            "12 ##च\n",
            "13 ##चो\n",
            "14 ##मा\n",
            "15 ,\n",
            "16 यो\n",
            "17 पानी\n",
            "18 चराको\n",
            "19 साथ\n",
            "20 कालो\n",
            "21 आखा\n",
            "22 र\n",
            "23 एक\n",
            "24 सत\n",
            "25 ##ो\n",
            "26 घाट\n",
            "27 ##ी\n",
            "28 छ\n",
            "29 जब\n",
            "30 यो\n",
            "31 शरीर\n",
            "32 सत\n",
            "33 ##ो\n",
            "34 टिप\n",
            "35 गरिएको\n",
            "36 प\n",
            "37 ##वाल\n",
            "38 ##मा\n",
            "39 कालो\n",
            "40 छ\n",
            "41 ।\n",
            "42 [SEP]\n",
            "0 [CLS]\n",
            "1 लामो\n",
            "2 हवाइ\n",
            "3 ##ट\n",
            "4 n\n",
            "5 ##ok\n",
            "6 ##ed\n",
            "7 पानी\n",
            "8 चरा\n",
            "9 एक\n",
            "10 कालो\n",
            "11 सप\n",
            "12 ##याक\n",
            "13 ##ड\n",
            "14 शरीर\n",
            "15 सग\n",
            "16 ।\n",
            "17 [SEP]\n",
            "0 [CLS]\n",
            "1 यो\n",
            "2 ठ\n",
            "3 ##लो\n",
            "4 पक\n",
            "5 ##षी\n",
            "6 ##को\n",
            "7 शीर\n",
            "8 ##ष\n",
            "9 पक\n",
            "10 ##षमा\n",
            "11 अन\n",
            "12 ##डर\n",
            "13 ##साइड\n",
            "14 ##मा\n",
            "15 सत\n",
            "16 ##ो\n",
            "17 र\n",
            "18 खरो\n",
            "19 ##मा\n",
            "20 लामो\n",
            "21 बाक\n",
            "22 ##लो\n",
            "23 घाट\n",
            "24 ##ी\n",
            "25 छ\n",
            "26 ।\n",
            "27 [SEP]\n",
            "0 [CLS]\n",
            "1 यो\n",
            "2 झिल\n",
            "3 ##ली\n",
            "4 चराको\n",
            "5 बाकी\n",
            "6 एक\n",
            "7 वहा\n",
            "8 ##इट\n",
            "9 पट\n",
            "10 र\n",
            "11 गाढा\n",
            "12 खरो\n",
            "13 प\n",
            "14 ##घ\n",
            "15 ##ी\n",
            "16 ##हर\n",
            "17 को\n",
            "18 साथ\n",
            "19 शरीर\n",
            "20 को\n",
            "21 साथ\n",
            "22 गाढा\n",
            "23 खरो\n",
            "24 पक\n",
            "25 ##का\n",
            "26 सग\n",
            "27 छ\n",
            "28 ।\n",
            "29 [SEP]\n",
            "0 [CLS]\n",
            "1 साना\n",
            "2 पख\n",
            "3 ##टा\n",
            "4 र\n",
            "5 सत\n",
            "6 ##ो\n",
            "7 पट\n",
            "8 भएको\n",
            "9 एक\n",
            "10 ठ\n",
            "11 ##लो\n",
            "12 चरा\n",
            "13 ।\n",
            "14 [SEP]\n",
            "0 [CLS]\n",
            "1 यो\n",
            "2 चराको\n",
            "3 कहि\n",
            "4 सत\n",
            "5 ##ो\n",
            "6 र\n",
            "7 मध\n",
            "8 ##यम\n",
            "9 लम\n",
            "10 ##बाई\n",
            "11 च\n",
            "12 ##च\n",
            "13 ##चो\n",
            "14 सग\n",
            "15 परा\n",
            "16 ##य\n",
            "17 :\n",
            "18 कालो\n",
            "19 शरीर\n",
            "20 छ\n",
            "21 ।\n",
            "22 [SEP]\n",
            "0 [CLS]\n",
            "1 चराको\n",
            "2 लामो\n",
            "3 घाट\n",
            "4 ##ी\n",
            "5 छ\n",
            "6 जन\n",
            "7 घ\n",
            "8 ##मा\n",
            "9 ##उरो\n",
            "10 र\n",
            "11 खरो\n",
            "12 छ\n",
            "13 ।\n",
            "14 [SEP]\n",
            "0 [CLS]\n",
            "1 एक\n",
            "2 लामो\n",
            "3 पोइ\n",
            "4 ##न\n",
            "5 ##ट\n",
            "6 प\n",
            "7 ##यो\n",
            "8 ##सक\n",
            "9 ##को\n",
            "10 साथ\n",
            "11 एक\n",
            "12 चरा\n",
            "13 ,\n",
            "14 एक\n",
            "15 गोला\n",
            "16 ##कार\n",
            "17 मक\n",
            "18 ##ट\n",
            "19 ,\n",
            "20 र\n",
            "21 सत\n",
            "22 ##ो\n",
            "23 सत\n",
            "24 ##न\n",
            "25 [SEP]\n",
            "0 [CLS]\n",
            "1 यो\n",
            "2 चराको\n",
            "3 सत\n",
            "4 ##ो\n",
            "5 घाट\n",
            "6 ##ीको\n",
            "7 ,\n",
            "8 पछाडि\n",
            "9 ,\n",
            "10 र\n",
            "11 पख\n",
            "12 ##टाको\n",
            "13 साथ\n",
            "14 छ\n",
            "15 ।\n",
            "16 [SEP]\n",
            "0 [CLS]\n",
            "1 यो\n",
            "2 एक\n",
            "3 खरो\n",
            "4 र\n",
            "5 सत\n",
            "6 ##ो\n",
            "7 चराको\n",
            "8 हो\n",
            "9 यसको\n",
            "10 सत\n",
            "11 ##ो\n",
            "12 बिल\n",
            "13 र\n",
            "14 खरो\n",
            "15 मक\n",
            "16 ##ट\n",
            "17 छ\n",
            "18 [SEP]\n",
            "0 [CLS]\n",
            "1 सत\n",
            "2 ##ो\n",
            "3 घाट\n",
            "4 ##ी\n",
            "5 र\n",
            "6 साना\n",
            "7 कालो\n",
            "8 आखा\n",
            "9 ##को\n",
            "10 साथ\n",
            "11 एक\n",
            "12 खरो\n",
            "13 पानी\n",
            "14 पौडी\n",
            "15 चरा\n",
            "16 ।\n",
            "17 [SEP]\n",
            "0 [CLS]\n",
            "1 गाढा\n",
            "2 खरो\n",
            "3 पक\n",
            "4 ##षी\n",
            "5 ##हर\n",
            "6 गाढा\n",
            "7 खरो\n",
            "8 पख\n",
            "9 ##हरको\n",
            "10 साथ\n",
            "11 गाढा\n",
            "12 खरो\n",
            "13 पख\n",
            "14 ##हर\n",
            "15 जो\n",
            "16 खरो\n",
            "17 ध\n",
            "18 ##लोक\n",
            "19 ##ो\n",
            "20 वरिपरि\n",
            "21 खरो\n",
            "22 च\n",
            "23 ##च\n",
            "24 ##चो\n",
            "25 ##मा\n",
            "26 घ\n",
            "27 ##मा\n",
            "28 ##उ\n",
            "29 ##दछ\n",
            "30 ##न\n",
            "31 जन\n",
            "32 घाट\n",
            "33 ##ीको\n",
            "34 किनारमा\n",
            "35 खर\n",
            "36 फाल\n",
            "37 ##छन\n",
            "38 ।\n",
            "39 [SEP]\n",
            "0 [CLS]\n",
            "1 चराको\n",
            "2 कालो\n",
            "3 टाउको\n",
            "4 र\n",
            "5 सत\n",
            "6 ##ो\n",
            "7 घाट\n",
            "8 ##ी\n",
            "9 छ\n",
            "10 ।\n",
            "11 [SEP]\n",
            "0 [CLS]\n",
            "1 पानीमा\n",
            "2 चरा\n",
            "3 छ\n",
            "4 ,\n",
            "5 एक\n",
            "6 गाढा\n",
            "7 खरो\n",
            "8 टाउको\n",
            "9 छ\n",
            "10 एक\n",
            "11 सत\n",
            "12 ##ो\n",
            "13 पट\n",
            "14 र\n",
            "15 खरो\n",
            "16 प\n",
            "17 ##वा\n",
            "18 ##ख\n",
            "19 को\n",
            "20 तह\n",
            "21 ##हर\n",
            "22 सग\n",
            "23 ।\n",
            "24 [SEP]\n",
            "0 [CLS]\n",
            "1 एउटा\n",
            "2 चरा\n",
            "3 ##सग\n",
            "4 धर\n",
            "5 सानो\n",
            "6 रातो\n",
            "7 आखा\n",
            "8 छ\n",
            "9 ,\n",
            "10 हल\n",
            "11 ##का\n",
            "12 खरो\n",
            "13 मक\n",
            "14 ##ट\n",
            "15 र\n",
            "16 सत\n",
            "17 ##ो\n",
            "18 पख\n",
            "19 ##टा\n",
            "20 ##वार\n",
            "21 ##हर\n",
            "22 ।\n",
            "23 [SEP]\n",
            "0 [CLS]\n",
            "1 यो\n",
            "2 ब\n",
            "3 ##त\n",
            "4 ##ख\n",
            "5 ##को\n",
            "6 पर\n",
            "7 ##काश\n",
            "8 र\n",
            "9 गाढा\n",
            "10 खरो\n",
            "11 प\n",
            "12 ##घ\n",
            "13 ##ी\n",
            "14 ,\n",
            "15 राउ\n",
            "16 ##न\n",
            "17 ##ड\n",
            "18 आखा\n",
            "19 ,\n",
            "20 लामो\n",
            "21 सम\n",
            "22 ##तल\n",
            "23 च\n",
            "24 ##च\n",
            "25 ##चो\n",
            "26 ##मा\n",
            "27 छ\n",
            "28 ।\n",
            "29 [SEP]\n",
            "0 [CLS]\n",
            "1 चराको\n",
            "2 टाउको\n",
            "3 खरो\n",
            "4 र\n",
            "5 चराको\n",
            "6 घाट\n",
            "7 ##ी\n",
            "8 हरियो\n",
            "9 छ\n",
            "10 ।\n",
            "11 [SEP]\n",
            "0 [CLS]\n",
            "1 सत\n",
            "2 ##ो\n",
            "3 मक\n",
            "4 ##ट\n",
            "5 र\n",
            "6 कालो\n",
            "7 बिल\n",
            "8 ##को\n",
            "9 साथ\n",
            "10 कालो\n",
            "11 र\n",
            "12 सत\n",
            "13 ##ो\n",
            "14 चरा\n",
            "15 [SEP]\n",
            "0 [CLS]\n",
            "1 यो\n",
            "2 चराको\n",
            "3 सत\n",
            "4 ##ो\n",
            "5 शरीर\n",
            "6 र\n",
            "7 कालो\n",
            "8 टाउको\n",
            "9 छ\n",
            "10 ।\n",
            "11 मक\n",
            "12 ##ट\n",
            "13 सत\n",
            "14 ##ो\n",
            "15 भएको\n",
            "16 जस\n",
            "17 ##तो\n",
            "18 द\n",
            "19 ##खि\n",
            "20 ##न\n",
            "21 ##छ\n",
            "22 र\n",
            "23 पख\n",
            "24 ##टा\n",
            "25 ##लाई\n",
            "26 यी\n",
            "27 स\n",
            "28 ##झा\n",
            "29 ##वह\n",
            "30 ##रमा\n",
            "31 कालो\n",
            "32 छ\n",
            "33 ।\n",
            "34 [SEP]\n",
            "0 [CLS]\n",
            "1 खरो\n",
            "2 मक\n",
            "3 ##ट\n",
            "4 ,\n",
            "5 सत\n",
            "6 ##ो\n",
            "7 घाट\n",
            "8 ##ी\n",
            "9 र\n",
            "10 कालो\n",
            "11 शरीर\n",
            "12 ,\n",
            "13 ठ\n",
            "14 ##लो\n",
            "15 चल\n",
            "16 ##ो\n",
            "17 ,\n",
            "18 रातो\n",
            "19 आखा\n",
            "20 ##मा\n",
            "21 ठ\n",
            "22 ##लो\n",
            "23 चरम\n",
            "24 शरीर\n",
            "25 ,\n",
            "26 रातो\n",
            "27 आखा\n",
            "28 ।\n",
            "29 [SEP]\n",
            "0 [CLS]\n",
            "1 सत\n",
            "2 ##ो\n",
            "3 र\n",
            "4 कालो\n",
            "5 छाप\n",
            "6 भएको\n",
            "7 मध\n",
            "8 ##यम\n",
            "9 चरा\n",
            "10 ।\n",
            "11 [SEP]\n",
            "0 [CLS]\n",
            "1 यो\n",
            "2 एक\n",
            "3 वहा\n",
            "4 ##इट\n",
            "5 पट\n",
            "6 र\n",
            "7 सत\n",
            "8 ##ो\n",
            "9 र\n",
            "10 कालो\n",
            "11 धारा\n",
            "12 सग\n",
            "13 एक\n",
            "14 वहा\n",
            "15 ##इट\n",
            "16 पट\n",
            "17 र\n",
            "18 सत\n",
            "19 ##ो\n",
            "20 पट\n",
            "21 ##टि\n",
            "22 सग\n",
            "23 कालो\n",
            "24 चरा\n",
            "25 हो\n",
            "26 ।\n",
            "27 [SEP]\n",
            "0 [CLS]\n",
            "1 यो\n",
            "2 चराको\n",
            "3 सत\n",
            "4 ##ो\n",
            "5 घाट\n",
            "6 ##ी\n",
            "7 ,\n",
            "8 र\n",
            "9 खरो\n",
            "10 टाउको\n",
            "11 र\n",
            "12 पछाडि\n",
            "13 छ\n",
            "14 [SEP]\n",
            "0 [CLS]\n",
            "1 यो\n",
            "2 चरि\n",
            "3 ##ट\n",
            "4 पक\n",
            "5 ##क\n",
            "6 आफनो\n",
            "7 आखा\n",
            "8 आफनो\n",
            "9 आखा\n",
            "10 यसको\n",
            "11 पछाडि\n",
            "12 छ\n",
            "13 र\n",
            "14 यसको\n",
            "15 पछाडि\n",
            "16 यसको\n",
            "17 निलो\n",
            "18 र\n",
            "19 कालो\n",
            "20 सटर\n",
            "21 ##िग\n",
            "22 ##स\n",
            "23 सग\n",
            "24 ।\n",
            "25 [SEP]\n",
            "0 [CLS]\n",
            "1 चराको\n",
            "2 कालो\n",
            "3 टाउको\n",
            "4 र\n",
            "5 सत\n",
            "6 ##ो\n",
            "7 घाट\n",
            "8 ##ी\n",
            "9 एक\n",
            "10 खरो\n",
            "11 च\n",
            "12 ##च\n",
            "13 ##चो\n",
            "14 सग\n",
            "15 छ\n",
            "16 ।\n",
            "17 [SEP]\n",
            "0 [CLS]\n",
            "1 चराको\n",
            "2 लामो\n",
            "3 घाट\n",
            "4 ##ी\n",
            "5 छ\n",
            "6 जन\n",
            "7 कालो\n",
            "8 र\n",
            "9 सत\n",
            "10 ##ो\n",
            "11 हो\n",
            "12 ।\n",
            "13 [SEP]\n",
            "0 [CLS]\n",
            "1 लामो\n",
            "2 ती\n",
            "3 ##बर\n",
            "4 ध\n",
            "5 ##लोक\n",
            "6 ##ो\n",
            "7 साथ\n",
            "8 एक\n",
            "9 जल\n",
            "10 ##ो\n",
            "11 चरा\n",
            "12 ##हर\n",
            "13 जसको\n",
            "14 पख\n",
            "15 ##टा\n",
            "16 सत\n",
            "17 ##ो\n",
            "18 सप\n",
            "19 ##ोक\n",
            "20 ##ल\n",
            "21 ह\n",
            "22 ##न\n",
            "23 ##छ\n",
            "24 ।\n",
            "25 [SEP]\n"
          ]
        }
      ]
    },
    {
      "cell_type": "code",
      "source": [
        "len(text_embeddings)"
      ],
      "metadata": {
        "colab": {
          "base_uri": "https://localhost:8080/"
        },
        "id": "BX9Xhlnq95mM",
        "outputId": "dbb46378-2080-4cc1-fa7a-b5a107739114"
      },
      "execution_count": null,
      "outputs": [
        {
          "output_type": "execute_result",
          "data": {
            "text/plain": [
              "5005"
            ]
          },
          "metadata": {},
          "execution_count": 169
        }
      ]
    },
    {
      "cell_type": "code",
      "source": [
        "index_to_remove"
      ],
      "metadata": {
        "colab": {
          "base_uri": "https://localhost:8080/"
        },
        "id": "Gxd4rU_tyf7k",
        "outputId": "32fa7df1-0e5d-4063-f21c-c2271b1b20b5"
      },
      "execution_count": null,
      "outputs": [
        {
          "output_type": "execute_result",
          "data": {
            "text/plain": [
              "[436, 1355, 3624, 3644, 3775]"
            ]
          },
          "metadata": {},
          "execution_count": 178
        }
      ]
    },
    {
      "cell_type": "code",
      "source": [
        "for index in index_to_remove:\n",
        "    del text_embeddings[index]"
      ],
      "metadata": {
        "id": "Rh7LheHqydYr"
      },
      "execution_count": null,
      "outputs": []
    },
    {
      "cell_type": "code",
      "source": [
        "text_embeds = np.asarray(text_embeddings)"
      ],
      "metadata": {
        "id": "sHeD3PXbxAuS"
      },
      "execution_count": null,
      "outputs": []
    },
    {
      "cell_type": "code",
      "source": [
        "text_embeds.shape"
      ],
      "metadata": {
        "colab": {
          "base_uri": "https://localhost:8080/"
        },
        "id": "tmQKovW6xFZd",
        "outputId": "3247eae8-b804-4a7b-c008-862239c68edf"
      },
      "execution_count": null,
      "outputs": [
        {
          "output_type": "execute_result",
          "data": {
            "text/plain": [
              "(5000, 768)"
            ]
          },
          "metadata": {},
          "execution_count": 181
        }
      ]
    },
    {
      "cell_type": "code",
      "source": [
        "# save the numpy array in a pickle file\n",
        "with open(f\"{ROOT_DIR}/data/dataset/embeddings.pickle\", 'wb') as f:\n",
        "  pickle.dump(text_embeds, f)"
      ],
      "metadata": {
        "id": "_icBqxTK_w-K"
      },
      "execution_count": null,
      "outputs": []
    },
    {
      "cell_type": "code",
      "source": [
        "text_e = pd.read_pickle(f\"{ROOT_DIR}/data/dataset/embeddings.pickle\")"
      ],
      "metadata": {
        "id": "xnuSv_gnAYXM"
      },
      "execution_count": null,
      "outputs": []
    },
    {
      "cell_type": "code",
      "source": [
        "len(text_e)"
      ],
      "metadata": {
        "colab": {
          "base_uri": "https://localhost:8080/"
        },
        "id": "5PK0apHxAezb",
        "outputId": "92673145-b893-41d7-bade-4a317fd35fae"
      },
      "execution_count": null,
      "outputs": [
        {
          "output_type": "execute_result",
          "data": {
            "text/plain": [
              "5000"
            ]
          },
          "metadata": {},
          "execution_count": 184
        }
      ]
    },
    {
      "cell_type": "markdown",
      "source": [
        "# Load Dataset"
      ],
      "metadata": {
        "id": "VpcAAWYeXigb"
      }
    },
    {
      "cell_type": "code",
      "source": [
        "images = pd.read_pickle(f\"{ROOT_DIR}/data/dataset/normalized_images.pickle\")\n",
        "text_embeds = pd.read_pickle(f\"{ROOT_DIR}/data/dataset/embeddings.pickle\")"
      ],
      "metadata": {
        "id": "Zy67lYsHXmxN"
      },
      "execution_count": null,
      "outputs": []
    },
    {
      "cell_type": "code",
      "source": [
        "len(images), len(text_embeds)"
      ],
      "metadata": {
        "colab": {
          "base_uri": "https://localhost:8080/"
        },
        "id": "LIVPmiOUY_Kn",
        "outputId": "06eb6f09-90d6-4460-aa4b-306830fedead"
      },
      "execution_count": null,
      "outputs": [
        {
          "output_type": "execute_result",
          "data": {
            "text/plain": [
              "(5000, 5000)"
            ]
          },
          "metadata": {},
          "execution_count": 13
        }
      ]
    },
    {
      "cell_type": "code",
      "source": [
        "print(f\"The shape of image is {images[0].shape}\")\n",
        "print(f\"The shape of text embeddings is {text_embeds[0].shape}\")"
      ],
      "metadata": {
        "colab": {
          "base_uri": "https://localhost:8080/"
        },
        "id": "URq79ZZ4ZWYh",
        "outputId": "cda064c2-c35c-4090-af48-bbe03ba76344"
      },
      "execution_count": null,
      "outputs": [
        {
          "output_type": "stream",
          "name": "stdout",
          "text": [
            "The shape of image is (64, 64, 3)\n",
            "The shape of text embeddings is (768,)\n"
          ]
        }
      ]
    },
    {
      "cell_type": "code",
      "source": [
        "print(f\"The type of image is {type(images)}\")\n",
        "print(f\"The type of text embeddings is {type(text_embeds)}\")"
      ],
      "metadata": {
        "colab": {
          "base_uri": "https://localhost:8080/"
        },
        "id": "Dbm1_EuxcUHq",
        "outputId": "09f5ca3d-326d-4663-e025-c3160439e52f"
      },
      "execution_count": null,
      "outputs": [
        {
          "output_type": "stream",
          "name": "stdout",
          "text": [
            "The type of image is <class 'numpy.ndarray'>\n",
            "The type of text embeddings is <class 'numpy.ndarray'>\n"
          ]
        }
      ]
    },
    {
      "cell_type": "markdown",
      "source": [
        "# GAN architecture"
      ],
      "metadata": {
        "id": "fblJJiMBAt8k"
      }
    },
    {
      "cell_type": "code",
      "source": [
        "GENERATE_RES = 2 # Generation resolution factor \n",
        "# (1=32, 2=64, 3=96, 4=128, etc.)\n",
        "GENERATE_SQUARE = 32 * GENERATE_RES # rows/cols (should be square)\n",
        "IMAGE_CHANNELS = 3\n",
        "\n",
        "# Preview image \n",
        "PREVIEW_ROWS = 4\n",
        "PREVIEW_COLS = 7\n",
        "PREVIEW_MARGIN = 16"
      ],
      "metadata": {
        "id": "Q86d1EzKRsPL"
      },
      "execution_count": null,
      "outputs": []
    },
    {
      "cell_type": "code",
      "source": [
        "import tensorflow as tf\n",
        "import matplotlib.pyplot as plt\n",
        "from tensorflow.keras.layers import Input, Reshape, Dropout, Dense, Concatenate \n",
        "from tensorflow.keras.layers import Flatten, BatchNormalization\n",
        "from tensorflow.keras.layers import Activation, ZeroPadding2D\n",
        "from tensorflow.keras.layers import LeakyReLU\n",
        "from tensorflow.keras.layers import UpSampling2D, Conv2D, Conv2DTranspose\n",
        "from tensorflow.keras.models import Sequential, Model, load_model\n",
        "from tensorflow.keras.optimizers import Adam\n",
        "from tensorflow.keras.utils import plot_model\n",
        "from tensorflow.keras import initializers\n",
        "from sklearn.metrics import mean_squared_error"
      ],
      "metadata": {
        "id": "_mM7bc_01CTU"
      },
      "execution_count": null,
      "outputs": []
    },
    {
      "cell_type": "code",
      "source": [
        "def build_generator(seed_size,embedding_size, channels):\n",
        "  input_seed = Input(shape=seed_size)\n",
        "  input_embed = Input(shape = embedding_size)\n",
        "  d0 = Dense(128)(input_embed)\n",
        "  leaky0 = LeakyReLU(alpha=0.2)(d0)\n",
        "\n",
        "  merge = Concatenate()([input_seed, leaky0])\n",
        "\n",
        "  d1 = Dense(4*4*256,activation=\"relu\")(merge)\n",
        "  reshape = Reshape((4,4,256))(d1)\n",
        "\n",
        "  upSamp1 = UpSampling2D()(reshape)\n",
        "  conv2d1 = Conv2DTranspose(256,kernel_size=5,padding=\"same\",kernel_initializer=initializers.RandomNormal(stddev=0.02))(upSamp1)\n",
        "  batchNorm1 = BatchNormalization(momentum=0.8)(conv2d1)\n",
        "  leaky1 = LeakyReLU(alpha=0.2)(batchNorm1)\n",
        "\n",
        "  upSamp2 = UpSampling2D()(leaky1)\n",
        "  conv2d2 = Conv2DTranspose(256,kernel_size=5,padding=\"same\",kernel_initializer=initializers.RandomNormal(stddev=0.02))(upSamp2)\n",
        "  batchNorm2 = BatchNormalization(momentum=0.8)(conv2d2)\n",
        "  leaky2 = LeakyReLU(alpha=0.2)(batchNorm2)\n",
        "\n",
        "  upSamp3 = UpSampling2D()(leaky2)\n",
        "  conv2d3 = Conv2DTranspose(128,kernel_size=4,padding=\"same\",kernel_initializer=initializers.RandomNormal(stddev=0.02))(upSamp3)\n",
        "  batchNorm3 = BatchNormalization(momentum=0.8)(conv2d3)\n",
        "  leaky3 = LeakyReLU(alpha=0.2)(batchNorm3)\n",
        "\n",
        "  upSamp4 = UpSampling2D(size=(GENERATE_RES,GENERATE_RES))(leaky3)\n",
        "  conv2d4 = Conv2DTranspose(128,kernel_size=4,padding=\"same\",kernel_initializer=initializers.RandomNormal(stddev=0.02))(upSamp4)\n",
        "  batchNorm4 = BatchNormalization(momentum=0.8)(conv2d4)\n",
        "  leaky4 = LeakyReLU(alpha=0.2)(batchNorm4)\n",
        "\n",
        "  outputConv = Conv2DTranspose(channels,kernel_size=3,padding=\"same\",kernel_initializer=initializers.RandomNormal(stddev=0.02))(leaky4)\n",
        "  outputActi = Activation(\"tanh\")(outputConv)\n",
        "\n",
        "  model = Model(inputs=[input_seed,input_embed], outputs=outputActi)\n",
        "  return model"
      ],
      "metadata": {
        "id": "1qnXfeTT6rKT"
      },
      "execution_count": null,
      "outputs": []
    },
    {
      "cell_type": "code",
      "source": [
        "generator = build_generator(seed_size=100,embedding_size=768, channels=3)\n",
        "generator.load_weights(f\"{ROOT_DIR}/models/gen.h5\")\n",
        "generator.summary()"
      ],
      "metadata": {
        "colab": {
          "base_uri": "https://localhost:8080/"
        },
        "id": "s6IzlFeB6sga",
        "outputId": "8ef4c212-ea8e-41ba-b7de-68a48dceafb7"
      },
      "execution_count": null,
      "outputs": [
        {
          "output_type": "stream",
          "name": "stdout",
          "text": [
            "Model: \"model_1\"\n",
            "__________________________________________________________________________________________________\n",
            " Layer (type)                   Output Shape         Param #     Connected to                     \n",
            "==================================================================================================\n",
            " input_4 (InputLayer)           [(None, 768)]        0           []                               \n",
            "                                                                                                  \n",
            " dense_2 (Dense)                (None, 128)          98432       ['input_4[0][0]']                \n",
            "                                                                                                  \n",
            " input_3 (InputLayer)           [(None, 100)]        0           []                               \n",
            "                                                                                                  \n",
            " leaky_re_lu_5 (LeakyReLU)      (None, 128)          0           ['dense_2[0][0]']                \n",
            "                                                                                                  \n",
            " concatenate_1 (Concatenate)    (None, 228)          0           ['input_3[0][0]',                \n",
            "                                                                  'leaky_re_lu_5[0][0]']          \n",
            "                                                                                                  \n",
            " dense_3 (Dense)                (None, 4096)         937984      ['concatenate_1[0][0]']          \n",
            "                                                                                                  \n",
            " reshape_1 (Reshape)            (None, 4, 4, 256)    0           ['dense_3[0][0]']                \n",
            "                                                                                                  \n",
            " up_sampling2d_4 (UpSampling2D)  (None, 8, 8, 256)   0           ['reshape_1[0][0]']              \n",
            "                                                                                                  \n",
            " conv2d_transpose_5 (Conv2DTran  (None, 8, 8, 256)   1638656     ['up_sampling2d_4[0][0]']        \n",
            " spose)                                                                                           \n",
            "                                                                                                  \n",
            " batch_normalization_4 (BatchNo  (None, 8, 8, 256)   1024        ['conv2d_transpose_5[0][0]']     \n",
            " rmalization)                                                                                     \n",
            "                                                                                                  \n",
            " leaky_re_lu_6 (LeakyReLU)      (None, 8, 8, 256)    0           ['batch_normalization_4[0][0]']  \n",
            "                                                                                                  \n",
            " up_sampling2d_5 (UpSampling2D)  (None, 16, 16, 256)  0          ['leaky_re_lu_6[0][0]']          \n",
            "                                                                                                  \n",
            " conv2d_transpose_6 (Conv2DTran  (None, 16, 16, 256)  1638656    ['up_sampling2d_5[0][0]']        \n",
            " spose)                                                                                           \n",
            "                                                                                                  \n",
            " batch_normalization_5 (BatchNo  (None, 16, 16, 256)  1024       ['conv2d_transpose_6[0][0]']     \n",
            " rmalization)                                                                                     \n",
            "                                                                                                  \n",
            " leaky_re_lu_7 (LeakyReLU)      (None, 16, 16, 256)  0           ['batch_normalization_5[0][0]']  \n",
            "                                                                                                  \n",
            " up_sampling2d_6 (UpSampling2D)  (None, 32, 32, 256)  0          ['leaky_re_lu_7[0][0]']          \n",
            "                                                                                                  \n",
            " conv2d_transpose_7 (Conv2DTran  (None, 32, 32, 128)  524416     ['up_sampling2d_6[0][0]']        \n",
            " spose)                                                                                           \n",
            "                                                                                                  \n",
            " batch_normalization_6 (BatchNo  (None, 32, 32, 128)  512        ['conv2d_transpose_7[0][0]']     \n",
            " rmalization)                                                                                     \n",
            "                                                                                                  \n",
            " leaky_re_lu_8 (LeakyReLU)      (None, 32, 32, 128)  0           ['batch_normalization_6[0][0]']  \n",
            "                                                                                                  \n",
            " up_sampling2d_7 (UpSampling2D)  (None, 64, 64, 128)  0          ['leaky_re_lu_8[0][0]']          \n",
            "                                                                                                  \n",
            " conv2d_transpose_8 (Conv2DTran  (None, 64, 64, 128)  262272     ['up_sampling2d_7[0][0]']        \n",
            " spose)                                                                                           \n",
            "                                                                                                  \n",
            " batch_normalization_7 (BatchNo  (None, 64, 64, 128)  512        ['conv2d_transpose_8[0][0]']     \n",
            " rmalization)                                                                                     \n",
            "                                                                                                  \n",
            " leaky_re_lu_9 (LeakyReLU)      (None, 64, 64, 128)  0           ['batch_normalization_7[0][0]']  \n",
            "                                                                                                  \n",
            " conv2d_transpose_9 (Conv2DTran  (None, 64, 64, 3)   3459        ['leaky_re_lu_9[0][0]']          \n",
            " spose)                                                                                           \n",
            "                                                                                                  \n",
            " activation_1 (Activation)      (None, 64, 64, 3)    0           ['conv2d_transpose_9[0][0]']     \n",
            "                                                                                                  \n",
            "==================================================================================================\n",
            "Total params: 5,106,947\n",
            "Trainable params: 5,105,411\n",
            "Non-trainable params: 1,536\n",
            "__________________________________________________________________________________________________\n"
          ]
        }
      ]
    },
    {
      "cell_type": "code",
      "source": [
        "def build_discriminator(image_shape, embedding_size):\n",
        "  input_shape = Input(shape=image_shape)\n",
        "  input_embed = Input(shape=embedding_size)\n",
        "\n",
        "  conv2d1 = Conv2D(32,kernel_size=4,strides=2,input_shape=image_shape,padding=\"same\",kernel_initializer=initializers.RandomNormal(stddev=0.02))(input_shape)\n",
        "  leaky1 = LeakyReLU(alpha=0.2)(conv2d1)\n",
        "\n",
        "  drop2 = Dropout(0.25)(leaky1)\n",
        "  conv2d2 = Conv2D(64, kernel_size=4, strides=2, padding=\"same\",kernel_initializer=initializers.RandomNormal(stddev=0.02))(drop2)\n",
        "  # zero2 = ZeroPadding2D(padding=((0,1),(0,1)))(conv2d2)\n",
        "  batchNorm2 = BatchNormalization(momentum=0.8)(conv2d2)\n",
        "  leaky2 = LeakyReLU(alpha=0.2)(batchNorm2)\n",
        "\n",
        "  drop3 = Dropout(0.25)(leaky2)\n",
        "  conv2d3 = Conv2D(128, kernel_size=4, strides=2, padding=\"same\",kernel_initializer=initializers.RandomNormal(stddev=0.02))(drop3)\n",
        "  batchNorm3 = BatchNormalization(momentum=0.8)(conv2d3)\n",
        "  leaky3 = LeakyReLU(alpha=0.2)(batchNorm3)\n",
        "\n",
        "  drop4 = Dropout(0.25)(leaky3)\n",
        "  conv2d4 = Conv2D(256, kernel_size=4, strides=2, padding=\"same\",kernel_initializer=initializers.RandomNormal(stddev=0.02))(drop4)\n",
        "  batchNorm4 = BatchNormalization(momentum=0.8)(conv2d4)\n",
        "  leaky4 = LeakyReLU(alpha=0.2)(batchNorm4)\n",
        "\n",
        "  dense_embed = Dense(128,kernel_initializer=initializers.RandomNormal(stddev=0.02))(input_embed)\n",
        "  leaky_embed = LeakyReLU(alpha=0.2)(dense_embed)\n",
        "  reshape_embed = Reshape((4,4,8))(leaky_embed)\n",
        "  merge_embed = Concatenate()([leaky4, reshape_embed])\n",
        "\n",
        "  drop5 = Dropout(0.25)(merge_embed)\n",
        "  conv2d5 = Conv2D(512, kernel_size=4,kernel_initializer=initializers.RandomNormal(stddev=0.02))(drop5)\n",
        "  batchNorm5 = BatchNormalization(momentum=0.8)(conv2d5)\n",
        "  leaky5 = LeakyReLU(alpha=0.2)(batchNorm5)\n",
        "\n",
        "  drop6 = Dropout(0.25)(leaky5)\n",
        "  flatten = Flatten()(drop6)\n",
        "  output = Dense(1,activation=\"sigmoid\")(flatten)\n",
        "\n",
        "  model = Model(inputs=[input_shape,input_embed], outputs=output)\n",
        "  return model"
      ],
      "metadata": {
        "id": "Ia5HstY21xqG"
      },
      "execution_count": null,
      "outputs": []
    },
    {
      "cell_type": "code",
      "source": [
        "discriminator = build_discriminator((64,64,3), 768)\n",
        "discriminator.load_weights(f\"{ROOT_DIR}/models/disc.h5\")\n",
        "discriminator.summary()"
      ],
      "metadata": {
        "id": "D1kzJRF_d3QS",
        "colab": {
          "base_uri": "https://localhost:8080/"
        },
        "outputId": "d46c407e-650f-4fda-a62f-7b6211b284c8"
      },
      "execution_count": null,
      "outputs": [
        {
          "output_type": "stream",
          "name": "stdout",
          "text": [
            "Model: \"model_2\"\n",
            "__________________________________________________________________________________________________\n",
            " Layer (type)                   Output Shape         Param #     Connected to                     \n",
            "==================================================================================================\n",
            " input_5 (InputLayer)           [(None, 64, 64, 3)]  0           []                               \n",
            "                                                                                                  \n",
            " conv2d (Conv2D)                (None, 32, 32, 32)   1568        ['input_5[0][0]']                \n",
            "                                                                                                  \n",
            " leaky_re_lu_10 (LeakyReLU)     (None, 32, 32, 32)   0           ['conv2d[0][0]']                 \n",
            "                                                                                                  \n",
            " dropout (Dropout)              (None, 32, 32, 32)   0           ['leaky_re_lu_10[0][0]']         \n",
            "                                                                                                  \n",
            " conv2d_1 (Conv2D)              (None, 16, 16, 64)   32832       ['dropout[0][0]']                \n",
            "                                                                                                  \n",
            " batch_normalization_8 (BatchNo  (None, 16, 16, 64)  256         ['conv2d_1[0][0]']               \n",
            " rmalization)                                                                                     \n",
            "                                                                                                  \n",
            " leaky_re_lu_11 (LeakyReLU)     (None, 16, 16, 64)   0           ['batch_normalization_8[0][0]']  \n",
            "                                                                                                  \n",
            " dropout_1 (Dropout)            (None, 16, 16, 64)   0           ['leaky_re_lu_11[0][0]']         \n",
            "                                                                                                  \n",
            " conv2d_2 (Conv2D)              (None, 8, 8, 128)    131200      ['dropout_1[0][0]']              \n",
            "                                                                                                  \n",
            " batch_normalization_9 (BatchNo  (None, 8, 8, 128)   512         ['conv2d_2[0][0]']               \n",
            " rmalization)                                                                                     \n",
            "                                                                                                  \n",
            " leaky_re_lu_12 (LeakyReLU)     (None, 8, 8, 128)    0           ['batch_normalization_9[0][0]']  \n",
            "                                                                                                  \n",
            " dropout_2 (Dropout)            (None, 8, 8, 128)    0           ['leaky_re_lu_12[0][0]']         \n",
            "                                                                                                  \n",
            " input_6 (InputLayer)           [(None, 768)]        0           []                               \n",
            "                                                                                                  \n",
            " conv2d_3 (Conv2D)              (None, 4, 4, 256)    524544      ['dropout_2[0][0]']              \n",
            "                                                                                                  \n",
            " dense_4 (Dense)                (None, 128)          98432       ['input_6[0][0]']                \n",
            "                                                                                                  \n",
            " batch_normalization_10 (BatchN  (None, 4, 4, 256)   1024        ['conv2d_3[0][0]']               \n",
            " ormalization)                                                                                    \n",
            "                                                                                                  \n",
            " leaky_re_lu_14 (LeakyReLU)     (None, 128)          0           ['dense_4[0][0]']                \n",
            "                                                                                                  \n",
            " leaky_re_lu_13 (LeakyReLU)     (None, 4, 4, 256)    0           ['batch_normalization_10[0][0]'] \n",
            "                                                                                                  \n",
            " reshape_2 (Reshape)            (None, 4, 4, 8)      0           ['leaky_re_lu_14[0][0]']         \n",
            "                                                                                                  \n",
            " concatenate_2 (Concatenate)    (None, 4, 4, 264)    0           ['leaky_re_lu_13[0][0]',         \n",
            "                                                                  'reshape_2[0][0]']              \n",
            "                                                                                                  \n",
            " dropout_3 (Dropout)            (None, 4, 4, 264)    0           ['concatenate_2[0][0]']          \n",
            "                                                                                                  \n",
            " conv2d_4 (Conv2D)              (None, 1, 1, 512)    2163200     ['dropout_3[0][0]']              \n",
            "                                                                                                  \n",
            " batch_normalization_11 (BatchN  (None, 1, 1, 512)   2048        ['conv2d_4[0][0]']               \n",
            " ormalization)                                                                                    \n",
            "                                                                                                  \n",
            " leaky_re_lu_15 (LeakyReLU)     (None, 1, 1, 512)    0           ['batch_normalization_11[0][0]'] \n",
            "                                                                                                  \n",
            " dropout_4 (Dropout)            (None, 1, 1, 512)    0           ['leaky_re_lu_15[0][0]']         \n",
            "                                                                                                  \n",
            " flatten (Flatten)              (None, 512)          0           ['dropout_4[0][0]']              \n",
            "                                                                                                  \n",
            " dense_5 (Dense)                (None, 1)            513         ['flatten[0][0]']                \n",
            "                                                                                                  \n",
            "==================================================================================================\n",
            "Total params: 2,956,129\n",
            "Trainable params: 2,954,209\n",
            "Non-trainable params: 1,920\n",
            "__________________________________________________________________________________________________\n"
          ]
        }
      ]
    },
    {
      "cell_type": "code",
      "source": [
        "def save_images(cnt,noise,embeds):\n",
        "  image_array = np.full(( \n",
        "      PREVIEW_MARGIN + (PREVIEW_ROWS * (GENERATE_SQUARE+PREVIEW_MARGIN)), \n",
        "      PREVIEW_MARGIN + (PREVIEW_COLS * (GENERATE_SQUARE+PREVIEW_MARGIN)), 3), \n",
        "      255, dtype=np.uint8)\n",
        "\n",
        "  generated_images = generator.predict((noise,embeds))\n",
        "\n",
        "  generated_images = 0.5 * generated_images + 0.5\n",
        "  image_count = 0\n",
        "  for row in range(PREVIEW_ROWS):\n",
        "      for col in range(PREVIEW_COLS):\n",
        "        r = row * (GENERATE_SQUARE+16) + PREVIEW_MARGIN\n",
        "        c = col * (GENERATE_SQUARE+16) + PREVIEW_MARGIN\n",
        "        image_array[r:r+GENERATE_SQUARE,c:c+GENERATE_SQUARE] \\\n",
        "            = generated_images[image_count] * 255\n",
        "        image_count += 1\n",
        "          \n",
        "  output_path = f\"{ROOT_DIR}/generated_images\"\n",
        "  if not os.path.exists(output_path):\n",
        "    os.makedirs(output_path)\n",
        "\n",
        "  filename = os.path.join(output_path,f\"train-{382+cnt}.png\")\n",
        "  im = Image.fromarray(image_array)\n",
        "  im.save(filename)"
      ],
      "metadata": {
        "id": "g-COT74t3o3Q"
      },
      "execution_count": null,
      "outputs": []
    },
    {
      "cell_type": "code",
      "source": [],
      "metadata": {
        "id": "tRb6yftOByXH"
      },
      "execution_count": null,
      "outputs": []
    },
    {
      "cell_type": "code",
      "source": [
        "# Sample output from the Generator\n",
        "noise = tf.random.normal([1, 100])\n",
        "generated_image = generator((noise,text_embeds[1].reshape(1,768)), training=False)\n",
        "\n",
        "plt.imshow(generated_image[0, :, :, 0])"
      ],
      "metadata": {
        "colab": {
          "base_uri": "https://localhost:8080/",
          "height": 235
        },
        "id": "Qt_HMkOh3Sm8",
        "outputId": "2fb98f10-1933-4165-cdd4-bf93a1060321"
      },
      "execution_count": null,
      "outputs": [
        {
          "output_type": "error",
          "ename": "NameError",
          "evalue": "ignored",
          "traceback": [
            "\u001b[0;31m---------------------------------------------------------------------------\u001b[0m",
            "\u001b[0;31mNameError\u001b[0m                                 Traceback (most recent call last)",
            "\u001b[0;32m<ipython-input-13-c459762e392f>\u001b[0m in \u001b[0;36m<cell line: 3>\u001b[0;34m()\u001b[0m\n\u001b[1;32m      1\u001b[0m \u001b[0;31m# Sample output from the Generator\u001b[0m\u001b[0;34m\u001b[0m\u001b[0;34m\u001b[0m\u001b[0m\n\u001b[1;32m      2\u001b[0m \u001b[0mnoise\u001b[0m \u001b[0;34m=\u001b[0m \u001b[0mtf\u001b[0m\u001b[0;34m.\u001b[0m\u001b[0mrandom\u001b[0m\u001b[0;34m.\u001b[0m\u001b[0mnormal\u001b[0m\u001b[0;34m(\u001b[0m\u001b[0;34m[\u001b[0m\u001b[0;36m1\u001b[0m\u001b[0;34m,\u001b[0m \u001b[0;36m100\u001b[0m\u001b[0;34m]\u001b[0m\u001b[0;34m)\u001b[0m\u001b[0;34m\u001b[0m\u001b[0;34m\u001b[0m\u001b[0m\n\u001b[0;32m----> 3\u001b[0;31m \u001b[0mgenerated_image\u001b[0m \u001b[0;34m=\u001b[0m \u001b[0mgenerator\u001b[0m\u001b[0;34m(\u001b[0m\u001b[0;34m(\u001b[0m\u001b[0mnoise\u001b[0m\u001b[0;34m,\u001b[0m\u001b[0mtext_embeds\u001b[0m\u001b[0;34m[\u001b[0m\u001b[0;36m1\u001b[0m\u001b[0;34m]\u001b[0m\u001b[0;34m.\u001b[0m\u001b[0mreshape\u001b[0m\u001b[0;34m(\u001b[0m\u001b[0;36m1\u001b[0m\u001b[0;34m,\u001b[0m\u001b[0;36m768\u001b[0m\u001b[0;34m)\u001b[0m\u001b[0;34m)\u001b[0m\u001b[0;34m,\u001b[0m \u001b[0mtraining\u001b[0m\u001b[0;34m=\u001b[0m\u001b[0;32mFalse\u001b[0m\u001b[0;34m)\u001b[0m\u001b[0;34m\u001b[0m\u001b[0;34m\u001b[0m\u001b[0m\n\u001b[0m\u001b[1;32m      4\u001b[0m \u001b[0;34m\u001b[0m\u001b[0m\n\u001b[1;32m      5\u001b[0m \u001b[0mplt\u001b[0m\u001b[0;34m.\u001b[0m\u001b[0mimshow\u001b[0m\u001b[0;34m(\u001b[0m\u001b[0mgenerated_image\u001b[0m\u001b[0;34m[\u001b[0m\u001b[0;36m0\u001b[0m\u001b[0;34m,\u001b[0m \u001b[0;34m:\u001b[0m\u001b[0;34m,\u001b[0m \u001b[0;34m:\u001b[0m\u001b[0;34m,\u001b[0m \u001b[0;36m0\u001b[0m\u001b[0;34m]\u001b[0m\u001b[0;34m)\u001b[0m\u001b[0;34m\u001b[0m\u001b[0;34m\u001b[0m\u001b[0m\n",
            "\u001b[0;31mNameError\u001b[0m: name 'text_embeds' is not defined"
          ]
        }
      ]
    },
    {
      "cell_type": "code",
      "source": [
        "decision = discriminator((generated_image,text_embeds[5].reshape(1,768)))\n",
        "print(decision)"
      ],
      "metadata": {
        "colab": {
          "base_uri": "https://localhost:8080/"
        },
        "id": "cb9ooKc_1TQH",
        "outputId": "e3eebb86-c7c8-41e1-9513-6ba359a82ffb"
      },
      "execution_count": null,
      "outputs": [
        {
          "output_type": "stream",
          "name": "stdout",
          "text": [
            "tf.Tensor([[0.4911868]], shape=(1, 1), dtype=float32)\n"
          ]
        }
      ]
    },
    {
      "cell_type": "code",
      "source": [
        "generator_optimizer = tf.keras.optimizers.Adam(learning_rate=2.0e-4,beta_1 = 0.5)\n",
        "discriminator_optimizer = tf.keras.optimizers.Adam(learning_rate=2.0e-4,beta_1 = 0.5)"
      ],
      "metadata": {
        "id": "OGs2sSEj7I27"
      },
      "execution_count": null,
      "outputs": []
    },
    {
      "cell_type": "markdown",
      "source": [
        "# Some error solving"
      ],
      "metadata": {
        "id": "IDgtxt5w7N4V"
      }
    },
    {
      "cell_type": "code",
      "source": [
        "# # save the numpy array in a pickle file\n",
        "# with open(f\"{ROOT_DIR}/data/dataset/embeddings.pickle\", 'wb') as f:\n",
        "#   pickle.dump(embeds, f)\n",
        "\n",
        "# # save the numpy array in a pickle file\n",
        "# with open(f\"{ROOT_DIR}/data/dataset/normalized_images.pickle\", 'wb') as f:\n",
        "#   pickle.dump(final_image, f)"
      ],
      "metadata": {
        "id": "1ZRIMSPMeyQ6"
      },
      "execution_count": null,
      "outputs": []
    },
    {
      "cell_type": "code",
      "source": [
        "embeds = pd.read_pickle(f\"{ROOT_DIR}/data/dataset/embeddings.pickle\")\n",
        "final_image = pd.read_pickle(f\"{ROOT_DIR}/data/dataset/normalized_images.pickle\")"
      ],
      "metadata": {
        "id": "qTdymEgnfIt-"
      },
      "execution_count": null,
      "outputs": []
    },
    {
      "cell_type": "code",
      "source": [
        "train_dataset = tf.data.Dataset.from_tensor_slices({'images': final_image,\n",
        "                                                    'embeddings': embeds}).shuffle(1000).batch(32)"
      ],
      "metadata": {
        "id": "TEPKu1s28C7T"
      },
      "execution_count": null,
      "outputs": []
    },
    {
      "cell_type": "markdown",
      "source": [
        "# TRAINING"
      ],
      "metadata": {
        "id": "tU2hC7bd7hDT"
      }
    },
    {
      "cell_type": "code",
      "source": [
        "# This method returns a helper function to compute cross entropy loss\n",
        "cross_entropy = tf.keras.losses.BinaryCrossentropy()\n",
        "\n",
        "def discriminator_loss(real_image_real_text, fake_image_real_text, real_image_fake_text):\n",
        "    real_loss = cross_entropy(tf.random.uniform(real_image_real_text.shape,0.8,1.0), real_image_real_text)\n",
        "    fake_loss = (cross_entropy(tf.random.uniform(fake_image_real_text.shape,0.0,0.2), fake_image_real_text) + \n",
        "                 cross_entropy(tf.random.uniform(real_image_fake_text.shape,0.0,0.2), real_image_fake_text))/2\n",
        "\n",
        "    total_loss = real_loss + fake_loss\n",
        "    return total_loss\n",
        "\n",
        "def generator_loss(fake_output):\n",
        "    return cross_entropy(tf.ones_like(fake_output), fake_output)"
      ],
      "metadata": {
        "id": "0x1wXlgcZ-Hf"
      },
      "execution_count": null,
      "outputs": []
    },
    {
      "cell_type": "code",
      "source": [
        "generator_optimizer = tf.keras.optimizers.Adam(learning_rate=2.0e-4,beta_1 = 0.5)\n",
        "discriminator_optimizer = tf.keras.optimizers.Adam(learning_rate=2.0e-4,beta_1 = 0.5)"
      ],
      "metadata": {
        "id": "Ym0b-LlOahU4"
      },
      "execution_count": null,
      "outputs": []
    },
    {
      "cell_type": "code",
      "source": [
        "BATCH_SIZE = 32\n",
        "SEED_SIZE = 100\n",
        "save_images_embeddings = np.copy(embeds[:28])"
      ],
      "metadata": {
        "id": "k-5DxsI0bqbY"
      },
      "execution_count": null,
      "outputs": []
    },
    {
      "cell_type": "code",
      "source": [
        "def train_step(final_image, embeds, fake_captions):\n",
        "  seed = tf.random.normal([BATCH_SIZE, SEED_SIZE], dtype=tf.float32)\n",
        "\n",
        "  with tf.GradientTape() as gen_tape, tf.GradientTape() as disc_tape:\n",
        "    generated_images = generator((seed, embeds), training=True)\n",
        "    real_image_real_text = discriminator((final_image,embeds), training=True)\n",
        "    real_image_fake_text = discriminator((final_image,fake_captions), training=True)\n",
        "    fake_image_real_text = discriminator((generated_images,embeds), training=True)\n",
        "\n",
        "    gen_loss = generator_loss(fake_image_real_text)\n",
        "    disc_loss = discriminator_loss(real_image_real_text, fake_image_real_text, real_image_fake_text)\n",
        "    # print(gen_loss)\n",
        "    # print(disc_loss)\n",
        "\n",
        "    gradients_of_generator = gen_tape.gradient(\\\n",
        "        gen_loss, generator.trainable_variables)\n",
        "    gradients_of_discriminator = disc_tape.gradient(\\\n",
        "        disc_loss, discriminator.trainable_variables)\n",
        "\n",
        "    generator_optimizer.apply_gradients(zip(\n",
        "        gradients_of_generator, generator.trainable_variables))\n",
        "    discriminator_optimizer.apply_gradients(zip(\n",
        "        gradients_of_discriminator, \n",
        "        discriminator.trainable_variables))\n",
        "  return gen_loss,disc_loss"
      ],
      "metadata": {
        "id": "9zEKcfh6achA"
      },
      "execution_count": null,
      "outputs": []
    },
    {
      "cell_type": "code",
      "source": [
        "# Function that executes trianing process\n",
        "def train(train_dataset, epochs):\n",
        "  fixed_seed = np.random.normal(0, 1, (PREVIEW_ROWS * PREVIEW_COLS, \n",
        "                                       SEED_SIZE))\n",
        "  fixed_embed = save_images_embeddings\n",
        "\n",
        "  start = time.time()\n",
        "\n",
        "  for epoch in range(epochs):\n",
        "    print(\"epoch start...\")\n",
        "    epoch_start = time.time()\n",
        "\n",
        "    gen_loss_list = []\n",
        "    disc_loss_list = []\n",
        "\n",
        "    for batch in train_dataset[:-1]:\n",
        "      # train_batch = training_data[BATCH_SIZE*image_batch : BATCH_SIZE*image_batch + BATCH_SIZE]\n",
        "      # caption_batch = captions[BATCH_SIZE*image_batch : BATCH_SIZE*image_batch + BATCH_SIZE]\n",
        "      train_batch = batch['images']\n",
        "      caption_batch = batch['embeddings']\n",
        "      \n",
        "      fake_caption_batch = np.copy(caption_batch)\n",
        "      np.random.shuffle(fake_caption_batch)\n",
        "      \n",
        "      t = train_step(train_batch,caption_batch,fake_caption_batch)\n",
        "\n",
        "      gen_loss_list.append(t[0])\n",
        "      disc_loss_list.append(t[1])\n",
        "\n",
        "    g_loss = sum(gen_loss_list) / len(gen_loss_list)\n",
        "    d_loss = sum(disc_loss_list) / len(disc_loss_list)\n",
        "\n",
        "    epoch_elapsed = time.time()-epoch_start\n",
        "    print(f'Epoch {epoch+1}, gen loss={g_loss},disc loss={d_loss}, {hms_string(epoch_elapsed)}')\n",
        "    save_images(epoch,fixed_seed,fixed_embed)\n",
        "    \n",
        "    generator.save(f\"{ROOT_DIR}/models/gen.h5\")\n",
        "    discriminator.save(os.path.join(f\"{ROOT_DIR}/models/disc.h5\"))\n",
        "    print(\"model saved\")\n",
        "\n",
        "  elapsed = time.time()-start\n",
        "  print ('Training time:', hms_string(elapsed))"
      ],
      "metadata": {
        "id": "EbOO57mLbuFK"
      },
      "execution_count": null,
      "outputs": []
    },
    {
      "cell_type": "code",
      "source": [
        "train(list(train_dataset.as_numpy_iterator()), 200)"
      ],
      "metadata": {
        "colab": {
          "base_uri": "https://localhost:8080/"
        },
        "id": "XaQ72ZI0cGh-",
        "outputId": "d21662a8-f003-4d87-860a-2b8272535267"
      },
      "execution_count": null,
      "outputs": [
        {
          "metadata": {
            "tags": null
          },
          "name": "stdout",
          "output_type": "stream",
          "text": [
            "epoch start...\n"
          ]
        },
        {
          "metadata": {
            "tags": null
          },
          "name": "stderr",
          "output_type": "stream",
          "text": [
            "WARNING:tensorflow:5 out of the last 5 calls to <function _BaseOptimizer._update_step_xla at 0x7f1be89f1160> triggered tf.function retracing. Tracing is expensive and the excessive number of tracings could be due to (1) creating @tf.function repeatedly in a loop, (2) passing tensors with different shapes, (3) passing Python objects instead of tensors. For (1), please define your @tf.function outside of the loop. For (2), @tf.function has reduce_retracing=True option that can avoid unnecessary retracing. For (3), please refer to https://www.tensorflow.org/guide/function#controlling_retracing and https://www.tensorflow.org/api_docs/python/tf/function for  more details.\n",
            "WARNING:tensorflow:6 out of the last 6 calls to <function _BaseOptimizer._update_step_xla at 0x7f1be89f1160> triggered tf.function retracing. Tracing is expensive and the excessive number of tracings could be due to (1) creating @tf.function repeatedly in a loop, (2) passing tensors with different shapes, (3) passing Python objects instead of tensors. For (1), please define your @tf.function outside of the loop. For (2), @tf.function has reduce_retracing=True option that can avoid unnecessary retracing. For (3), please refer to https://www.tensorflow.org/guide/function#controlling_retracing and https://www.tensorflow.org/api_docs/python/tf/function for  more details.\n"
          ]
        },
        {
          "metadata": {
            "tags": null
          },
          "name": "stdout",
          "output_type": "stream",
          "text": [
            "Epoch 1, gen loss=1.2437589168548584,disc loss=1.2381280660629272, 0:01:03.91\n",
            "1/1 [==============================] - 1s 976ms/step\n"
          ]
        },
        {
          "metadata": {
            "tags": null
          },
          "name": "stderr",
          "output_type": "stream",
          "text": [
            "WARNING:tensorflow:Compiled the loaded model, but the compiled metrics have yet to be built. `model.compile_metrics` will be empty until you train or evaluate the model.\n",
            "WARNING:tensorflow:Compiled the loaded model, but the compiled metrics have yet to be built. `model.compile_metrics` will be empty until you train or evaluate the model.\n"
          ]
        },
        {
          "metadata": {
            "tags": null
          },
          "name": "stdout",
          "output_type": "stream",
          "text": [
            "model saved\n",
            "epoch start...\n",
            "Epoch 2, gen loss=1.0783417224884033,disc loss=1.2501174211502075, 0:00:44.37\n",
            "1/1 [==============================] - 0s 20ms/step\n"
          ]
        },
        {
          "metadata": {
            "tags": null
          },
          "name": "stderr",
          "output_type": "stream",
          "text": [
            "WARNING:tensorflow:Compiled the loaded model, but the compiled metrics have yet to be built. `model.compile_metrics` will be empty until you train or evaluate the model.\n",
            "WARNING:tensorflow:Compiled the loaded model, but the compiled metrics have yet to be built. `model.compile_metrics` will be empty until you train or evaluate the model.\n"
          ]
        },
        {
          "metadata": {
            "tags": null
          },
          "name": "stdout",
          "output_type": "stream",
          "text": [
            "model saved\n",
            "epoch start...\n",
            "Epoch 3, gen loss=1.0856585502624512,disc loss=1.2518669366836548, 0:00:43.53\n",
            "1/1 [==============================] - 0s 22ms/step\n"
          ]
        },
        {
          "metadata": {
            "tags": null
          },
          "name": "stderr",
          "output_type": "stream",
          "text": [
            "WARNING:tensorflow:Compiled the loaded model, but the compiled metrics have yet to be built. `model.compile_metrics` will be empty until you train or evaluate the model.\n",
            "WARNING:tensorflow:Compiled the loaded model, but the compiled metrics have yet to be built. `model.compile_metrics` will be empty until you train or evaluate the model.\n"
          ]
        },
        {
          "metadata": {
            "tags": null
          },
          "name": "stdout",
          "output_type": "stream",
          "text": [
            "model saved\n",
            "epoch start...\n",
            "Epoch 4, gen loss=1.2027369737625122,disc loss=1.232501745223999, 0:00:43.97\n",
            "1/1 [==============================] - 0s 20ms/step\n"
          ]
        },
        {
          "metadata": {
            "tags": null
          },
          "name": "stderr",
          "output_type": "stream",
          "text": [
            "WARNING:tensorflow:Compiled the loaded model, but the compiled metrics have yet to be built. `model.compile_metrics` will be empty until you train or evaluate the model.\n",
            "WARNING:tensorflow:Compiled the loaded model, but the compiled metrics have yet to be built. `model.compile_metrics` will be empty until you train or evaluate the model.\n"
          ]
        },
        {
          "metadata": {
            "tags": null
          },
          "name": "stdout",
          "output_type": "stream",
          "text": [
            "model saved\n",
            "epoch start...\n",
            "Epoch 5, gen loss=1.3081413507461548,disc loss=1.195859432220459, 0:00:44.96\n",
            "1/1 [==============================] - 0s 21ms/step\n"
          ]
        },
        {
          "metadata": {
            "tags": null
          },
          "name": "stderr",
          "output_type": "stream",
          "text": [
            "WARNING:tensorflow:Compiled the loaded model, but the compiled metrics have yet to be built. `model.compile_metrics` will be empty until you train or evaluate the model.\n",
            "WARNING:tensorflow:Compiled the loaded model, but the compiled metrics have yet to be built. `model.compile_metrics` will be empty until you train or evaluate the model.\n"
          ]
        },
        {
          "metadata": {
            "tags": null
          },
          "name": "stdout",
          "output_type": "stream",
          "text": [
            "model saved\n",
            "epoch start...\n",
            "Epoch 6, gen loss=1.245465636253357,disc loss=1.210747241973877, 0:00:44.81\n",
            "1/1 [==============================] - 0s 20ms/step\n"
          ]
        },
        {
          "metadata": {
            "tags": null
          },
          "name": "stderr",
          "output_type": "stream",
          "text": [
            "WARNING:tensorflow:Compiled the loaded model, but the compiled metrics have yet to be built. `model.compile_metrics` will be empty until you train or evaluate the model.\n",
            "WARNING:tensorflow:Compiled the loaded model, but the compiled metrics have yet to be built. `model.compile_metrics` will be empty until you train or evaluate the model.\n"
          ]
        },
        {
          "metadata": {
            "tags": null
          },
          "name": "stdout",
          "output_type": "stream",
          "text": [
            "model saved\n",
            "epoch start...\n",
            "Epoch 7, gen loss=1.136236310005188,disc loss=1.2286295890808105, 0:00:44.40\n",
            "1/1 [==============================] - 0s 20ms/step\n"
          ]
        },
        {
          "metadata": {
            "tags": null
          },
          "name": "stderr",
          "output_type": "stream",
          "text": [
            "WARNING:tensorflow:Compiled the loaded model, but the compiled metrics have yet to be built. `model.compile_metrics` will be empty until you train or evaluate the model.\n",
            "WARNING:tensorflow:Compiled the loaded model, but the compiled metrics have yet to be built. `model.compile_metrics` will be empty until you train or evaluate the model.\n"
          ]
        },
        {
          "metadata": {
            "tags": null
          },
          "name": "stdout",
          "output_type": "stream",
          "text": [
            "model saved\n",
            "epoch start...\n",
            "Epoch 8, gen loss=1.1882233619689941,disc loss=1.2140620946884155, 0:00:44.56\n",
            "1/1 [==============================] - 0s 35ms/step\n"
          ]
        },
        {
          "metadata": {
            "tags": null
          },
          "name": "stderr",
          "output_type": "stream",
          "text": [
            "WARNING:tensorflow:Compiled the loaded model, but the compiled metrics have yet to be built. `model.compile_metrics` will be empty until you train or evaluate the model.\n",
            "WARNING:tensorflow:Compiled the loaded model, but the compiled metrics have yet to be built. `model.compile_metrics` will be empty until you train or evaluate the model.\n"
          ]
        },
        {
          "metadata": {
            "tags": null
          },
          "name": "stdout",
          "output_type": "stream",
          "text": [
            "model saved\n",
            "epoch start...\n",
            "Epoch 9, gen loss=1.2631052732467651,disc loss=1.1991058588027954, 0:00:44.58\n",
            "1/1 [==============================] - 0s 21ms/step\n"
          ]
        },
        {
          "metadata": {
            "tags": null
          },
          "name": "stderr",
          "output_type": "stream",
          "text": [
            "WARNING:tensorflow:Compiled the loaded model, but the compiled metrics have yet to be built. `model.compile_metrics` will be empty until you train or evaluate the model.\n",
            "WARNING:tensorflow:Compiled the loaded model, but the compiled metrics have yet to be built. `model.compile_metrics` will be empty until you train or evaluate the model.\n"
          ]
        },
        {
          "metadata": {
            "tags": null
          },
          "name": "stdout",
          "output_type": "stream",
          "text": [
            "model saved\n",
            "epoch start...\n",
            "Epoch 10, gen loss=1.14486825466156,disc loss=1.2255088090896606, 0:00:44.56\n",
            "1/1 [==============================] - 0s 21ms/step\n"
          ]
        },
        {
          "metadata": {
            "tags": null
          },
          "name": "stderr",
          "output_type": "stream",
          "text": [
            "WARNING:tensorflow:Compiled the loaded model, but the compiled metrics have yet to be built. `model.compile_metrics` will be empty until you train or evaluate the model.\n",
            "WARNING:tensorflow:Compiled the loaded model, but the compiled metrics have yet to be built. `model.compile_metrics` will be empty until you train or evaluate the model.\n"
          ]
        },
        {
          "metadata": {
            "tags": null
          },
          "name": "stdout",
          "output_type": "stream",
          "text": [
            "model saved\n",
            "epoch start...\n",
            "Epoch 11, gen loss=1.1330742835998535,disc loss=1.2169780731201172, 0:00:45.38\n",
            "1/1 [==============================] - 0s 22ms/step\n"
          ]
        },
        {
          "metadata": {
            "tags": null
          },
          "name": "stderr",
          "output_type": "stream",
          "text": [
            "WARNING:tensorflow:Compiled the loaded model, but the compiled metrics have yet to be built. `model.compile_metrics` will be empty until you train or evaluate the model.\n",
            "WARNING:tensorflow:Compiled the loaded model, but the compiled metrics have yet to be built. `model.compile_metrics` will be empty until you train or evaluate the model.\n"
          ]
        },
        {
          "metadata": {
            "tags": null
          },
          "name": "stdout",
          "output_type": "stream",
          "text": [
            "model saved\n",
            "epoch start...\n",
            "Epoch 12, gen loss=1.0947046279907227,disc loss=1.2269951105117798, 0:00:44.51\n",
            "1/1 [==============================] - 0s 21ms/step\n"
          ]
        },
        {
          "metadata": {
            "tags": null
          },
          "name": "stderr",
          "output_type": "stream",
          "text": [
            "WARNING:tensorflow:Compiled the loaded model, but the compiled metrics have yet to be built. `model.compile_metrics` will be empty until you train or evaluate the model.\n",
            "WARNING:tensorflow:Compiled the loaded model, but the compiled metrics have yet to be built. `model.compile_metrics` will be empty until you train or evaluate the model.\n"
          ]
        },
        {
          "metadata": {
            "tags": null
          },
          "name": "stdout",
          "output_type": "stream",
          "text": [
            "model saved\n",
            "epoch start...\n",
            "Epoch 13, gen loss=1.0981733798980713,disc loss=1.2304186820983887, 0:00:44.75\n",
            "1/1 [==============================] - 0s 21ms/step\n"
          ]
        },
        {
          "metadata": {
            "tags": null
          },
          "name": "stderr",
          "output_type": "stream",
          "text": [
            "WARNING:tensorflow:Compiled the loaded model, but the compiled metrics have yet to be built. `model.compile_metrics` will be empty until you train or evaluate the model.\n",
            "WARNING:tensorflow:Compiled the loaded model, but the compiled metrics have yet to be built. `model.compile_metrics` will be empty until you train or evaluate the model.\n"
          ]
        },
        {
          "metadata": {
            "tags": null
          },
          "name": "stdout",
          "output_type": "stream",
          "text": [
            "model saved\n",
            "epoch start...\n",
            "Epoch 14, gen loss=1.1432552337646484,disc loss=1.2118295431137085, 0:00:44.32\n",
            "1/1 [==============================] - 0s 21ms/step\n"
          ]
        },
        {
          "metadata": {
            "tags": null
          },
          "name": "stderr",
          "output_type": "stream",
          "text": [
            "WARNING:tensorflow:Compiled the loaded model, but the compiled metrics have yet to be built. `model.compile_metrics` will be empty until you train or evaluate the model.\n",
            "WARNING:tensorflow:Compiled the loaded model, but the compiled metrics have yet to be built. `model.compile_metrics` will be empty until you train or evaluate the model.\n"
          ]
        },
        {
          "metadata": {
            "tags": null
          },
          "name": "stdout",
          "output_type": "stream",
          "text": [
            "model saved\n",
            "epoch start...\n",
            "Epoch 15, gen loss=1.1594499349594116,disc loss=1.221278429031372, 0:00:44.51\n",
            "1/1 [==============================] - 0s 39ms/step\n"
          ]
        },
        {
          "metadata": {
            "tags": null
          },
          "name": "stderr",
          "output_type": "stream",
          "text": [
            "WARNING:tensorflow:Compiled the loaded model, but the compiled metrics have yet to be built. `model.compile_metrics` will be empty until you train or evaluate the model.\n",
            "WARNING:tensorflow:Compiled the loaded model, but the compiled metrics have yet to be built. `model.compile_metrics` will be empty until you train or evaluate the model.\n"
          ]
        },
        {
          "metadata": {
            "tags": null
          },
          "name": "stdout",
          "output_type": "stream",
          "text": [
            "model saved\n",
            "epoch start...\n",
            "Epoch 16, gen loss=1.2122386693954468,disc loss=1.1989694833755493, 0:00:44.28\n",
            "1/1 [==============================] - 0s 21ms/step\n"
          ]
        },
        {
          "metadata": {
            "tags": null
          },
          "name": "stderr",
          "output_type": "stream",
          "text": [
            "WARNING:tensorflow:Compiled the loaded model, but the compiled metrics have yet to be built. `model.compile_metrics` will be empty until you train or evaluate the model.\n",
            "WARNING:tensorflow:Compiled the loaded model, but the compiled metrics have yet to be built. `model.compile_metrics` will be empty until you train or evaluate the model.\n"
          ]
        },
        {
          "output_type": "stream",
          "name": "stdout",
          "text": [
            "model saved\n",
            "epoch start...\n",
            "Epoch 17, gen loss=1.145015835762024,disc loss=1.2122663259506226, 0:00:44.34\n",
            "1/1 [==============================] - 0s 20ms/step\n"
          ]
        },
        {
          "output_type": "stream",
          "name": "stderr",
          "text": [
            "WARNING:tensorflow:Compiled the loaded model, but the compiled metrics have yet to be built. `model.compile_metrics` will be empty until you train or evaluate the model.\n",
            "WARNING:tensorflow:Compiled the loaded model, but the compiled metrics have yet to be built. `model.compile_metrics` will be empty until you train or evaluate the model.\n"
          ]
        },
        {
          "output_type": "stream",
          "name": "stdout",
          "text": [
            "model saved\n",
            "epoch start...\n",
            "Epoch 18, gen loss=1.1494574546813965,disc loss=1.2045470476150513, 0:00:44.31\n",
            "1/1 [==============================] - 0s 24ms/step\n"
          ]
        },
        {
          "output_type": "stream",
          "name": "stderr",
          "text": [
            "WARNING:tensorflow:Compiled the loaded model, but the compiled metrics have yet to be built. `model.compile_metrics` will be empty until you train or evaluate the model.\n",
            "WARNING:tensorflow:Compiled the loaded model, but the compiled metrics have yet to be built. `model.compile_metrics` will be empty until you train or evaluate the model.\n"
          ]
        },
        {
          "output_type": "stream",
          "name": "stdout",
          "text": [
            "model saved\n",
            "epoch start...\n",
            "Epoch 19, gen loss=1.1111387014389038,disc loss=1.225129246711731, 0:00:44.07\n",
            "1/1 [==============================] - 0s 20ms/step\n"
          ]
        },
        {
          "output_type": "stream",
          "name": "stderr",
          "text": [
            "WARNING:tensorflow:Compiled the loaded model, but the compiled metrics have yet to be built. `model.compile_metrics` will be empty until you train or evaluate the model.\n",
            "WARNING:tensorflow:Compiled the loaded model, but the compiled metrics have yet to be built. `model.compile_metrics` will be empty until you train or evaluate the model.\n"
          ]
        },
        {
          "output_type": "stream",
          "name": "stdout",
          "text": [
            "model saved\n",
            "epoch start...\n",
            "Epoch 20, gen loss=1.1795496940612793,disc loss=1.1993318796157837, 0:00:43.21\n",
            "1/1 [==============================] - 0s 20ms/step\n"
          ]
        },
        {
          "output_type": "stream",
          "name": "stderr",
          "text": [
            "WARNING:tensorflow:Compiled the loaded model, but the compiled metrics have yet to be built. `model.compile_metrics` will be empty until you train or evaluate the model.\n",
            "WARNING:tensorflow:Compiled the loaded model, but the compiled metrics have yet to be built. `model.compile_metrics` will be empty until you train or evaluate the model.\n"
          ]
        },
        {
          "output_type": "stream",
          "name": "stdout",
          "text": [
            "model saved\n",
            "epoch start...\n",
            "Epoch 21, gen loss=1.1675360202789307,disc loss=1.2063238620758057, 0:00:43.82\n",
            "1/1 [==============================] - 0s 22ms/step\n"
          ]
        },
        {
          "output_type": "stream",
          "name": "stderr",
          "text": [
            "WARNING:tensorflow:Compiled the loaded model, but the compiled metrics have yet to be built. `model.compile_metrics` will be empty until you train or evaluate the model.\n",
            "WARNING:tensorflow:Compiled the loaded model, but the compiled metrics have yet to be built. `model.compile_metrics` will be empty until you train or evaluate the model.\n"
          ]
        },
        {
          "output_type": "stream",
          "name": "stdout",
          "text": [
            "model saved\n",
            "epoch start...\n",
            "Epoch 22, gen loss=1.1399914026260376,disc loss=1.2050753831863403, 0:00:43.75\n",
            "1/1 [==============================] - 0s 29ms/step\n"
          ]
        },
        {
          "output_type": "stream",
          "name": "stderr",
          "text": [
            "WARNING:tensorflow:Compiled the loaded model, but the compiled metrics have yet to be built. `model.compile_metrics` will be empty until you train or evaluate the model.\n",
            "WARNING:tensorflow:Compiled the loaded model, but the compiled metrics have yet to be built. `model.compile_metrics` will be empty until you train or evaluate the model.\n"
          ]
        },
        {
          "output_type": "stream",
          "name": "stdout",
          "text": [
            "model saved\n",
            "epoch start...\n",
            "Epoch 23, gen loss=1.4031193256378174,disc loss=1.1611509323120117, 0:00:43.70\n",
            "1/1 [==============================] - 0s 21ms/step\n"
          ]
        },
        {
          "output_type": "stream",
          "name": "stderr",
          "text": [
            "WARNING:tensorflow:Compiled the loaded model, but the compiled metrics have yet to be built. `model.compile_metrics` will be empty until you train or evaluate the model.\n",
            "WARNING:tensorflow:Compiled the loaded model, but the compiled metrics have yet to be built. `model.compile_metrics` will be empty until you train or evaluate the model.\n"
          ]
        },
        {
          "output_type": "stream",
          "name": "stdout",
          "text": [
            "model saved\n",
            "epoch start...\n",
            "Epoch 24, gen loss=1.224353313446045,disc loss=1.180538296699524, 0:00:44.11\n",
            "1/1 [==============================] - 0s 34ms/step\n"
          ]
        },
        {
          "output_type": "stream",
          "name": "stderr",
          "text": [
            "WARNING:tensorflow:Compiled the loaded model, but the compiled metrics have yet to be built. `model.compile_metrics` will be empty until you train or evaluate the model.\n",
            "WARNING:tensorflow:Compiled the loaded model, but the compiled metrics have yet to be built. `model.compile_metrics` will be empty until you train or evaluate the model.\n"
          ]
        },
        {
          "output_type": "stream",
          "name": "stdout",
          "text": [
            "model saved\n",
            "epoch start...\n",
            "Epoch 25, gen loss=1.1604158878326416,disc loss=1.2063536643981934, 0:00:43.75\n",
            "1/1 [==============================] - 0s 22ms/step\n"
          ]
        },
        {
          "output_type": "stream",
          "name": "stderr",
          "text": [
            "WARNING:tensorflow:Compiled the loaded model, but the compiled metrics have yet to be built. `model.compile_metrics` will be empty until you train or evaluate the model.\n",
            "WARNING:tensorflow:Compiled the loaded model, but the compiled metrics have yet to be built. `model.compile_metrics` will be empty until you train or evaluate the model.\n"
          ]
        },
        {
          "output_type": "stream",
          "name": "stdout",
          "text": [
            "model saved\n",
            "epoch start...\n",
            "Epoch 26, gen loss=1.1521810293197632,disc loss=1.1930315494537354, 0:00:44.73\n",
            "1/1 [==============================] - 0s 22ms/step\n"
          ]
        },
        {
          "output_type": "stream",
          "name": "stderr",
          "text": [
            "WARNING:tensorflow:Compiled the loaded model, but the compiled metrics have yet to be built. `model.compile_metrics` will be empty until you train or evaluate the model.\n",
            "WARNING:tensorflow:Compiled the loaded model, but the compiled metrics have yet to be built. `model.compile_metrics` will be empty until you train or evaluate the model.\n"
          ]
        },
        {
          "output_type": "stream",
          "name": "stdout",
          "text": [
            "model saved\n",
            "epoch start...\n",
            "Epoch 27, gen loss=1.2720692157745361,disc loss=1.1844019889831543, 0:00:44.53\n",
            "1/1 [==============================] - 0s 22ms/step\n"
          ]
        },
        {
          "output_type": "stream",
          "name": "stderr",
          "text": [
            "WARNING:tensorflow:Compiled the loaded model, but the compiled metrics have yet to be built. `model.compile_metrics` will be empty until you train or evaluate the model.\n",
            "WARNING:tensorflow:Compiled the loaded model, but the compiled metrics have yet to be built. `model.compile_metrics` will be empty until you train or evaluate the model.\n"
          ]
        },
        {
          "output_type": "stream",
          "name": "stdout",
          "text": [
            "model saved\n",
            "epoch start...\n",
            "Epoch 28, gen loss=1.2029547691345215,disc loss=1.1929206848144531, 0:00:43.59\n",
            "1/1 [==============================] - 0s 20ms/step\n"
          ]
        },
        {
          "output_type": "stream",
          "name": "stderr",
          "text": [
            "WARNING:tensorflow:Compiled the loaded model, but the compiled metrics have yet to be built. `model.compile_metrics` will be empty until you train or evaluate the model.\n",
            "WARNING:tensorflow:Compiled the loaded model, but the compiled metrics have yet to be built. `model.compile_metrics` will be empty until you train or evaluate the model.\n"
          ]
        },
        {
          "output_type": "stream",
          "name": "stdout",
          "text": [
            "model saved\n",
            "epoch start...\n",
            "Epoch 29, gen loss=1.1621662378311157,disc loss=1.1968762874603271, 0:00:43.66\n",
            "1/1 [==============================] - 0s 31ms/step\n"
          ]
        },
        {
          "output_type": "stream",
          "name": "stderr",
          "text": [
            "WARNING:tensorflow:Compiled the loaded model, but the compiled metrics have yet to be built. `model.compile_metrics` will be empty until you train or evaluate the model.\n",
            "WARNING:tensorflow:Compiled the loaded model, but the compiled metrics have yet to be built. `model.compile_metrics` will be empty until you train or evaluate the model.\n"
          ]
        },
        {
          "output_type": "stream",
          "name": "stdout",
          "text": [
            "model saved\n",
            "epoch start...\n",
            "Epoch 30, gen loss=1.1081295013427734,disc loss=1.2152162790298462, 0:00:43.23\n",
            "1/1 [==============================] - 0s 20ms/step\n"
          ]
        },
        {
          "output_type": "stream",
          "name": "stderr",
          "text": [
            "WARNING:tensorflow:Compiled the loaded model, but the compiled metrics have yet to be built. `model.compile_metrics` will be empty until you train or evaluate the model.\n",
            "WARNING:tensorflow:Compiled the loaded model, but the compiled metrics have yet to be built. `model.compile_metrics` will be empty until you train or evaluate the model.\n"
          ]
        },
        {
          "output_type": "stream",
          "name": "stdout",
          "text": [
            "model saved\n",
            "epoch start...\n",
            "Epoch 31, gen loss=1.1940836906433105,disc loss=1.1906079053878784, 0:00:44.07\n",
            "1/1 [==============================] - 0s 34ms/step\n"
          ]
        },
        {
          "output_type": "stream",
          "name": "stderr",
          "text": [
            "WARNING:tensorflow:Compiled the loaded model, but the compiled metrics have yet to be built. `model.compile_metrics` will be empty until you train or evaluate the model.\n",
            "WARNING:tensorflow:Compiled the loaded model, but the compiled metrics have yet to be built. `model.compile_metrics` will be empty until you train or evaluate the model.\n"
          ]
        },
        {
          "output_type": "stream",
          "name": "stdout",
          "text": [
            "model saved\n",
            "epoch start...\n",
            "Epoch 32, gen loss=1.2229130268096924,disc loss=1.1803057193756104, 0:00:43.37\n",
            "1/1 [==============================] - 0s 20ms/step\n"
          ]
        },
        {
          "output_type": "stream",
          "name": "stderr",
          "text": [
            "WARNING:tensorflow:Compiled the loaded model, but the compiled metrics have yet to be built. `model.compile_metrics` will be empty until you train or evaluate the model.\n",
            "WARNING:tensorflow:Compiled the loaded model, but the compiled metrics have yet to be built. `model.compile_metrics` will be empty until you train or evaluate the model.\n"
          ]
        },
        {
          "output_type": "stream",
          "name": "stdout",
          "text": [
            "model saved\n",
            "epoch start...\n",
            "Epoch 33, gen loss=1.1094847917556763,disc loss=1.1985459327697754, 0:00:43.94\n",
            "1/1 [==============================] - 0s 21ms/step\n"
          ]
        },
        {
          "output_type": "stream",
          "name": "stderr",
          "text": [
            "WARNING:tensorflow:Compiled the loaded model, but the compiled metrics have yet to be built. `model.compile_metrics` will be empty until you train or evaluate the model.\n",
            "WARNING:tensorflow:Compiled the loaded model, but the compiled metrics have yet to be built. `model.compile_metrics` will be empty until you train or evaluate the model.\n"
          ]
        },
        {
          "output_type": "stream",
          "name": "stdout",
          "text": [
            "model saved\n",
            "epoch start...\n",
            "Epoch 34, gen loss=1.2079797983169556,disc loss=1.1832894086837769, 0:00:43.29\n",
            "1/1 [==============================] - 0s 20ms/step\n"
          ]
        },
        {
          "output_type": "stream",
          "name": "stderr",
          "text": [
            "WARNING:tensorflow:Compiled the loaded model, but the compiled metrics have yet to be built. `model.compile_metrics` will be empty until you train or evaluate the model.\n",
            "WARNING:tensorflow:Compiled the loaded model, but the compiled metrics have yet to be built. `model.compile_metrics` will be empty until you train or evaluate the model.\n"
          ]
        },
        {
          "output_type": "stream",
          "name": "stdout",
          "text": [
            "model saved\n",
            "epoch start...\n",
            "Epoch 35, gen loss=1.3361051082611084,disc loss=1.1586405038833618, 0:00:43.65\n",
            "1/1 [==============================] - 0s 21ms/step\n"
          ]
        },
        {
          "output_type": "stream",
          "name": "stderr",
          "text": [
            "WARNING:tensorflow:Compiled the loaded model, but the compiled metrics have yet to be built. `model.compile_metrics` will be empty until you train or evaluate the model.\n",
            "WARNING:tensorflow:Compiled the loaded model, but the compiled metrics have yet to be built. `model.compile_metrics` will be empty until you train or evaluate the model.\n"
          ]
        },
        {
          "output_type": "stream",
          "name": "stdout",
          "text": [
            "model saved\n",
            "epoch start...\n",
            "Epoch 36, gen loss=1.192974328994751,disc loss=1.1832207441329956, 0:00:43.31\n",
            "1/1 [==============================] - 0s 21ms/step\n"
          ]
        },
        {
          "output_type": "stream",
          "name": "stderr",
          "text": [
            "WARNING:tensorflow:Compiled the loaded model, but the compiled metrics have yet to be built. `model.compile_metrics` will be empty until you train or evaluate the model.\n",
            "WARNING:tensorflow:Compiled the loaded model, but the compiled metrics have yet to be built. `model.compile_metrics` will be empty until you train or evaluate the model.\n"
          ]
        },
        {
          "output_type": "stream",
          "name": "stdout",
          "text": [
            "model saved\n",
            "epoch start...\n",
            "Epoch 37, gen loss=1.17864990234375,disc loss=1.184726595878601, 0:00:43.45\n",
            "1/1 [==============================] - 0s 22ms/step\n"
          ]
        },
        {
          "output_type": "stream",
          "name": "stderr",
          "text": [
            "WARNING:tensorflow:Compiled the loaded model, but the compiled metrics have yet to be built. `model.compile_metrics` will be empty until you train or evaluate the model.\n",
            "WARNING:tensorflow:Compiled the loaded model, but the compiled metrics have yet to be built. `model.compile_metrics` will be empty until you train or evaluate the model.\n"
          ]
        },
        {
          "output_type": "stream",
          "name": "stdout",
          "text": [
            "model saved\n",
            "epoch start...\n",
            "Epoch 38, gen loss=1.1840533018112183,disc loss=1.1800020933151245, 0:00:43.96\n",
            "1/1 [==============================] - 0s 31ms/step\n"
          ]
        },
        {
          "output_type": "stream",
          "name": "stderr",
          "text": [
            "WARNING:tensorflow:Compiled the loaded model, but the compiled metrics have yet to be built. `model.compile_metrics` will be empty until you train or evaluate the model.\n",
            "WARNING:tensorflow:Compiled the loaded model, but the compiled metrics have yet to be built. `model.compile_metrics` will be empty until you train or evaluate the model.\n"
          ]
        },
        {
          "output_type": "stream",
          "name": "stdout",
          "text": [
            "model saved\n",
            "epoch start...\n",
            "Epoch 39, gen loss=1.250064730644226,disc loss=1.1690324544906616, 0:00:43.40\n",
            "1/1 [==============================] - 0s 20ms/step\n"
          ]
        },
        {
          "output_type": "stream",
          "name": "stderr",
          "text": [
            "WARNING:tensorflow:Compiled the loaded model, but the compiled metrics have yet to be built. `model.compile_metrics` will be empty until you train or evaluate the model.\n",
            "WARNING:tensorflow:Compiled the loaded model, but the compiled metrics have yet to be built. `model.compile_metrics` will be empty until you train or evaluate the model.\n"
          ]
        },
        {
          "output_type": "stream",
          "name": "stdout",
          "text": [
            "model saved\n",
            "epoch start...\n",
            "Epoch 40, gen loss=1.297921061515808,disc loss=1.167314052581787, 0:00:43.80\n",
            "1/1 [==============================] - 0s 20ms/step\n"
          ]
        },
        {
          "output_type": "stream",
          "name": "stderr",
          "text": [
            "WARNING:tensorflow:Compiled the loaded model, but the compiled metrics have yet to be built. `model.compile_metrics` will be empty until you train or evaluate the model.\n",
            "WARNING:tensorflow:Compiled the loaded model, but the compiled metrics have yet to be built. `model.compile_metrics` will be empty until you train or evaluate the model.\n"
          ]
        },
        {
          "output_type": "stream",
          "name": "stdout",
          "text": [
            "model saved\n",
            "epoch start...\n",
            "Epoch 41, gen loss=1.252803087234497,disc loss=1.1668586730957031, 0:00:43.56\n",
            "1/1 [==============================] - 0s 21ms/step\n"
          ]
        },
        {
          "output_type": "stream",
          "name": "stderr",
          "text": [
            "WARNING:tensorflow:Compiled the loaded model, but the compiled metrics have yet to be built. `model.compile_metrics` will be empty until you train or evaluate the model.\n",
            "WARNING:tensorflow:Compiled the loaded model, but the compiled metrics have yet to be built. `model.compile_metrics` will be empty until you train or evaluate the model.\n"
          ]
        },
        {
          "output_type": "stream",
          "name": "stdout",
          "text": [
            "model saved\n",
            "epoch start...\n",
            "Epoch 42, gen loss=1.2423079013824463,disc loss=1.172125220298767, 0:00:43.91\n",
            "1/1 [==============================] - 0s 20ms/step\n"
          ]
        },
        {
          "output_type": "stream",
          "name": "stderr",
          "text": [
            "WARNING:tensorflow:Compiled the loaded model, but the compiled metrics have yet to be built. `model.compile_metrics` will be empty until you train or evaluate the model.\n",
            "WARNING:tensorflow:Compiled the loaded model, but the compiled metrics have yet to be built. `model.compile_metrics` will be empty until you train or evaluate the model.\n"
          ]
        },
        {
          "output_type": "stream",
          "name": "stdout",
          "text": [
            "model saved\n",
            "epoch start...\n",
            "Epoch 43, gen loss=1.1288294792175293,disc loss=1.1883554458618164, 0:00:43.94\n",
            "1/1 [==============================] - 0s 43ms/step\n"
          ]
        },
        {
          "output_type": "stream",
          "name": "stderr",
          "text": [
            "WARNING:tensorflow:Compiled the loaded model, but the compiled metrics have yet to be built. `model.compile_metrics` will be empty until you train or evaluate the model.\n",
            "WARNING:tensorflow:Compiled the loaded model, but the compiled metrics have yet to be built. `model.compile_metrics` will be empty until you train or evaluate the model.\n"
          ]
        },
        {
          "output_type": "stream",
          "name": "stdout",
          "text": [
            "model saved\n",
            "epoch start...\n",
            "Epoch 44, gen loss=1.1748619079589844,disc loss=1.179392695426941, 0:00:44.11\n",
            "1/1 [==============================] - 0s 42ms/step\n"
          ]
        },
        {
          "output_type": "stream",
          "name": "stderr",
          "text": [
            "WARNING:tensorflow:Compiled the loaded model, but the compiled metrics have yet to be built. `model.compile_metrics` will be empty until you train or evaluate the model.\n",
            "WARNING:tensorflow:Compiled the loaded model, but the compiled metrics have yet to be built. `model.compile_metrics` will be empty until you train or evaluate the model.\n"
          ]
        },
        {
          "output_type": "stream",
          "name": "stdout",
          "text": [
            "model saved\n",
            "epoch start...\n",
            "Epoch 45, gen loss=1.2156685590744019,disc loss=1.1712669134140015, 0:00:43.80\n",
            "1/1 [==============================] - 0s 21ms/step\n"
          ]
        },
        {
          "output_type": "stream",
          "name": "stderr",
          "text": [
            "WARNING:tensorflow:Compiled the loaded model, but the compiled metrics have yet to be built. `model.compile_metrics` will be empty until you train or evaluate the model.\n",
            "WARNING:tensorflow:Compiled the loaded model, but the compiled metrics have yet to be built. `model.compile_metrics` will be empty until you train or evaluate the model.\n"
          ]
        },
        {
          "output_type": "stream",
          "name": "stdout",
          "text": [
            "model saved\n",
            "epoch start...\n",
            "Epoch 46, gen loss=1.424172282218933,disc loss=1.1435235738754272, 0:00:43.36\n",
            "1/1 [==============================] - 0s 22ms/step\n"
          ]
        },
        {
          "output_type": "stream",
          "name": "stderr",
          "text": [
            "WARNING:tensorflow:Compiled the loaded model, but the compiled metrics have yet to be built. `model.compile_metrics` will be empty until you train or evaluate the model.\n",
            "WARNING:tensorflow:Compiled the loaded model, but the compiled metrics have yet to be built. `model.compile_metrics` will be empty until you train or evaluate the model.\n"
          ]
        },
        {
          "output_type": "stream",
          "name": "stdout",
          "text": [
            "model saved\n",
            "epoch start...\n",
            "Epoch 47, gen loss=1.2750824689865112,disc loss=1.166953206062317, 0:00:43.46\n",
            "1/1 [==============================] - 0s 22ms/step\n"
          ]
        },
        {
          "output_type": "stream",
          "name": "stderr",
          "text": [
            "WARNING:tensorflow:Compiled the loaded model, but the compiled metrics have yet to be built. `model.compile_metrics` will be empty until you train or evaluate the model.\n",
            "WARNING:tensorflow:Compiled the loaded model, but the compiled metrics have yet to be built. `model.compile_metrics` will be empty until you train or evaluate the model.\n"
          ]
        },
        {
          "output_type": "stream",
          "name": "stdout",
          "text": [
            "model saved\n",
            "epoch start...\n",
            "Epoch 48, gen loss=1.2572154998779297,disc loss=1.1594595909118652, 0:00:43.15\n",
            "1/1 [==============================] - 0s 21ms/step\n"
          ]
        },
        {
          "output_type": "stream",
          "name": "stderr",
          "text": [
            "WARNING:tensorflow:Compiled the loaded model, but the compiled metrics have yet to be built. `model.compile_metrics` will be empty until you train or evaluate the model.\n",
            "WARNING:tensorflow:Compiled the loaded model, but the compiled metrics have yet to be built. `model.compile_metrics` will be empty until you train or evaluate the model.\n"
          ]
        },
        {
          "output_type": "stream",
          "name": "stdout",
          "text": [
            "model saved\n",
            "epoch start...\n",
            "Epoch 49, gen loss=1.2742159366607666,disc loss=1.1418166160583496, 0:00:43.47\n",
            "1/1 [==============================] - 0s 22ms/step\n"
          ]
        },
        {
          "output_type": "stream",
          "name": "stderr",
          "text": [
            "WARNING:tensorflow:Compiled the loaded model, but the compiled metrics have yet to be built. `model.compile_metrics` will be empty until you train or evaluate the model.\n",
            "WARNING:tensorflow:Compiled the loaded model, but the compiled metrics have yet to be built. `model.compile_metrics` will be empty until you train or evaluate the model.\n"
          ]
        },
        {
          "output_type": "stream",
          "name": "stdout",
          "text": [
            "model saved\n",
            "epoch start...\n",
            "Epoch 50, gen loss=1.241426706314087,disc loss=1.1723763942718506, 0:00:43.29\n",
            "1/1 [==============================] - 0s 31ms/step\n"
          ]
        },
        {
          "output_type": "stream",
          "name": "stderr",
          "text": [
            "WARNING:tensorflow:Compiled the loaded model, but the compiled metrics have yet to be built. `model.compile_metrics` will be empty until you train or evaluate the model.\n",
            "WARNING:tensorflow:Compiled the loaded model, but the compiled metrics have yet to be built. `model.compile_metrics` will be empty until you train or evaluate the model.\n"
          ]
        },
        {
          "output_type": "stream",
          "name": "stdout",
          "text": [
            "model saved\n",
            "epoch start...\n",
            "Epoch 51, gen loss=1.2062559127807617,disc loss=1.1648006439208984, 0:00:43.70\n",
            "1/1 [==============================] - 0s 20ms/step\n"
          ]
        },
        {
          "output_type": "stream",
          "name": "stderr",
          "text": [
            "WARNING:tensorflow:Compiled the loaded model, but the compiled metrics have yet to be built. `model.compile_metrics` will be empty until you train or evaluate the model.\n",
            "WARNING:tensorflow:Compiled the loaded model, but the compiled metrics have yet to be built. `model.compile_metrics` will be empty until you train or evaluate the model.\n"
          ]
        },
        {
          "output_type": "stream",
          "name": "stdout",
          "text": [
            "model saved\n",
            "epoch start...\n",
            "Epoch 52, gen loss=1.1975144147872925,disc loss=1.1725841760635376, 0:00:43.90\n",
            "1/1 [==============================] - 0s 31ms/step\n"
          ]
        },
        {
          "output_type": "stream",
          "name": "stderr",
          "text": [
            "WARNING:tensorflow:Compiled the loaded model, but the compiled metrics have yet to be built. `model.compile_metrics` will be empty until you train or evaluate the model.\n",
            "WARNING:tensorflow:Compiled the loaded model, but the compiled metrics have yet to be built. `model.compile_metrics` will be empty until you train or evaluate the model.\n"
          ]
        },
        {
          "output_type": "stream",
          "name": "stdout",
          "text": [
            "model saved\n",
            "epoch start...\n",
            "Epoch 53, gen loss=1.1808446645736694,disc loss=1.1836092472076416, 0:00:43.14\n",
            "1/1 [==============================] - 0s 21ms/step\n"
          ]
        },
        {
          "output_type": "stream",
          "name": "stderr",
          "text": [
            "WARNING:tensorflow:Compiled the loaded model, but the compiled metrics have yet to be built. `model.compile_metrics` will be empty until you train or evaluate the model.\n",
            "WARNING:tensorflow:Compiled the loaded model, but the compiled metrics have yet to be built. `model.compile_metrics` will be empty until you train or evaluate the model.\n"
          ]
        },
        {
          "output_type": "stream",
          "name": "stdout",
          "text": [
            "model saved\n",
            "epoch start...\n",
            "Epoch 54, gen loss=1.1756621599197388,disc loss=1.1744517087936401, 0:00:43.30\n",
            "1/1 [==============================] - 0s 20ms/step\n"
          ]
        },
        {
          "output_type": "stream",
          "name": "stderr",
          "text": [
            "WARNING:tensorflow:Compiled the loaded model, but the compiled metrics have yet to be built. `model.compile_metrics` will be empty until you train or evaluate the model.\n",
            "WARNING:tensorflow:Compiled the loaded model, but the compiled metrics have yet to be built. `model.compile_metrics` will be empty until you train or evaluate the model.\n"
          ]
        },
        {
          "output_type": "stream",
          "name": "stdout",
          "text": [
            "model saved\n",
            "epoch start...\n",
            "Epoch 55, gen loss=1.162416934967041,disc loss=1.1760191917419434, 0:00:42.85\n",
            "1/1 [==============================] - 0s 20ms/step\n"
          ]
        },
        {
          "output_type": "stream",
          "name": "stderr",
          "text": [
            "WARNING:tensorflow:Compiled the loaded model, but the compiled metrics have yet to be built. `model.compile_metrics` will be empty until you train or evaluate the model.\n",
            "WARNING:tensorflow:Compiled the loaded model, but the compiled metrics have yet to be built. `model.compile_metrics` will be empty until you train or evaluate the model.\n"
          ]
        },
        {
          "output_type": "stream",
          "name": "stdout",
          "text": [
            "model saved\n",
            "epoch start...\n",
            "Epoch 56, gen loss=1.1679517030715942,disc loss=1.172452688217163, 0:00:43.28\n",
            "1/1 [==============================] - 0s 20ms/step\n"
          ]
        },
        {
          "output_type": "stream",
          "name": "stderr",
          "text": [
            "WARNING:tensorflow:Compiled the loaded model, but the compiled metrics have yet to be built. `model.compile_metrics` will be empty until you train or evaluate the model.\n",
            "WARNING:tensorflow:Compiled the loaded model, but the compiled metrics have yet to be built. `model.compile_metrics` will be empty until you train or evaluate the model.\n"
          ]
        },
        {
          "output_type": "stream",
          "name": "stdout",
          "text": [
            "model saved\n",
            "epoch start...\n",
            "Epoch 57, gen loss=1.2085936069488525,disc loss=1.1696627140045166, 0:00:42.96\n",
            "1/1 [==============================] - 0s 20ms/step\n"
          ]
        },
        {
          "output_type": "stream",
          "name": "stderr",
          "text": [
            "WARNING:tensorflow:Compiled the loaded model, but the compiled metrics have yet to be built. `model.compile_metrics` will be empty until you train or evaluate the model.\n",
            "WARNING:tensorflow:Compiled the loaded model, but the compiled metrics have yet to be built. `model.compile_metrics` will be empty until you train or evaluate the model.\n"
          ]
        },
        {
          "output_type": "stream",
          "name": "stdout",
          "text": [
            "model saved\n",
            "epoch start...\n",
            "Epoch 58, gen loss=1.2692632675170898,disc loss=1.1381853818893433, 0:00:43.90\n",
            "1/1 [==============================] - 0s 19ms/step\n"
          ]
        },
        {
          "output_type": "stream",
          "name": "stderr",
          "text": [
            "WARNING:tensorflow:Compiled the loaded model, but the compiled metrics have yet to be built. `model.compile_metrics` will be empty until you train or evaluate the model.\n",
            "WARNING:tensorflow:Compiled the loaded model, but the compiled metrics have yet to be built. `model.compile_metrics` will be empty until you train or evaluate the model.\n"
          ]
        },
        {
          "output_type": "stream",
          "name": "stdout",
          "text": [
            "model saved\n",
            "epoch start...\n",
            "Epoch 59, gen loss=1.226062536239624,disc loss=1.1623690128326416, 0:00:43.02\n",
            "1/1 [==============================] - 0s 20ms/step\n"
          ]
        },
        {
          "output_type": "stream",
          "name": "stderr",
          "text": [
            "WARNING:tensorflow:Compiled the loaded model, but the compiled metrics have yet to be built. `model.compile_metrics` will be empty until you train or evaluate the model.\n",
            "WARNING:tensorflow:Compiled the loaded model, but the compiled metrics have yet to be built. `model.compile_metrics` will be empty until you train or evaluate the model.\n"
          ]
        },
        {
          "output_type": "stream",
          "name": "stdout",
          "text": [
            "model saved\n",
            "epoch start...\n",
            "Epoch 60, gen loss=1.2268693447113037,disc loss=1.1586602926254272, 0:00:43.35\n",
            "1/1 [==============================] - 0s 20ms/step\n"
          ]
        },
        {
          "output_type": "stream",
          "name": "stderr",
          "text": [
            "WARNING:tensorflow:Compiled the loaded model, but the compiled metrics have yet to be built. `model.compile_metrics` will be empty until you train or evaluate the model.\n",
            "WARNING:tensorflow:Compiled the loaded model, but the compiled metrics have yet to be built. `model.compile_metrics` will be empty until you train or evaluate the model.\n"
          ]
        },
        {
          "output_type": "stream",
          "name": "stdout",
          "text": [
            "model saved\n",
            "epoch start...\n",
            "Epoch 61, gen loss=1.246561884880066,disc loss=1.1543854475021362, 0:00:43.21\n",
            "1/1 [==============================] - 0s 20ms/step\n"
          ]
        },
        {
          "output_type": "stream",
          "name": "stderr",
          "text": [
            "WARNING:tensorflow:Compiled the loaded model, but the compiled metrics have yet to be built. `model.compile_metrics` will be empty until you train or evaluate the model.\n",
            "WARNING:tensorflow:Compiled the loaded model, but the compiled metrics have yet to be built. `model.compile_metrics` will be empty until you train or evaluate the model.\n"
          ]
        },
        {
          "output_type": "stream",
          "name": "stdout",
          "text": [
            "model saved\n",
            "epoch start...\n",
            "Epoch 62, gen loss=1.1473886966705322,disc loss=1.1701276302337646, 0:00:43.23\n",
            "1/1 [==============================] - 0s 20ms/step\n"
          ]
        },
        {
          "output_type": "stream",
          "name": "stderr",
          "text": [
            "WARNING:tensorflow:Compiled the loaded model, but the compiled metrics have yet to be built. `model.compile_metrics` will be empty until you train or evaluate the model.\n",
            "WARNING:tensorflow:Compiled the loaded model, but the compiled metrics have yet to be built. `model.compile_metrics` will be empty until you train or evaluate the model.\n"
          ]
        },
        {
          "output_type": "stream",
          "name": "stdout",
          "text": [
            "model saved\n",
            "epoch start...\n",
            "Epoch 63, gen loss=1.1503325700759888,disc loss=1.1729472875595093, 0:00:43.44\n",
            "1/1 [==============================] - 0s 38ms/step\n"
          ]
        },
        {
          "output_type": "stream",
          "name": "stderr",
          "text": [
            "WARNING:tensorflow:Compiled the loaded model, but the compiled metrics have yet to be built. `model.compile_metrics` will be empty until you train or evaluate the model.\n",
            "WARNING:tensorflow:Compiled the loaded model, but the compiled metrics have yet to be built. `model.compile_metrics` will be empty until you train or evaluate the model.\n"
          ]
        },
        {
          "output_type": "stream",
          "name": "stdout",
          "text": [
            "model saved\n",
            "epoch start...\n",
            "Epoch 64, gen loss=1.2016370296478271,disc loss=1.1528395414352417, 0:00:43.16\n",
            "1/1 [==============================] - 0s 21ms/step\n"
          ]
        },
        {
          "output_type": "stream",
          "name": "stderr",
          "text": [
            "WARNING:tensorflow:Compiled the loaded model, but the compiled metrics have yet to be built. `model.compile_metrics` will be empty until you train or evaluate the model.\n",
            "WARNING:tensorflow:Compiled the loaded model, but the compiled metrics have yet to be built. `model.compile_metrics` will be empty until you train or evaluate the model.\n"
          ]
        },
        {
          "output_type": "stream",
          "name": "stdout",
          "text": [
            "model saved\n",
            "epoch start...\n",
            "Epoch 65, gen loss=1.140997290611267,disc loss=1.1698664426803589, 0:00:44.24\n",
            "1/1 [==============================] - 0s 23ms/step\n"
          ]
        },
        {
          "output_type": "stream",
          "name": "stderr",
          "text": [
            "WARNING:tensorflow:Compiled the loaded model, but the compiled metrics have yet to be built. `model.compile_metrics` will be empty until you train or evaluate the model.\n",
            "WARNING:tensorflow:Compiled the loaded model, but the compiled metrics have yet to be built. `model.compile_metrics` will be empty until you train or evaluate the model.\n"
          ]
        },
        {
          "output_type": "stream",
          "name": "stdout",
          "text": [
            "model saved\n",
            "epoch start...\n",
            "Epoch 66, gen loss=1.1175060272216797,disc loss=1.1764956712722778, 0:00:43.06\n",
            "1/1 [==============================] - 0s 21ms/step\n"
          ]
        },
        {
          "output_type": "stream",
          "name": "stderr",
          "text": [
            "WARNING:tensorflow:Compiled the loaded model, but the compiled metrics have yet to be built. `model.compile_metrics` will be empty until you train or evaluate the model.\n",
            "WARNING:tensorflow:Compiled the loaded model, but the compiled metrics have yet to be built. `model.compile_metrics` will be empty until you train or evaluate the model.\n"
          ]
        },
        {
          "output_type": "stream",
          "name": "stdout",
          "text": [
            "model saved\n",
            "epoch start...\n",
            "Epoch 67, gen loss=1.1737602949142456,disc loss=1.1726454496383667, 0:00:43.58\n",
            "1/1 [==============================] - 0s 20ms/step\n"
          ]
        },
        {
          "output_type": "stream",
          "name": "stderr",
          "text": [
            "WARNING:tensorflow:Compiled the loaded model, but the compiled metrics have yet to be built. `model.compile_metrics` will be empty until you train or evaluate the model.\n",
            "WARNING:tensorflow:Compiled the loaded model, but the compiled metrics have yet to be built. `model.compile_metrics` will be empty until you train or evaluate the model.\n"
          ]
        },
        {
          "output_type": "stream",
          "name": "stdout",
          "text": [
            "model saved\n",
            "epoch start...\n",
            "Epoch 68, gen loss=1.2268929481506348,disc loss=1.153138279914856, 0:00:43.03\n",
            "1/1 [==============================] - 0s 20ms/step\n"
          ]
        },
        {
          "output_type": "stream",
          "name": "stderr",
          "text": [
            "WARNING:tensorflow:Compiled the loaded model, but the compiled metrics have yet to be built. `model.compile_metrics` will be empty until you train or evaluate the model.\n",
            "WARNING:tensorflow:Compiled the loaded model, but the compiled metrics have yet to be built. `model.compile_metrics` will be empty until you train or evaluate the model.\n"
          ]
        },
        {
          "output_type": "stream",
          "name": "stdout",
          "text": [
            "model saved\n",
            "epoch start...\n",
            "Epoch 69, gen loss=1.2200974225997925,disc loss=1.155164122581482, 0:00:43.37\n",
            "1/1 [==============================] - 0s 20ms/step\n"
          ]
        },
        {
          "output_type": "stream",
          "name": "stderr",
          "text": [
            "WARNING:tensorflow:Compiled the loaded model, but the compiled metrics have yet to be built. `model.compile_metrics` will be empty until you train or evaluate the model.\n",
            "WARNING:tensorflow:Compiled the loaded model, but the compiled metrics have yet to be built. `model.compile_metrics` will be empty until you train or evaluate the model.\n"
          ]
        },
        {
          "output_type": "stream",
          "name": "stdout",
          "text": [
            "model saved\n",
            "epoch start...\n",
            "Epoch 70, gen loss=1.280579924583435,disc loss=1.1454414129257202, 0:00:43.21\n",
            "1/1 [==============================] - 0s 30ms/step\n"
          ]
        },
        {
          "output_type": "stream",
          "name": "stderr",
          "text": [
            "WARNING:tensorflow:Compiled the loaded model, but the compiled metrics have yet to be built. `model.compile_metrics` will be empty until you train or evaluate the model.\n",
            "WARNING:tensorflow:Compiled the loaded model, but the compiled metrics have yet to be built. `model.compile_metrics` will be empty until you train or evaluate the model.\n"
          ]
        },
        {
          "output_type": "stream",
          "name": "stdout",
          "text": [
            "model saved\n",
            "epoch start...\n",
            "Epoch 71, gen loss=1.1936638355255127,disc loss=1.1541776657104492, 0:00:43.13\n",
            "1/1 [==============================] - 0s 20ms/step\n"
          ]
        },
        {
          "output_type": "stream",
          "name": "stderr",
          "text": [
            "WARNING:tensorflow:Compiled the loaded model, but the compiled metrics have yet to be built. `model.compile_metrics` will be empty until you train or evaluate the model.\n",
            "WARNING:tensorflow:Compiled the loaded model, but the compiled metrics have yet to be built. `model.compile_metrics` will be empty until you train or evaluate the model.\n"
          ]
        },
        {
          "output_type": "stream",
          "name": "stdout",
          "text": [
            "model saved\n",
            "epoch start...\n",
            "Epoch 72, gen loss=1.4612860679626465,disc loss=1.1240150928497314, 0:00:43.81\n",
            "1/1 [==============================] - 0s 21ms/step\n"
          ]
        },
        {
          "output_type": "stream",
          "name": "stderr",
          "text": [
            "WARNING:tensorflow:Compiled the loaded model, but the compiled metrics have yet to be built. `model.compile_metrics` will be empty until you train or evaluate the model.\n",
            "WARNING:tensorflow:Compiled the loaded model, but the compiled metrics have yet to be built. `model.compile_metrics` will be empty until you train or evaluate the model.\n"
          ]
        },
        {
          "output_type": "stream",
          "name": "stdout",
          "text": [
            "model saved\n",
            "epoch start...\n",
            "Epoch 73, gen loss=1.4508191347122192,disc loss=1.114459753036499, 0:00:43.04\n",
            "1/1 [==============================] - 0s 20ms/step\n"
          ]
        },
        {
          "output_type": "stream",
          "name": "stderr",
          "text": [
            "WARNING:tensorflow:Compiled the loaded model, but the compiled metrics have yet to be built. `model.compile_metrics` will be empty until you train or evaluate the model.\n",
            "WARNING:tensorflow:Compiled the loaded model, but the compiled metrics have yet to be built. `model.compile_metrics` will be empty until you train or evaluate the model.\n"
          ]
        },
        {
          "output_type": "stream",
          "name": "stdout",
          "text": [
            "model saved\n",
            "epoch start...\n",
            "Epoch 74, gen loss=1.34328031539917,disc loss=1.1332943439483643, 0:00:43.47\n",
            "1/1 [==============================] - 0s 20ms/step\n"
          ]
        },
        {
          "output_type": "stream",
          "name": "stderr",
          "text": [
            "WARNING:tensorflow:Compiled the loaded model, but the compiled metrics have yet to be built. `model.compile_metrics` will be empty until you train or evaluate the model.\n",
            "WARNING:tensorflow:Compiled the loaded model, but the compiled metrics have yet to be built. `model.compile_metrics` will be empty until you train or evaluate the model.\n"
          ]
        },
        {
          "output_type": "stream",
          "name": "stdout",
          "text": [
            "model saved\n",
            "epoch start...\n",
            "Epoch 75, gen loss=1.2902406454086304,disc loss=1.1367415189743042, 0:00:43.12\n",
            "1/1 [==============================] - 0s 25ms/step\n"
          ]
        },
        {
          "output_type": "stream",
          "name": "stderr",
          "text": [
            "WARNING:tensorflow:Compiled the loaded model, but the compiled metrics have yet to be built. `model.compile_metrics` will be empty until you train or evaluate the model.\n",
            "WARNING:tensorflow:Compiled the loaded model, but the compiled metrics have yet to be built. `model.compile_metrics` will be empty until you train or evaluate the model.\n"
          ]
        },
        {
          "output_type": "stream",
          "name": "stdout",
          "text": [
            "model saved\n",
            "epoch start...\n",
            "Epoch 76, gen loss=1.2816659212112427,disc loss=1.140647053718567, 0:00:43.62\n",
            "1/1 [==============================] - 0s 20ms/step\n"
          ]
        },
        {
          "output_type": "stream",
          "name": "stderr",
          "text": [
            "WARNING:tensorflow:Compiled the loaded model, but the compiled metrics have yet to be built. `model.compile_metrics` will be empty until you train or evaluate the model.\n",
            "WARNING:tensorflow:Compiled the loaded model, but the compiled metrics have yet to be built. `model.compile_metrics` will be empty until you train or evaluate the model.\n"
          ]
        },
        {
          "output_type": "stream",
          "name": "stdout",
          "text": [
            "model saved\n",
            "epoch start...\n",
            "Epoch 77, gen loss=1.3194783926010132,disc loss=1.129320740699768, 0:00:43.30\n",
            "1/1 [==============================] - 0s 32ms/step\n"
          ]
        },
        {
          "output_type": "stream",
          "name": "stderr",
          "text": [
            "WARNING:tensorflow:Compiled the loaded model, but the compiled metrics have yet to be built. `model.compile_metrics` will be empty until you train or evaluate the model.\n",
            "WARNING:tensorflow:Compiled the loaded model, but the compiled metrics have yet to be built. `model.compile_metrics` will be empty until you train or evaluate the model.\n"
          ]
        },
        {
          "output_type": "stream",
          "name": "stdout",
          "text": [
            "model saved\n",
            "epoch start...\n",
            "Epoch 78, gen loss=1.2947019338607788,disc loss=1.1201045513153076, 0:00:42.98\n",
            "1/1 [==============================] - 0s 21ms/step\n"
          ]
        },
        {
          "output_type": "stream",
          "name": "stderr",
          "text": [
            "WARNING:tensorflow:Compiled the loaded model, but the compiled metrics have yet to be built. `model.compile_metrics` will be empty until you train or evaluate the model.\n",
            "WARNING:tensorflow:Compiled the loaded model, but the compiled metrics have yet to be built. `model.compile_metrics` will be empty until you train or evaluate the model.\n"
          ]
        },
        {
          "output_type": "stream",
          "name": "stdout",
          "text": [
            "model saved\n",
            "epoch start...\n",
            "Epoch 79, gen loss=1.3356767892837524,disc loss=1.1271475553512573, 0:00:43.70\n",
            "1/1 [==============================] - 0s 23ms/step\n"
          ]
        },
        {
          "output_type": "stream",
          "name": "stderr",
          "text": [
            "WARNING:tensorflow:Compiled the loaded model, but the compiled metrics have yet to be built. `model.compile_metrics` will be empty until you train or evaluate the model.\n",
            "WARNING:tensorflow:Compiled the loaded model, but the compiled metrics have yet to be built. `model.compile_metrics` will be empty until you train or evaluate the model.\n"
          ]
        },
        {
          "output_type": "stream",
          "name": "stdout",
          "text": [
            "model saved\n",
            "epoch start...\n",
            "Epoch 80, gen loss=1.345683217048645,disc loss=1.1250205039978027, 0:00:43.05\n",
            "1/1 [==============================] - 0s 23ms/step\n"
          ]
        },
        {
          "output_type": "stream",
          "name": "stderr",
          "text": [
            "WARNING:tensorflow:Compiled the loaded model, but the compiled metrics have yet to be built. `model.compile_metrics` will be empty until you train or evaluate the model.\n",
            "WARNING:tensorflow:Compiled the loaded model, but the compiled metrics have yet to be built. `model.compile_metrics` will be empty until you train or evaluate the model.\n"
          ]
        },
        {
          "output_type": "stream",
          "name": "stdout",
          "text": [
            "model saved\n",
            "epoch start...\n",
            "Epoch 81, gen loss=1.2567037343978882,disc loss=1.1478521823883057, 0:00:43.21\n",
            "1/1 [==============================] - 0s 20ms/step\n"
          ]
        },
        {
          "output_type": "stream",
          "name": "stderr",
          "text": [
            "WARNING:tensorflow:Compiled the loaded model, but the compiled metrics have yet to be built. `model.compile_metrics` will be empty until you train or evaluate the model.\n",
            "WARNING:tensorflow:Compiled the loaded model, but the compiled metrics have yet to be built. `model.compile_metrics` will be empty until you train or evaluate the model.\n"
          ]
        },
        {
          "output_type": "stream",
          "name": "stdout",
          "text": [
            "model saved\n",
            "epoch start...\n",
            "Epoch 82, gen loss=1.272995948791504,disc loss=1.1272356510162354, 0:00:42.94\n",
            "1/1 [==============================] - 0s 22ms/step\n"
          ]
        },
        {
          "output_type": "stream",
          "name": "stderr",
          "text": [
            "WARNING:tensorflow:Compiled the loaded model, but the compiled metrics have yet to be built. `model.compile_metrics` will be empty until you train or evaluate the model.\n",
            "WARNING:tensorflow:Compiled the loaded model, but the compiled metrics have yet to be built. `model.compile_metrics` will be empty until you train or evaluate the model.\n"
          ]
        },
        {
          "output_type": "stream",
          "name": "stdout",
          "text": [
            "model saved\n",
            "epoch start...\n",
            "Epoch 83, gen loss=1.5714777708053589,disc loss=1.1055991649627686, 0:00:43.34\n",
            "1/1 [==============================] - 0s 22ms/step\n"
          ]
        },
        {
          "output_type": "stream",
          "name": "stderr",
          "text": [
            "WARNING:tensorflow:Compiled the loaded model, but the compiled metrics have yet to be built. `model.compile_metrics` will be empty until you train or evaluate the model.\n",
            "WARNING:tensorflow:Compiled the loaded model, but the compiled metrics have yet to be built. `model.compile_metrics` will be empty until you train or evaluate the model.\n"
          ]
        },
        {
          "output_type": "stream",
          "name": "stdout",
          "text": [
            "model saved\n",
            "epoch start...\n",
            "Epoch 84, gen loss=1.5285664796829224,disc loss=1.0999882221221924, 0:00:42.89\n",
            "1/1 [==============================] - 0s 20ms/step\n"
          ]
        },
        {
          "output_type": "stream",
          "name": "stderr",
          "text": [
            "WARNING:tensorflow:Compiled the loaded model, but the compiled metrics have yet to be built. `model.compile_metrics` will be empty until you train or evaluate the model.\n",
            "WARNING:tensorflow:Compiled the loaded model, but the compiled metrics have yet to be built. `model.compile_metrics` will be empty until you train or evaluate the model.\n"
          ]
        },
        {
          "output_type": "stream",
          "name": "stdout",
          "text": [
            "model saved\n",
            "epoch start...\n",
            "Epoch 85, gen loss=1.3917194604873657,disc loss=1.1097396612167358, 0:00:43.21\n",
            "1/1 [==============================] - 0s 21ms/step\n"
          ]
        },
        {
          "output_type": "stream",
          "name": "stderr",
          "text": [
            "WARNING:tensorflow:Compiled the loaded model, but the compiled metrics have yet to be built. `model.compile_metrics` will be empty until you train or evaluate the model.\n",
            "WARNING:tensorflow:Compiled the loaded model, but the compiled metrics have yet to be built. `model.compile_metrics` will be empty until you train or evaluate the model.\n"
          ]
        },
        {
          "output_type": "stream",
          "name": "stdout",
          "text": [
            "model saved\n",
            "epoch start...\n",
            "Epoch 86, gen loss=1.3132871389389038,disc loss=1.130834937095642, 0:00:43.11\n",
            "1/1 [==============================] - 0s 21ms/step\n"
          ]
        },
        {
          "output_type": "stream",
          "name": "stderr",
          "text": [
            "WARNING:tensorflow:Compiled the loaded model, but the compiled metrics have yet to be built. `model.compile_metrics` will be empty until you train or evaluate the model.\n",
            "WARNING:tensorflow:Compiled the loaded model, but the compiled metrics have yet to be built. `model.compile_metrics` will be empty until you train or evaluate the model.\n"
          ]
        },
        {
          "output_type": "stream",
          "name": "stdout",
          "text": [
            "model saved\n",
            "epoch start...\n",
            "Epoch 87, gen loss=1.295827865600586,disc loss=1.1207880973815918, 0:00:43.49\n",
            "1/1 [==============================] - 0s 20ms/step\n"
          ]
        },
        {
          "output_type": "stream",
          "name": "stderr",
          "text": [
            "WARNING:tensorflow:Compiled the loaded model, but the compiled metrics have yet to be built. `model.compile_metrics` will be empty until you train or evaluate the model.\n",
            "WARNING:tensorflow:Compiled the loaded model, but the compiled metrics have yet to be built. `model.compile_metrics` will be empty until you train or evaluate the model.\n"
          ]
        },
        {
          "output_type": "stream",
          "name": "stdout",
          "text": [
            "model saved\n",
            "epoch start...\n",
            "Epoch 88, gen loss=1.3117258548736572,disc loss=1.12412428855896, 0:00:43.12\n",
            "1/1 [==============================] - 0s 35ms/step\n"
          ]
        },
        {
          "output_type": "stream",
          "name": "stderr",
          "text": [
            "WARNING:tensorflow:Compiled the loaded model, but the compiled metrics have yet to be built. `model.compile_metrics` will be empty until you train or evaluate the model.\n",
            "WARNING:tensorflow:Compiled the loaded model, but the compiled metrics have yet to be built. `model.compile_metrics` will be empty until you train or evaluate the model.\n"
          ]
        },
        {
          "output_type": "stream",
          "name": "stdout",
          "text": [
            "model saved\n",
            "epoch start...\n",
            "Epoch 89, gen loss=1.2430903911590576,disc loss=1.1391555070877075, 0:00:42.95\n",
            "1/1 [==============================] - 0s 20ms/step\n"
          ]
        },
        {
          "output_type": "stream",
          "name": "stderr",
          "text": [
            "WARNING:tensorflow:Compiled the loaded model, but the compiled metrics have yet to be built. `model.compile_metrics` will be empty until you train or evaluate the model.\n",
            "WARNING:tensorflow:Compiled the loaded model, but the compiled metrics have yet to be built. `model.compile_metrics` will be empty until you train or evaluate the model.\n"
          ]
        },
        {
          "output_type": "stream",
          "name": "stdout",
          "text": [
            "model saved\n",
            "epoch start...\n",
            "Epoch 90, gen loss=1.3265823125839233,disc loss=1.1340667009353638, 0:00:43.31\n",
            "1/1 [==============================] - 0s 21ms/step\n"
          ]
        },
        {
          "output_type": "stream",
          "name": "stderr",
          "text": [
            "WARNING:tensorflow:Compiled the loaded model, but the compiled metrics have yet to be built. `model.compile_metrics` will be empty until you train or evaluate the model.\n",
            "WARNING:tensorflow:Compiled the loaded model, but the compiled metrics have yet to be built. `model.compile_metrics` will be empty until you train or evaluate the model.\n"
          ]
        },
        {
          "output_type": "stream",
          "name": "stdout",
          "text": [
            "model saved\n",
            "epoch start...\n",
            "Epoch 91, gen loss=1.3645867109298706,disc loss=1.1076114177703857, 0:00:42.87\n",
            "1/1 [==============================] - 0s 20ms/step\n"
          ]
        },
        {
          "output_type": "stream",
          "name": "stderr",
          "text": [
            "WARNING:tensorflow:Compiled the loaded model, but the compiled metrics have yet to be built. `model.compile_metrics` will be empty until you train or evaluate the model.\n",
            "WARNING:tensorflow:Compiled the loaded model, but the compiled metrics have yet to be built. `model.compile_metrics` will be empty until you train or evaluate the model.\n"
          ]
        },
        {
          "output_type": "stream",
          "name": "stdout",
          "text": [
            "model saved\n",
            "epoch start...\n",
            "Epoch 92, gen loss=1.3341492414474487,disc loss=1.1113204956054688, 0:00:43.29\n",
            "1/1 [==============================] - 0s 21ms/step\n"
          ]
        },
        {
          "output_type": "stream",
          "name": "stderr",
          "text": [
            "WARNING:tensorflow:Compiled the loaded model, but the compiled metrics have yet to be built. `model.compile_metrics` will be empty until you train or evaluate the model.\n",
            "WARNING:tensorflow:Compiled the loaded model, but the compiled metrics have yet to be built. `model.compile_metrics` will be empty until you train or evaluate the model.\n"
          ]
        },
        {
          "output_type": "stream",
          "name": "stdout",
          "text": [
            "model saved\n",
            "epoch start...\n",
            "Epoch 93, gen loss=1.351012945175171,disc loss=1.1120213270187378, 0:00:42.84\n",
            "1/1 [==============================] - 0s 21ms/step\n"
          ]
        },
        {
          "output_type": "stream",
          "name": "stderr",
          "text": [
            "WARNING:tensorflow:Compiled the loaded model, but the compiled metrics have yet to be built. `model.compile_metrics` will be empty until you train or evaluate the model.\n",
            "WARNING:tensorflow:Compiled the loaded model, but the compiled metrics have yet to be built. `model.compile_metrics` will be empty until you train or evaluate the model.\n"
          ]
        },
        {
          "output_type": "stream",
          "name": "stdout",
          "text": [
            "model saved\n",
            "epoch start...\n",
            "Epoch 94, gen loss=1.3356893062591553,disc loss=1.1260961294174194, 0:00:43.54\n",
            "1/1 [==============================] - 0s 21ms/step\n"
          ]
        },
        {
          "output_type": "stream",
          "name": "stderr",
          "text": [
            "WARNING:tensorflow:Compiled the loaded model, but the compiled metrics have yet to be built. `model.compile_metrics` will be empty until you train or evaluate the model.\n",
            "WARNING:tensorflow:Compiled the loaded model, but the compiled metrics have yet to be built. `model.compile_metrics` will be empty until you train or evaluate the model.\n"
          ]
        },
        {
          "output_type": "stream",
          "name": "stdout",
          "text": [
            "model saved\n",
            "epoch start...\n",
            "Epoch 95, gen loss=1.331470012664795,disc loss=1.108441710472107, 0:00:43.10\n",
            "1/1 [==============================] - 0s 19ms/step\n"
          ]
        },
        {
          "output_type": "stream",
          "name": "stderr",
          "text": [
            "WARNING:tensorflow:Compiled the loaded model, but the compiled metrics have yet to be built. `model.compile_metrics` will be empty until you train or evaluate the model.\n",
            "WARNING:tensorflow:Compiled the loaded model, but the compiled metrics have yet to be built. `model.compile_metrics` will be empty until you train or evaluate the model.\n"
          ]
        },
        {
          "output_type": "stream",
          "name": "stdout",
          "text": [
            "model saved\n",
            "epoch start...\n",
            "Epoch 96, gen loss=1.6401445865631104,disc loss=1.0901061296463013, 0:00:43.14\n",
            "1/1 [==============================] - 0s 20ms/step\n"
          ]
        },
        {
          "output_type": "stream",
          "name": "stderr",
          "text": [
            "WARNING:tensorflow:Compiled the loaded model, but the compiled metrics have yet to be built. `model.compile_metrics` will be empty until you train or evaluate the model.\n",
            "WARNING:tensorflow:Compiled the loaded model, but the compiled metrics have yet to be built. `model.compile_metrics` will be empty until you train or evaluate the model.\n"
          ]
        },
        {
          "output_type": "stream",
          "name": "stdout",
          "text": [
            "model saved\n",
            "epoch start...\n",
            "Epoch 97, gen loss=1.5072025060653687,disc loss=1.0925477743148804, 0:00:43.01\n",
            "1/1 [==============================] - 0s 32ms/step\n"
          ]
        },
        {
          "output_type": "stream",
          "name": "stderr",
          "text": [
            "WARNING:tensorflow:Compiled the loaded model, but the compiled metrics have yet to be built. `model.compile_metrics` will be empty until you train or evaluate the model.\n",
            "WARNING:tensorflow:Compiled the loaded model, but the compiled metrics have yet to be built. `model.compile_metrics` will be empty until you train or evaluate the model.\n"
          ]
        },
        {
          "output_type": "stream",
          "name": "stdout",
          "text": [
            "model saved\n",
            "epoch start...\n",
            "Epoch 98, gen loss=1.4021782875061035,disc loss=1.0927045345306396, 0:00:42.92\n",
            "1/1 [==============================] - 0s 20ms/step\n"
          ]
        },
        {
          "output_type": "stream",
          "name": "stderr",
          "text": [
            "WARNING:tensorflow:Compiled the loaded model, but the compiled metrics have yet to be built. `model.compile_metrics` will be empty until you train or evaluate the model.\n",
            "WARNING:tensorflow:Compiled the loaded model, but the compiled metrics have yet to be built. `model.compile_metrics` will be empty until you train or evaluate the model.\n"
          ]
        },
        {
          "output_type": "stream",
          "name": "stdout",
          "text": [
            "model saved\n",
            "epoch start...\n",
            "Epoch 99, gen loss=1.3072398900985718,disc loss=1.1212505102157593, 0:00:43.00\n",
            "1/1 [==============================] - 0s 31ms/step\n"
          ]
        },
        {
          "output_type": "stream",
          "name": "stderr",
          "text": [
            "WARNING:tensorflow:Compiled the loaded model, but the compiled metrics have yet to be built. `model.compile_metrics` will be empty until you train or evaluate the model.\n",
            "WARNING:tensorflow:Compiled the loaded model, but the compiled metrics have yet to be built. `model.compile_metrics` will be empty until you train or evaluate the model.\n"
          ]
        },
        {
          "output_type": "stream",
          "name": "stdout",
          "text": [
            "model saved\n",
            "epoch start...\n",
            "Epoch 100, gen loss=1.331878900527954,disc loss=1.105916976928711, 0:00:42.77\n",
            "1/1 [==============================] - 0s 20ms/step\n"
          ]
        },
        {
          "output_type": "stream",
          "name": "stderr",
          "text": [
            "WARNING:tensorflow:Compiled the loaded model, but the compiled metrics have yet to be built. `model.compile_metrics` will be empty until you train or evaluate the model.\n",
            "WARNING:tensorflow:Compiled the loaded model, but the compiled metrics have yet to be built. `model.compile_metrics` will be empty until you train or evaluate the model.\n"
          ]
        },
        {
          "output_type": "stream",
          "name": "stdout",
          "text": [
            "model saved\n",
            "epoch start...\n",
            "Epoch 101, gen loss=1.2436518669128418,disc loss=1.1368221044540405, 0:00:43.57\n",
            "1/1 [==============================] - 0s 35ms/step\n"
          ]
        },
        {
          "output_type": "stream",
          "name": "stderr",
          "text": [
            "WARNING:tensorflow:Compiled the loaded model, but the compiled metrics have yet to be built. `model.compile_metrics` will be empty until you train or evaluate the model.\n",
            "WARNING:tensorflow:Compiled the loaded model, but the compiled metrics have yet to be built. `model.compile_metrics` will be empty until you train or evaluate the model.\n"
          ]
        },
        {
          "output_type": "stream",
          "name": "stdout",
          "text": [
            "model saved\n",
            "epoch start...\n",
            "Epoch 102, gen loss=1.430434226989746,disc loss=1.111429214477539, 0:00:42.83\n",
            "1/1 [==============================] - 0s 19ms/step\n"
          ]
        },
        {
          "output_type": "stream",
          "name": "stderr",
          "text": [
            "WARNING:tensorflow:Compiled the loaded model, but the compiled metrics have yet to be built. `model.compile_metrics` will be empty until you train or evaluate the model.\n",
            "WARNING:tensorflow:Compiled the loaded model, but the compiled metrics have yet to be built. `model.compile_metrics` will be empty until you train or evaluate the model.\n"
          ]
        },
        {
          "output_type": "stream",
          "name": "stdout",
          "text": [
            "model saved\n",
            "epoch start...\n",
            "Epoch 103, gen loss=1.292887806892395,disc loss=1.1195530891418457, 0:00:43.07\n",
            "1/1 [==============================] - 0s 21ms/step\n"
          ]
        },
        {
          "output_type": "stream",
          "name": "stderr",
          "text": [
            "WARNING:tensorflow:Compiled the loaded model, but the compiled metrics have yet to be built. `model.compile_metrics` will be empty until you train or evaluate the model.\n",
            "WARNING:tensorflow:Compiled the loaded model, but the compiled metrics have yet to be built. `model.compile_metrics` will be empty until you train or evaluate the model.\n"
          ]
        },
        {
          "output_type": "stream",
          "name": "stdout",
          "text": [
            "model saved\n",
            "epoch start...\n",
            "Epoch 104, gen loss=1.3368605375289917,disc loss=1.1156864166259766, 0:00:42.68\n",
            "1/1 [==============================] - 0s 23ms/step\n"
          ]
        },
        {
          "output_type": "stream",
          "name": "stderr",
          "text": [
            "WARNING:tensorflow:Compiled the loaded model, but the compiled metrics have yet to be built. `model.compile_metrics` will be empty until you train or evaluate the model.\n",
            "WARNING:tensorflow:Compiled the loaded model, but the compiled metrics have yet to be built. `model.compile_metrics` will be empty until you train or evaluate the model.\n"
          ]
        },
        {
          "output_type": "stream",
          "name": "stdout",
          "text": [
            "model saved\n",
            "epoch start...\n",
            "Epoch 105, gen loss=1.3554446697235107,disc loss=1.1071274280548096, 0:00:43.18\n",
            "1/1 [==============================] - 0s 20ms/step\n"
          ]
        },
        {
          "output_type": "stream",
          "name": "stderr",
          "text": [
            "WARNING:tensorflow:Compiled the loaded model, but the compiled metrics have yet to be built. `model.compile_metrics` will be empty until you train or evaluate the model.\n",
            "WARNING:tensorflow:Compiled the loaded model, but the compiled metrics have yet to be built. `model.compile_metrics` will be empty until you train or evaluate the model.\n"
          ]
        },
        {
          "output_type": "stream",
          "name": "stdout",
          "text": [
            "model saved\n",
            "epoch start...\n",
            "Epoch 106, gen loss=1.3668212890625,disc loss=1.1051265001296997, 0:00:42.77\n",
            "1/1 [==============================] - 0s 22ms/step\n"
          ]
        },
        {
          "output_type": "stream",
          "name": "stderr",
          "text": [
            "WARNING:tensorflow:Compiled the loaded model, but the compiled metrics have yet to be built. `model.compile_metrics` will be empty until you train or evaluate the model.\n",
            "WARNING:tensorflow:Compiled the loaded model, but the compiled metrics have yet to be built. `model.compile_metrics` will be empty until you train or evaluate the model.\n"
          ]
        },
        {
          "output_type": "stream",
          "name": "stdout",
          "text": [
            "model saved\n",
            "epoch start...\n",
            "Epoch 107, gen loss=1.44083833694458,disc loss=1.0985366106033325, 0:00:43.17\n",
            "1/1 [==============================] - 0s 20ms/step\n"
          ]
        },
        {
          "output_type": "stream",
          "name": "stderr",
          "text": [
            "WARNING:tensorflow:Compiled the loaded model, but the compiled metrics have yet to be built. `model.compile_metrics` will be empty until you train or evaluate the model.\n",
            "WARNING:tensorflow:Compiled the loaded model, but the compiled metrics have yet to be built. `model.compile_metrics` will be empty until you train or evaluate the model.\n"
          ]
        },
        {
          "output_type": "stream",
          "name": "stdout",
          "text": [
            "model saved\n",
            "epoch start...\n",
            "Epoch 108, gen loss=1.3238838911056519,disc loss=1.1078094244003296, 0:00:42.98\n",
            "1/1 [==============================] - 0s 20ms/step\n"
          ]
        },
        {
          "output_type": "stream",
          "name": "stderr",
          "text": [
            "WARNING:tensorflow:Compiled the loaded model, but the compiled metrics have yet to be built. `model.compile_metrics` will be empty until you train or evaluate the model.\n",
            "WARNING:tensorflow:Compiled the loaded model, but the compiled metrics have yet to be built. `model.compile_metrics` will be empty until you train or evaluate the model.\n"
          ]
        },
        {
          "output_type": "stream",
          "name": "stdout",
          "text": [
            "model saved\n",
            "epoch start...\n",
            "Epoch 109, gen loss=1.3897497653961182,disc loss=1.0931159257888794, 0:00:43.12\n",
            "1/1 [==============================] - 0s 21ms/step\n"
          ]
        },
        {
          "output_type": "stream",
          "name": "stderr",
          "text": [
            "WARNING:tensorflow:Compiled the loaded model, but the compiled metrics have yet to be built. `model.compile_metrics` will be empty until you train or evaluate the model.\n",
            "WARNING:tensorflow:Compiled the loaded model, but the compiled metrics have yet to be built. `model.compile_metrics` will be empty until you train or evaluate the model.\n"
          ]
        },
        {
          "output_type": "stream",
          "name": "stdout",
          "text": [
            "model saved\n",
            "epoch start...\n",
            "Epoch 110, gen loss=1.3155382871627808,disc loss=1.1201345920562744, 0:00:42.66\n",
            "1/1 [==============================] - 0s 20ms/step\n"
          ]
        },
        {
          "output_type": "stream",
          "name": "stderr",
          "text": [
            "WARNING:tensorflow:Compiled the loaded model, but the compiled metrics have yet to be built. `model.compile_metrics` will be empty until you train or evaluate the model.\n",
            "WARNING:tensorflow:Compiled the loaded model, but the compiled metrics have yet to be built. `model.compile_metrics` will be empty until you train or evaluate the model.\n"
          ]
        },
        {
          "output_type": "stream",
          "name": "stdout",
          "text": [
            "model saved\n",
            "epoch start...\n",
            "Epoch 111, gen loss=1.344101071357727,disc loss=1.1071363687515259, 0:00:43.11\n",
            "1/1 [==============================] - 0s 20ms/step\n"
          ]
        },
        {
          "output_type": "stream",
          "name": "stderr",
          "text": [
            "WARNING:tensorflow:Compiled the loaded model, but the compiled metrics have yet to be built. `model.compile_metrics` will be empty until you train or evaluate the model.\n",
            "WARNING:tensorflow:Compiled the loaded model, but the compiled metrics have yet to be built. `model.compile_metrics` will be empty until you train or evaluate the model.\n"
          ]
        },
        {
          "output_type": "stream",
          "name": "stdout",
          "text": [
            "model saved\n",
            "epoch start...\n",
            "Epoch 112, gen loss=1.4475785493850708,disc loss=1.0961984395980835, 0:00:42.94\n",
            "1/1 [==============================] - 0s 22ms/step\n"
          ]
        },
        {
          "output_type": "stream",
          "name": "stderr",
          "text": [
            "WARNING:tensorflow:Compiled the loaded model, but the compiled metrics have yet to be built. `model.compile_metrics` will be empty until you train or evaluate the model.\n",
            "WARNING:tensorflow:Compiled the loaded model, but the compiled metrics have yet to be built. `model.compile_metrics` will be empty until you train or evaluate the model.\n"
          ]
        },
        {
          "output_type": "stream",
          "name": "stdout",
          "text": [
            "model saved\n",
            "epoch start...\n",
            "Epoch 113, gen loss=1.3305621147155762,disc loss=1.112610101699829, 0:00:43.08\n",
            "1/1 [==============================] - 0s 21ms/step\n"
          ]
        },
        {
          "output_type": "stream",
          "name": "stderr",
          "text": [
            "WARNING:tensorflow:Compiled the loaded model, but the compiled metrics have yet to be built. `model.compile_metrics` will be empty until you train or evaluate the model.\n",
            "WARNING:tensorflow:Compiled the loaded model, but the compiled metrics have yet to be built. `model.compile_metrics` will be empty until you train or evaluate the model.\n"
          ]
        },
        {
          "output_type": "stream",
          "name": "stdout",
          "text": [
            "model saved\n",
            "epoch start...\n",
            "Epoch 114, gen loss=1.3392211198806763,disc loss=1.1042505502700806, 0:00:42.91\n",
            "1/1 [==============================] - 0s 28ms/step\n"
          ]
        },
        {
          "output_type": "stream",
          "name": "stderr",
          "text": [
            "WARNING:tensorflow:Compiled the loaded model, but the compiled metrics have yet to be built. `model.compile_metrics` will be empty until you train or evaluate the model.\n",
            "WARNING:tensorflow:Compiled the loaded model, but the compiled metrics have yet to be built. `model.compile_metrics` will be empty until you train or evaluate the model.\n"
          ]
        },
        {
          "output_type": "stream",
          "name": "stdout",
          "text": [
            "model saved\n",
            "epoch start...\n",
            "Epoch 115, gen loss=1.3193131685256958,disc loss=1.1070289611816406, 0:00:43.52\n",
            "1/1 [==============================] - 0s 38ms/step\n"
          ]
        },
        {
          "output_type": "stream",
          "name": "stderr",
          "text": [
            "WARNING:tensorflow:Compiled the loaded model, but the compiled metrics have yet to be built. `model.compile_metrics` will be empty until you train or evaluate the model.\n",
            "WARNING:tensorflow:Compiled the loaded model, but the compiled metrics have yet to be built. `model.compile_metrics` will be empty until you train or evaluate the model.\n"
          ]
        },
        {
          "output_type": "stream",
          "name": "stdout",
          "text": [
            "model saved\n",
            "epoch start...\n",
            "Epoch 116, gen loss=1.3492531776428223,disc loss=1.1009074449539185, 0:00:43.15\n",
            "1/1 [==============================] - 0s 43ms/step\n"
          ]
        },
        {
          "output_type": "stream",
          "name": "stderr",
          "text": [
            "WARNING:tensorflow:Compiled the loaded model, but the compiled metrics have yet to be built. `model.compile_metrics` will be empty until you train or evaluate the model.\n",
            "WARNING:tensorflow:Compiled the loaded model, but the compiled metrics have yet to be built. `model.compile_metrics` will be empty until you train or evaluate the model.\n"
          ]
        },
        {
          "output_type": "stream",
          "name": "stdout",
          "text": [
            "model saved\n",
            "epoch start...\n",
            "Epoch 117, gen loss=1.3377102613449097,disc loss=1.1071500778198242, 0:00:42.93\n",
            "1/1 [==============================] - 0s 20ms/step\n"
          ]
        },
        {
          "output_type": "stream",
          "name": "stderr",
          "text": [
            "WARNING:tensorflow:Compiled the loaded model, but the compiled metrics have yet to be built. `model.compile_metrics` will be empty until you train or evaluate the model.\n",
            "WARNING:tensorflow:Compiled the loaded model, but the compiled metrics have yet to be built. `model.compile_metrics` will be empty until you train or evaluate the model.\n"
          ]
        },
        {
          "output_type": "stream",
          "name": "stdout",
          "text": [
            "model saved\n",
            "epoch start...\n",
            "Epoch 118, gen loss=1.3301303386688232,disc loss=1.1014238595962524, 0:00:43.49\n",
            "1/1 [==============================] - 0s 20ms/step\n"
          ]
        },
        {
          "output_type": "stream",
          "name": "stderr",
          "text": [
            "WARNING:tensorflow:Compiled the loaded model, but the compiled metrics have yet to be built. `model.compile_metrics` will be empty until you train or evaluate the model.\n",
            "WARNING:tensorflow:Compiled the loaded model, but the compiled metrics have yet to be built. `model.compile_metrics` will be empty until you train or evaluate the model.\n"
          ]
        },
        {
          "output_type": "stream",
          "name": "stdout",
          "text": [
            "model saved\n",
            "epoch start...\n",
            "Epoch 119, gen loss=1.5197854042053223,disc loss=1.0847439765930176, 0:00:42.79\n",
            "1/1 [==============================] - 0s 20ms/step\n"
          ]
        },
        {
          "output_type": "stream",
          "name": "stderr",
          "text": [
            "WARNING:tensorflow:Compiled the loaded model, but the compiled metrics have yet to be built. `model.compile_metrics` will be empty until you train or evaluate the model.\n",
            "WARNING:tensorflow:Compiled the loaded model, but the compiled metrics have yet to be built. `model.compile_metrics` will be empty until you train or evaluate the model.\n"
          ]
        },
        {
          "output_type": "stream",
          "name": "stdout",
          "text": [
            "model saved\n",
            "epoch start...\n",
            "Epoch 120, gen loss=1.385226845741272,disc loss=1.097167730331421, 0:00:43.18\n",
            "1/1 [==============================] - 0s 19ms/step\n"
          ]
        },
        {
          "output_type": "stream",
          "name": "stderr",
          "text": [
            "WARNING:tensorflow:Compiled the loaded model, but the compiled metrics have yet to be built. `model.compile_metrics` will be empty until you train or evaluate the model.\n",
            "WARNING:tensorflow:Compiled the loaded model, but the compiled metrics have yet to be built. `model.compile_metrics` will be empty until you train or evaluate the model.\n"
          ]
        },
        {
          "output_type": "stream",
          "name": "stdout",
          "text": [
            "model saved\n",
            "epoch start...\n",
            "Epoch 121, gen loss=1.398932933807373,disc loss=1.1040557622909546, 0:00:42.91\n",
            "1/1 [==============================] - 0s 20ms/step\n"
          ]
        },
        {
          "output_type": "stream",
          "name": "stderr",
          "text": [
            "WARNING:tensorflow:Compiled the loaded model, but the compiled metrics have yet to be built. `model.compile_metrics` will be empty until you train or evaluate the model.\n",
            "WARNING:tensorflow:Compiled the loaded model, but the compiled metrics have yet to be built. `model.compile_metrics` will be empty until you train or evaluate the model.\n"
          ]
        },
        {
          "output_type": "stream",
          "name": "stdout",
          "text": [
            "model saved\n",
            "epoch start...\n",
            "Epoch 122, gen loss=1.3931103944778442,disc loss=1.0899587869644165, 0:00:43.55\n",
            "1/1 [==============================] - 0s 20ms/step\n"
          ]
        },
        {
          "output_type": "stream",
          "name": "stderr",
          "text": [
            "WARNING:tensorflow:Compiled the loaded model, but the compiled metrics have yet to be built. `model.compile_metrics` will be empty until you train or evaluate the model.\n",
            "WARNING:tensorflow:Compiled the loaded model, but the compiled metrics have yet to be built. `model.compile_metrics` will be empty until you train or evaluate the model.\n"
          ]
        },
        {
          "output_type": "stream",
          "name": "stdout",
          "text": [
            "model saved\n",
            "epoch start...\n",
            "Epoch 123, gen loss=1.2885245084762573,disc loss=1.1163965463638306, 0:00:43.69\n",
            "1/1 [==============================] - 0s 29ms/step\n"
          ]
        },
        {
          "output_type": "stream",
          "name": "stderr",
          "text": [
            "WARNING:tensorflow:Compiled the loaded model, but the compiled metrics have yet to be built. `model.compile_metrics` will be empty until you train or evaluate the model.\n",
            "WARNING:tensorflow:Compiled the loaded model, but the compiled metrics have yet to be built. `model.compile_metrics` will be empty until you train or evaluate the model.\n"
          ]
        },
        {
          "output_type": "stream",
          "name": "stdout",
          "text": [
            "model saved\n",
            "epoch start...\n",
            "Epoch 124, gen loss=1.3040755987167358,disc loss=1.1074658632278442, 0:00:43.00\n",
            "1/1 [==============================] - 0s 20ms/step\n"
          ]
        },
        {
          "output_type": "stream",
          "name": "stderr",
          "text": [
            "WARNING:tensorflow:Compiled the loaded model, but the compiled metrics have yet to be built. `model.compile_metrics` will be empty until you train or evaluate the model.\n",
            "WARNING:tensorflow:Compiled the loaded model, but the compiled metrics have yet to be built. `model.compile_metrics` will be empty until you train or evaluate the model.\n"
          ]
        },
        {
          "output_type": "stream",
          "name": "stdout",
          "text": [
            "model saved\n",
            "epoch start...\n",
            "Epoch 125, gen loss=1.2907006740570068,disc loss=1.1166431903839111, 0:00:44.30\n",
            "1/1 [==============================] - 0s 22ms/step\n"
          ]
        },
        {
          "output_type": "stream",
          "name": "stderr",
          "text": [
            "WARNING:tensorflow:Compiled the loaded model, but the compiled metrics have yet to be built. `model.compile_metrics` will be empty until you train or evaluate the model.\n",
            "WARNING:tensorflow:Compiled the loaded model, but the compiled metrics have yet to be built. `model.compile_metrics` will be empty until you train or evaluate the model.\n"
          ]
        },
        {
          "output_type": "stream",
          "name": "stdout",
          "text": [
            "model saved\n",
            "epoch start...\n",
            "Epoch 126, gen loss=1.318677544593811,disc loss=1.100577712059021, 0:00:42.97\n",
            "1/1 [==============================] - 0s 22ms/step\n"
          ]
        },
        {
          "output_type": "stream",
          "name": "stderr",
          "text": [
            "WARNING:tensorflow:Compiled the loaded model, but the compiled metrics have yet to be built. `model.compile_metrics` will be empty until you train or evaluate the model.\n",
            "WARNING:tensorflow:Compiled the loaded model, but the compiled metrics have yet to be built. `model.compile_metrics` will be empty until you train or evaluate the model.\n"
          ]
        },
        {
          "output_type": "stream",
          "name": "stdout",
          "text": [
            "model saved\n",
            "epoch start...\n",
            "Epoch 127, gen loss=1.2896734476089478,disc loss=1.1136019229888916, 0:00:43.20\n",
            "1/1 [==============================] - 0s 24ms/step\n"
          ]
        },
        {
          "output_type": "stream",
          "name": "stderr",
          "text": [
            "WARNING:tensorflow:Compiled the loaded model, but the compiled metrics have yet to be built. `model.compile_metrics` will be empty until you train or evaluate the model.\n",
            "WARNING:tensorflow:Compiled the loaded model, but the compiled metrics have yet to be built. `model.compile_metrics` will be empty until you train or evaluate the model.\n"
          ]
        },
        {
          "output_type": "stream",
          "name": "stdout",
          "text": [
            "model saved\n",
            "epoch start...\n",
            "Epoch 128, gen loss=1.3788659572601318,disc loss=1.1000229120254517, 0:00:43.26\n",
            "1/1 [==============================] - 0s 20ms/step\n"
          ]
        },
        {
          "output_type": "stream",
          "name": "stderr",
          "text": [
            "WARNING:tensorflow:Compiled the loaded model, but the compiled metrics have yet to be built. `model.compile_metrics` will be empty until you train or evaluate the model.\n",
            "WARNING:tensorflow:Compiled the loaded model, but the compiled metrics have yet to be built. `model.compile_metrics` will be empty until you train or evaluate the model.\n"
          ]
        },
        {
          "output_type": "stream",
          "name": "stdout",
          "text": [
            "model saved\n",
            "epoch start...\n",
            "Epoch 129, gen loss=1.4507883787155151,disc loss=1.085749626159668, 0:00:43.75\n",
            "1/1 [==============================] - 0s 20ms/step\n"
          ]
        },
        {
          "output_type": "stream",
          "name": "stderr",
          "text": [
            "WARNING:tensorflow:Compiled the loaded model, but the compiled metrics have yet to be built. `model.compile_metrics` will be empty until you train or evaluate the model.\n",
            "WARNING:tensorflow:Compiled the loaded model, but the compiled metrics have yet to be built. `model.compile_metrics` will be empty until you train or evaluate the model.\n"
          ]
        },
        {
          "output_type": "stream",
          "name": "stdout",
          "text": [
            "model saved\n",
            "epoch start...\n",
            "Epoch 130, gen loss=1.3472946882247925,disc loss=1.0992804765701294, 0:00:43.22\n",
            "1/1 [==============================] - 0s 21ms/step\n"
          ]
        },
        {
          "output_type": "stream",
          "name": "stderr",
          "text": [
            "WARNING:tensorflow:Compiled the loaded model, but the compiled metrics have yet to be built. `model.compile_metrics` will be empty until you train or evaluate the model.\n",
            "WARNING:tensorflow:Compiled the loaded model, but the compiled metrics have yet to be built. `model.compile_metrics` will be empty until you train or evaluate the model.\n"
          ]
        },
        {
          "output_type": "stream",
          "name": "stdout",
          "text": [
            "model saved\n",
            "epoch start...\n",
            "Epoch 131, gen loss=1.3773783445358276,disc loss=1.099843144416809, 0:00:43.37\n",
            "1/1 [==============================] - 0s 19ms/step\n"
          ]
        },
        {
          "output_type": "stream",
          "name": "stderr",
          "text": [
            "WARNING:tensorflow:Compiled the loaded model, but the compiled metrics have yet to be built. `model.compile_metrics` will be empty until you train or evaluate the model.\n",
            "WARNING:tensorflow:Compiled the loaded model, but the compiled metrics have yet to be built. `model.compile_metrics` will be empty until you train or evaluate the model.\n"
          ]
        },
        {
          "output_type": "stream",
          "name": "stdout",
          "text": [
            "model saved\n",
            "epoch start...\n",
            "Epoch 132, gen loss=1.489737868309021,disc loss=1.0890916585922241, 0:00:43.44\n",
            "1/1 [==============================] - 0s 31ms/step\n"
          ]
        },
        {
          "output_type": "stream",
          "name": "stderr",
          "text": [
            "WARNING:tensorflow:Compiled the loaded model, but the compiled metrics have yet to be built. `model.compile_metrics` will be empty until you train or evaluate the model.\n",
            "WARNING:tensorflow:Compiled the loaded model, but the compiled metrics have yet to be built. `model.compile_metrics` will be empty until you train or evaluate the model.\n"
          ]
        },
        {
          "output_type": "stream",
          "name": "stdout",
          "text": [
            "model saved\n",
            "epoch start...\n",
            "Epoch 133, gen loss=1.4082752466201782,disc loss=1.084969162940979, 0:00:43.29\n",
            "1/1 [==============================] - 0s 20ms/step\n"
          ]
        },
        {
          "output_type": "stream",
          "name": "stderr",
          "text": [
            "WARNING:tensorflow:Compiled the loaded model, but the compiled metrics have yet to be built. `model.compile_metrics` will be empty until you train or evaluate the model.\n",
            "WARNING:tensorflow:Compiled the loaded model, but the compiled metrics have yet to be built. `model.compile_metrics` will be empty until you train or evaluate the model.\n"
          ]
        },
        {
          "output_type": "stream",
          "name": "stdout",
          "text": [
            "model saved\n",
            "epoch start...\n",
            "Epoch 134, gen loss=1.6387584209442139,disc loss=1.055985689163208, 0:00:43.61\n",
            "1/1 [==============================] - 0s 37ms/step\n"
          ]
        },
        {
          "output_type": "stream",
          "name": "stderr",
          "text": [
            "WARNING:tensorflow:Compiled the loaded model, but the compiled metrics have yet to be built. `model.compile_metrics` will be empty until you train or evaluate the model.\n",
            "WARNING:tensorflow:Compiled the loaded model, but the compiled metrics have yet to be built. `model.compile_metrics` will be empty until you train or evaluate the model.\n"
          ]
        },
        {
          "output_type": "stream",
          "name": "stdout",
          "text": [
            "model saved\n",
            "epoch start...\n",
            "Epoch 135, gen loss=1.3936667442321777,disc loss=1.077146053314209, 0:00:43.14\n",
            "1/1 [==============================] - 0s 20ms/step\n"
          ]
        },
        {
          "output_type": "stream",
          "name": "stderr",
          "text": [
            "WARNING:tensorflow:Compiled the loaded model, but the compiled metrics have yet to be built. `model.compile_metrics` will be empty until you train or evaluate the model.\n",
            "WARNING:tensorflow:Compiled the loaded model, but the compiled metrics have yet to be built. `model.compile_metrics` will be empty until you train or evaluate the model.\n"
          ]
        },
        {
          "output_type": "stream",
          "name": "stdout",
          "text": [
            "model saved\n",
            "epoch start...\n",
            "Epoch 136, gen loss=1.3667268753051758,disc loss=1.0930835008621216, 0:00:43.55\n",
            "1/1 [==============================] - 0s 20ms/step\n"
          ]
        },
        {
          "output_type": "stream",
          "name": "stderr",
          "text": [
            "WARNING:tensorflow:Compiled the loaded model, but the compiled metrics have yet to be built. `model.compile_metrics` will be empty until you train or evaluate the model.\n",
            "WARNING:tensorflow:Compiled the loaded model, but the compiled metrics have yet to be built. `model.compile_metrics` will be empty until you train or evaluate the model.\n"
          ]
        },
        {
          "output_type": "stream",
          "name": "stdout",
          "text": [
            "model saved\n",
            "epoch start...\n",
            "Epoch 137, gen loss=1.4028773307800293,disc loss=1.081120491027832, 0:00:43.77\n",
            "1/1 [==============================] - 0s 20ms/step\n"
          ]
        },
        {
          "output_type": "stream",
          "name": "stderr",
          "text": [
            "WARNING:tensorflow:Compiled the loaded model, but the compiled metrics have yet to be built. `model.compile_metrics` will be empty until you train or evaluate the model.\n",
            "WARNING:tensorflow:Compiled the loaded model, but the compiled metrics have yet to be built. `model.compile_metrics` will be empty until you train or evaluate the model.\n"
          ]
        },
        {
          "output_type": "stream",
          "name": "stdout",
          "text": [
            "model saved\n",
            "epoch start...\n",
            "Epoch 138, gen loss=1.58297598361969,disc loss=1.0564384460449219, 0:00:43.67\n",
            "1/1 [==============================] - 0s 20ms/step\n"
          ]
        },
        {
          "output_type": "stream",
          "name": "stderr",
          "text": [
            "WARNING:tensorflow:Compiled the loaded model, but the compiled metrics have yet to be built. `model.compile_metrics` will be empty until you train or evaluate the model.\n",
            "WARNING:tensorflow:Compiled the loaded model, but the compiled metrics have yet to be built. `model.compile_metrics` will be empty until you train or evaluate the model.\n"
          ]
        },
        {
          "output_type": "stream",
          "name": "stdout",
          "text": [
            "model saved\n",
            "epoch start...\n",
            "Epoch 139, gen loss=1.4151668548583984,disc loss=1.077181100845337, 0:00:43.58\n",
            "1/1 [==============================] - 0s 20ms/step\n"
          ]
        },
        {
          "output_type": "stream",
          "name": "stderr",
          "text": [
            "WARNING:tensorflow:Compiled the loaded model, but the compiled metrics have yet to be built. `model.compile_metrics` will be empty until you train or evaluate the model.\n",
            "WARNING:tensorflow:Compiled the loaded model, but the compiled metrics have yet to be built. `model.compile_metrics` will be empty until you train or evaluate the model.\n"
          ]
        },
        {
          "output_type": "stream",
          "name": "stdout",
          "text": [
            "model saved\n",
            "epoch start...\n",
            "Epoch 140, gen loss=1.3794723749160767,disc loss=1.0823768377304077, 0:00:43.56\n",
            "1/1 [==============================] - 0s 20ms/step\n"
          ]
        },
        {
          "output_type": "stream",
          "name": "stderr",
          "text": [
            "WARNING:tensorflow:Compiled the loaded model, but the compiled metrics have yet to be built. `model.compile_metrics` will be empty until you train or evaluate the model.\n",
            "WARNING:tensorflow:Compiled the loaded model, but the compiled metrics have yet to be built. `model.compile_metrics` will be empty until you train or evaluate the model.\n"
          ]
        },
        {
          "output_type": "stream",
          "name": "stdout",
          "text": [
            "model saved\n",
            "epoch start...\n",
            "Epoch 141, gen loss=1.3881100416183472,disc loss=1.0797559022903442, 0:00:43.38\n",
            "1/1 [==============================] - 0s 29ms/step\n"
          ]
        },
        {
          "output_type": "stream",
          "name": "stderr",
          "text": [
            "WARNING:tensorflow:Compiled the loaded model, but the compiled metrics have yet to be built. `model.compile_metrics` will be empty until you train or evaluate the model.\n",
            "WARNING:tensorflow:Compiled the loaded model, but the compiled metrics have yet to be built. `model.compile_metrics` will be empty until you train or evaluate the model.\n"
          ]
        },
        {
          "output_type": "stream",
          "name": "stdout",
          "text": [
            "model saved\n",
            "epoch start...\n",
            "Epoch 142, gen loss=1.5606220960617065,disc loss=1.0686222314834595, 0:00:43.33\n",
            "1/1 [==============================] - 0s 21ms/step\n"
          ]
        },
        {
          "output_type": "stream",
          "name": "stderr",
          "text": [
            "WARNING:tensorflow:Compiled the loaded model, but the compiled metrics have yet to be built. `model.compile_metrics` will be empty until you train or evaluate the model.\n",
            "WARNING:tensorflow:Compiled the loaded model, but the compiled metrics have yet to be built. `model.compile_metrics` will be empty until you train or evaluate the model.\n"
          ]
        },
        {
          "output_type": "stream",
          "name": "stdout",
          "text": [
            "model saved\n",
            "epoch start...\n",
            "Epoch 143, gen loss=1.5593657493591309,disc loss=1.0543901920318604, 0:00:43.48\n",
            "1/1 [==============================] - 0s 31ms/step\n"
          ]
        },
        {
          "output_type": "stream",
          "name": "stderr",
          "text": [
            "WARNING:tensorflow:Compiled the loaded model, but the compiled metrics have yet to be built. `model.compile_metrics` will be empty until you train or evaluate the model.\n",
            "WARNING:tensorflow:Compiled the loaded model, but the compiled metrics have yet to be built. `model.compile_metrics` will be empty until you train or evaluate the model.\n"
          ]
        },
        {
          "output_type": "stream",
          "name": "stdout",
          "text": [
            "model saved\n",
            "epoch start...\n",
            "Epoch 144, gen loss=1.3999887704849243,disc loss=1.078238844871521, 0:00:43.18\n",
            "1/1 [==============================] - 0s 29ms/step\n"
          ]
        },
        {
          "output_type": "stream",
          "name": "stderr",
          "text": [
            "WARNING:tensorflow:Compiled the loaded model, but the compiled metrics have yet to be built. `model.compile_metrics` will be empty until you train or evaluate the model.\n",
            "WARNING:tensorflow:Compiled the loaded model, but the compiled metrics have yet to be built. `model.compile_metrics` will be empty until you train or evaluate the model.\n"
          ]
        },
        {
          "output_type": "stream",
          "name": "stdout",
          "text": [
            "model saved\n",
            "epoch start...\n",
            "Epoch 145, gen loss=1.3020951747894287,disc loss=1.0981833934783936, 0:00:43.54\n",
            "1/1 [==============================] - 0s 20ms/step\n"
          ]
        },
        {
          "output_type": "stream",
          "name": "stderr",
          "text": [
            "WARNING:tensorflow:Compiled the loaded model, but the compiled metrics have yet to be built. `model.compile_metrics` will be empty until you train or evaluate the model.\n",
            "WARNING:tensorflow:Compiled the loaded model, but the compiled metrics have yet to be built. `model.compile_metrics` will be empty until you train or evaluate the model.\n"
          ]
        },
        {
          "output_type": "stream",
          "name": "stdout",
          "text": [
            "model saved\n",
            "epoch start...\n",
            "Epoch 146, gen loss=1.355852723121643,disc loss=1.0934969186782837, 0:00:42.90\n",
            "1/1 [==============================] - 0s 20ms/step\n"
          ]
        },
        {
          "output_type": "stream",
          "name": "stderr",
          "text": [
            "WARNING:tensorflow:Compiled the loaded model, but the compiled metrics have yet to be built. `model.compile_metrics` will be empty until you train or evaluate the model.\n",
            "WARNING:tensorflow:Compiled the loaded model, but the compiled metrics have yet to be built. `model.compile_metrics` will be empty until you train or evaluate the model.\n"
          ]
        },
        {
          "output_type": "stream",
          "name": "stdout",
          "text": [
            "model saved\n",
            "epoch start...\n",
            "Epoch 147, gen loss=1.3979061841964722,disc loss=1.0783004760742188, 0:00:43.41\n",
            "1/1 [==============================] - 0s 20ms/step\n"
          ]
        },
        {
          "output_type": "stream",
          "name": "stderr",
          "text": [
            "WARNING:tensorflow:Compiled the loaded model, but the compiled metrics have yet to be built. `model.compile_metrics` will be empty until you train or evaluate the model.\n",
            "WARNING:tensorflow:Compiled the loaded model, but the compiled metrics have yet to be built. `model.compile_metrics` will be empty until you train or evaluate the model.\n"
          ]
        },
        {
          "output_type": "stream",
          "name": "stdout",
          "text": [
            "model saved\n",
            "epoch start...\n",
            "Epoch 148, gen loss=1.52162504196167,disc loss=1.0750489234924316, 0:00:42.95\n",
            "1/1 [==============================] - 0s 20ms/step\n"
          ]
        },
        {
          "output_type": "stream",
          "name": "stderr",
          "text": [
            "WARNING:tensorflow:Compiled the loaded model, but the compiled metrics have yet to be built. `model.compile_metrics` will be empty until you train or evaluate the model.\n",
            "WARNING:tensorflow:Compiled the loaded model, but the compiled metrics have yet to be built. `model.compile_metrics` will be empty until you train or evaluate the model.\n"
          ]
        },
        {
          "output_type": "stream",
          "name": "stdout",
          "text": [
            "model saved\n",
            "epoch start...\n",
            "Epoch 149, gen loss=1.4534265995025635,disc loss=1.060712218284607, 0:00:43.29\n",
            "1/1 [==============================] - 0s 21ms/step\n"
          ]
        },
        {
          "output_type": "stream",
          "name": "stderr",
          "text": [
            "WARNING:tensorflow:Compiled the loaded model, but the compiled metrics have yet to be built. `model.compile_metrics` will be empty until you train or evaluate the model.\n",
            "WARNING:tensorflow:Compiled the loaded model, but the compiled metrics have yet to be built. `model.compile_metrics` will be empty until you train or evaluate the model.\n"
          ]
        },
        {
          "output_type": "stream",
          "name": "stdout",
          "text": [
            "model saved\n",
            "epoch start...\n",
            "Epoch 150, gen loss=1.4186269044876099,disc loss=1.0781137943267822, 0:00:43.28\n",
            "1/1 [==============================] - 0s 37ms/step\n"
          ]
        },
        {
          "output_type": "stream",
          "name": "stderr",
          "text": [
            "WARNING:tensorflow:Compiled the loaded model, but the compiled metrics have yet to be built. `model.compile_metrics` will be empty until you train or evaluate the model.\n",
            "WARNING:tensorflow:Compiled the loaded model, but the compiled metrics have yet to be built. `model.compile_metrics` will be empty until you train or evaluate the model.\n"
          ]
        },
        {
          "output_type": "stream",
          "name": "stdout",
          "text": [
            "model saved\n",
            "epoch start...\n",
            "Epoch 151, gen loss=1.402271032333374,disc loss=1.0814540386199951, 0:00:43.17\n",
            "1/1 [==============================] - 0s 20ms/step\n"
          ]
        },
        {
          "output_type": "stream",
          "name": "stderr",
          "text": [
            "WARNING:tensorflow:Compiled the loaded model, but the compiled metrics have yet to be built. `model.compile_metrics` will be empty until you train or evaluate the model.\n",
            "WARNING:tensorflow:Compiled the loaded model, but the compiled metrics have yet to be built. `model.compile_metrics` will be empty until you train or evaluate the model.\n"
          ]
        },
        {
          "output_type": "stream",
          "name": "stdout",
          "text": [
            "model saved\n",
            "epoch start...\n",
            "Epoch 152, gen loss=1.4821453094482422,disc loss=1.0741668939590454, 0:00:43.74\n",
            "1/1 [==============================] - 0s 32ms/step\n"
          ]
        },
        {
          "output_type": "stream",
          "name": "stderr",
          "text": [
            "WARNING:tensorflow:Compiled the loaded model, but the compiled metrics have yet to be built. `model.compile_metrics` will be empty until you train or evaluate the model.\n",
            "WARNING:tensorflow:Compiled the loaded model, but the compiled metrics have yet to be built. `model.compile_metrics` will be empty until you train or evaluate the model.\n"
          ]
        },
        {
          "output_type": "stream",
          "name": "stdout",
          "text": [
            "model saved\n",
            "epoch start...\n",
            "Epoch 153, gen loss=1.5450435876846313,disc loss=1.065301537513733, 0:00:43.01\n",
            "1/1 [==============================] - 0s 20ms/step\n"
          ]
        },
        {
          "output_type": "stream",
          "name": "stderr",
          "text": [
            "WARNING:tensorflow:Compiled the loaded model, but the compiled metrics have yet to be built. `model.compile_metrics` will be empty until you train or evaluate the model.\n",
            "WARNING:tensorflow:Compiled the loaded model, but the compiled metrics have yet to be built. `model.compile_metrics` will be empty until you train or evaluate the model.\n"
          ]
        },
        {
          "output_type": "stream",
          "name": "stdout",
          "text": [
            "model saved\n",
            "epoch start...\n",
            "Epoch 154, gen loss=1.4366114139556885,disc loss=1.0677872896194458, 0:00:43.49\n",
            "1/1 [==============================] - 0s 21ms/step\n"
          ]
        },
        {
          "output_type": "stream",
          "name": "stderr",
          "text": [
            "WARNING:tensorflow:Compiled the loaded model, but the compiled metrics have yet to be built. `model.compile_metrics` will be empty until you train or evaluate the model.\n",
            "WARNING:tensorflow:Compiled the loaded model, but the compiled metrics have yet to be built. `model.compile_metrics` will be empty until you train or evaluate the model.\n"
          ]
        },
        {
          "output_type": "stream",
          "name": "stdout",
          "text": [
            "model saved\n",
            "epoch start...\n",
            "Epoch 155, gen loss=1.3767544031143188,disc loss=1.0799334049224854, 0:00:43.07\n",
            "1/1 [==============================] - 0s 20ms/step\n"
          ]
        },
        {
          "output_type": "stream",
          "name": "stderr",
          "text": [
            "WARNING:tensorflow:Compiled the loaded model, but the compiled metrics have yet to be built. `model.compile_metrics` will be empty until you train or evaluate the model.\n",
            "WARNING:tensorflow:Compiled the loaded model, but the compiled metrics have yet to be built. `model.compile_metrics` will be empty until you train or evaluate the model.\n"
          ]
        },
        {
          "output_type": "stream",
          "name": "stdout",
          "text": [
            "model saved\n",
            "epoch start...\n",
            "Epoch 156, gen loss=1.392348051071167,disc loss=1.0843631029129028, 0:00:43.43\n",
            "1/1 [==============================] - 0s 26ms/step\n"
          ]
        },
        {
          "output_type": "stream",
          "name": "stderr",
          "text": [
            "WARNING:tensorflow:Compiled the loaded model, but the compiled metrics have yet to be built. `model.compile_metrics` will be empty until you train or evaluate the model.\n",
            "WARNING:tensorflow:Compiled the loaded model, but the compiled metrics have yet to be built. `model.compile_metrics` will be empty until you train or evaluate the model.\n"
          ]
        },
        {
          "output_type": "stream",
          "name": "stdout",
          "text": [
            "model saved\n",
            "epoch start...\n",
            "Epoch 157, gen loss=1.3275221586227417,disc loss=1.0839061737060547, 0:00:42.72\n",
            "1/1 [==============================] - 0s 20ms/step\n"
          ]
        },
        {
          "output_type": "stream",
          "name": "stderr",
          "text": [
            "WARNING:tensorflow:Compiled the loaded model, but the compiled metrics have yet to be built. `model.compile_metrics` will be empty until you train or evaluate the model.\n",
            "WARNING:tensorflow:Compiled the loaded model, but the compiled metrics have yet to be built. `model.compile_metrics` will be empty until you train or evaluate the model.\n"
          ]
        },
        {
          "output_type": "stream",
          "name": "stdout",
          "text": [
            "model saved\n",
            "epoch start...\n",
            "Epoch 158, gen loss=1.4778560400009155,disc loss=1.0686559677124023, 0:00:42.95\n",
            "1/1 [==============================] - 0s 21ms/step\n"
          ]
        },
        {
          "output_type": "stream",
          "name": "stderr",
          "text": [
            "WARNING:tensorflow:Compiled the loaded model, but the compiled metrics have yet to be built. `model.compile_metrics` will be empty until you train or evaluate the model.\n",
            "WARNING:tensorflow:Compiled the loaded model, but the compiled metrics have yet to be built. `model.compile_metrics` will be empty until you train or evaluate the model.\n"
          ]
        },
        {
          "output_type": "stream",
          "name": "stdout",
          "text": [
            "model saved\n",
            "epoch start...\n",
            "Epoch 159, gen loss=1.575324535369873,disc loss=1.0388109683990479, 0:00:43.25\n",
            "1/1 [==============================] - 0s 19ms/step\n"
          ]
        },
        {
          "output_type": "stream",
          "name": "stderr",
          "text": [
            "WARNING:tensorflow:Compiled the loaded model, but the compiled metrics have yet to be built. `model.compile_metrics` will be empty until you train or evaluate the model.\n",
            "WARNING:tensorflow:Compiled the loaded model, but the compiled metrics have yet to be built. `model.compile_metrics` will be empty until you train or evaluate the model.\n"
          ]
        },
        {
          "output_type": "stream",
          "name": "stdout",
          "text": [
            "model saved\n",
            "epoch start...\n",
            "Epoch 160, gen loss=1.5957748889923096,disc loss=1.052747130393982, 0:00:43.01\n",
            "1/1 [==============================] - 0s 19ms/step\n"
          ]
        },
        {
          "output_type": "stream",
          "name": "stderr",
          "text": [
            "WARNING:tensorflow:Compiled the loaded model, but the compiled metrics have yet to be built. `model.compile_metrics` will be empty until you train or evaluate the model.\n",
            "WARNING:tensorflow:Compiled the loaded model, but the compiled metrics have yet to be built. `model.compile_metrics` will be empty until you train or evaluate the model.\n"
          ]
        },
        {
          "output_type": "stream",
          "name": "stdout",
          "text": [
            "model saved\n",
            "epoch start...\n",
            "Epoch 161, gen loss=1.4613368511199951,disc loss=1.06742525100708, 0:00:42.84\n",
            "1/1 [==============================] - 0s 25ms/step\n"
          ]
        },
        {
          "output_type": "stream",
          "name": "stderr",
          "text": [
            "WARNING:tensorflow:Compiled the loaded model, but the compiled metrics have yet to be built. `model.compile_metrics` will be empty until you train or evaluate the model.\n",
            "WARNING:tensorflow:Compiled the loaded model, but the compiled metrics have yet to be built. `model.compile_metrics` will be empty until you train or evaluate the model.\n"
          ]
        },
        {
          "output_type": "stream",
          "name": "stdout",
          "text": [
            "model saved\n",
            "epoch start...\n",
            "Epoch 162, gen loss=1.4005966186523438,disc loss=1.0675615072250366, 0:00:42.90\n",
            "1/1 [==============================] - 0s 21ms/step\n"
          ]
        },
        {
          "output_type": "stream",
          "name": "stderr",
          "text": [
            "WARNING:tensorflow:Compiled the loaded model, but the compiled metrics have yet to be built. `model.compile_metrics` will be empty until you train or evaluate the model.\n",
            "WARNING:tensorflow:Compiled the loaded model, but the compiled metrics have yet to be built. `model.compile_metrics` will be empty until you train or evaluate the model.\n"
          ]
        },
        {
          "output_type": "stream",
          "name": "stdout",
          "text": [
            "model saved\n",
            "epoch start...\n",
            "Epoch 163, gen loss=1.464235782623291,disc loss=1.053894281387329, 0:00:42.40\n",
            "1/1 [==============================] - 0s 23ms/step\n"
          ]
        },
        {
          "output_type": "stream",
          "name": "stderr",
          "text": [
            "WARNING:tensorflow:Compiled the loaded model, but the compiled metrics have yet to be built. `model.compile_metrics` will be empty until you train or evaluate the model.\n",
            "WARNING:tensorflow:Compiled the loaded model, but the compiled metrics have yet to be built. `model.compile_metrics` will be empty until you train or evaluate the model.\n"
          ]
        },
        {
          "output_type": "stream",
          "name": "stdout",
          "text": [
            "model saved\n",
            "epoch start...\n",
            "Epoch 164, gen loss=1.4206572771072388,disc loss=1.0723536014556885, 0:00:43.06\n",
            "1/1 [==============================] - 0s 23ms/step\n"
          ]
        },
        {
          "output_type": "stream",
          "name": "stderr",
          "text": [
            "WARNING:tensorflow:Compiled the loaded model, but the compiled metrics have yet to be built. `model.compile_metrics` will be empty until you train or evaluate the model.\n",
            "WARNING:tensorflow:Compiled the loaded model, but the compiled metrics have yet to be built. `model.compile_metrics` will be empty until you train or evaluate the model.\n"
          ]
        },
        {
          "output_type": "stream",
          "name": "stdout",
          "text": [
            "model saved\n",
            "epoch start...\n",
            "Epoch 165, gen loss=1.4584159851074219,disc loss=1.067323923110962, 0:00:42.77\n",
            "1/1 [==============================] - 0s 19ms/step\n"
          ]
        },
        {
          "output_type": "stream",
          "name": "stderr",
          "text": [
            "WARNING:tensorflow:Compiled the loaded model, but the compiled metrics have yet to be built. `model.compile_metrics` will be empty until you train or evaluate the model.\n",
            "WARNING:tensorflow:Compiled the loaded model, but the compiled metrics have yet to be built. `model.compile_metrics` will be empty until you train or evaluate the model.\n"
          ]
        },
        {
          "output_type": "stream",
          "name": "stdout",
          "text": [
            "model saved\n",
            "epoch start...\n",
            "Epoch 166, gen loss=1.4062622785568237,disc loss=1.063446044921875, 0:00:43.04\n",
            "1/1 [==============================] - 0s 19ms/step\n"
          ]
        },
        {
          "output_type": "stream",
          "name": "stderr",
          "text": [
            "WARNING:tensorflow:Compiled the loaded model, but the compiled metrics have yet to be built. `model.compile_metrics` will be empty until you train or evaluate the model.\n",
            "WARNING:tensorflow:Compiled the loaded model, but the compiled metrics have yet to be built. `model.compile_metrics` will be empty until you train or evaluate the model.\n"
          ]
        },
        {
          "output_type": "stream",
          "name": "stdout",
          "text": [
            "model saved\n",
            "epoch start...\n",
            "Epoch 167, gen loss=1.3935973644256592,disc loss=1.064239740371704, 0:00:43.14\n",
            "1/1 [==============================] - 0s 20ms/step\n"
          ]
        },
        {
          "output_type": "stream",
          "name": "stderr",
          "text": [
            "WARNING:tensorflow:Compiled the loaded model, but the compiled metrics have yet to be built. `model.compile_metrics` will be empty until you train or evaluate the model.\n",
            "WARNING:tensorflow:Compiled the loaded model, but the compiled metrics have yet to be built. `model.compile_metrics` will be empty until you train or evaluate the model.\n"
          ]
        },
        {
          "output_type": "stream",
          "name": "stdout",
          "text": [
            "model saved\n",
            "epoch start...\n",
            "Epoch 168, gen loss=1.4285225868225098,disc loss=1.0803072452545166, 0:00:43.16\n",
            "1/1 [==============================] - 0s 19ms/step\n"
          ]
        },
        {
          "output_type": "stream",
          "name": "stderr",
          "text": [
            "WARNING:tensorflow:Compiled the loaded model, but the compiled metrics have yet to be built. `model.compile_metrics` will be empty until you train or evaluate the model.\n",
            "WARNING:tensorflow:Compiled the loaded model, but the compiled metrics have yet to be built. `model.compile_metrics` will be empty until you train or evaluate the model.\n"
          ]
        },
        {
          "output_type": "stream",
          "name": "stdout",
          "text": [
            "model saved\n",
            "epoch start...\n",
            "Epoch 169, gen loss=1.4410098791122437,disc loss=1.0699501037597656, 0:00:42.78\n",
            "1/1 [==============================] - 0s 20ms/step\n"
          ]
        },
        {
          "output_type": "stream",
          "name": "stderr",
          "text": [
            "WARNING:tensorflow:Compiled the loaded model, but the compiled metrics have yet to be built. `model.compile_metrics` will be empty until you train or evaluate the model.\n",
            "WARNING:tensorflow:Compiled the loaded model, but the compiled metrics have yet to be built. `model.compile_metrics` will be empty until you train or evaluate the model.\n"
          ]
        },
        {
          "output_type": "stream",
          "name": "stdout",
          "text": [
            "model saved\n",
            "epoch start...\n",
            "Epoch 170, gen loss=1.3633276224136353,disc loss=1.0582222938537598, 0:00:42.93\n",
            "1/1 [==============================] - 0s 22ms/step\n"
          ]
        },
        {
          "output_type": "stream",
          "name": "stderr",
          "text": [
            "WARNING:tensorflow:Compiled the loaded model, but the compiled metrics have yet to be built. `model.compile_metrics` will be empty until you train or evaluate the model.\n",
            "WARNING:tensorflow:Compiled the loaded model, but the compiled metrics have yet to be built. `model.compile_metrics` will be empty until you train or evaluate the model.\n"
          ]
        },
        {
          "output_type": "stream",
          "name": "stdout",
          "text": [
            "model saved\n",
            "epoch start...\n",
            "Epoch 171, gen loss=1.320184350013733,disc loss=1.0728687047958374, 0:00:42.92\n",
            "1/1 [==============================] - 0s 37ms/step\n"
          ]
        },
        {
          "output_type": "stream",
          "name": "stderr",
          "text": [
            "WARNING:tensorflow:Compiled the loaded model, but the compiled metrics have yet to be built. `model.compile_metrics` will be empty until you train or evaluate the model.\n",
            "WARNING:tensorflow:Compiled the loaded model, but the compiled metrics have yet to be built. `model.compile_metrics` will be empty until you train or evaluate the model.\n"
          ]
        },
        {
          "output_type": "stream",
          "name": "stdout",
          "text": [
            "model saved\n",
            "epoch start...\n",
            "Epoch 172, gen loss=1.3447595834732056,disc loss=1.0868157148361206, 0:00:42.82\n",
            "1/1 [==============================] - 0s 21ms/step\n"
          ]
        },
        {
          "output_type": "stream",
          "name": "stderr",
          "text": [
            "WARNING:tensorflow:Compiled the loaded model, but the compiled metrics have yet to be built. `model.compile_metrics` will be empty until you train or evaluate the model.\n",
            "WARNING:tensorflow:Compiled the loaded model, but the compiled metrics have yet to be built. `model.compile_metrics` will be empty until you train or evaluate the model.\n"
          ]
        },
        {
          "output_type": "stream",
          "name": "stdout",
          "text": [
            "model saved\n",
            "epoch start...\n",
            "Epoch 173, gen loss=1.3735393285751343,disc loss=1.0771006345748901, 0:00:42.76\n",
            "1/1 [==============================] - 0s 31ms/step\n"
          ]
        },
        {
          "output_type": "stream",
          "name": "stderr",
          "text": [
            "WARNING:tensorflow:Compiled the loaded model, but the compiled metrics have yet to be built. `model.compile_metrics` will be empty until you train or evaluate the model.\n",
            "WARNING:tensorflow:Compiled the loaded model, but the compiled metrics have yet to be built. `model.compile_metrics` will be empty until you train or evaluate the model.\n"
          ]
        },
        {
          "output_type": "stream",
          "name": "stdout",
          "text": [
            "model saved\n",
            "epoch start...\n",
            "Epoch 174, gen loss=1.3788089752197266,disc loss=1.0766788721084595, 0:00:43.44\n",
            "1/1 [==============================] - 0s 20ms/step\n"
          ]
        },
        {
          "output_type": "stream",
          "name": "stderr",
          "text": [
            "WARNING:tensorflow:Compiled the loaded model, but the compiled metrics have yet to be built. `model.compile_metrics` will be empty until you train or evaluate the model.\n",
            "WARNING:tensorflow:Compiled the loaded model, but the compiled metrics have yet to be built. `model.compile_metrics` will be empty until you train or evaluate the model.\n"
          ]
        },
        {
          "output_type": "stream",
          "name": "stdout",
          "text": [
            "model saved\n",
            "epoch start...\n",
            "Epoch 175, gen loss=1.3599660396575928,disc loss=1.072992205619812, 0:00:42.97\n",
            "1/1 [==============================] - 0s 27ms/step\n"
          ]
        },
        {
          "output_type": "stream",
          "name": "stderr",
          "text": [
            "WARNING:tensorflow:Compiled the loaded model, but the compiled metrics have yet to be built. `model.compile_metrics` will be empty until you train or evaluate the model.\n",
            "WARNING:tensorflow:Compiled the loaded model, but the compiled metrics have yet to be built. `model.compile_metrics` will be empty until you train or evaluate the model.\n"
          ]
        },
        {
          "output_type": "stream",
          "name": "stdout",
          "text": [
            "model saved\n",
            "epoch start...\n",
            "Epoch 176, gen loss=1.3854044675827026,disc loss=1.0703644752502441, 0:00:42.89\n",
            "1/1 [==============================] - 0s 20ms/step\n"
          ]
        },
        {
          "output_type": "stream",
          "name": "stderr",
          "text": [
            "WARNING:tensorflow:Compiled the loaded model, but the compiled metrics have yet to be built. `model.compile_metrics` will be empty until you train or evaluate the model.\n",
            "WARNING:tensorflow:Compiled the loaded model, but the compiled metrics have yet to be built. `model.compile_metrics` will be empty until you train or evaluate the model.\n"
          ]
        },
        {
          "output_type": "stream",
          "name": "stdout",
          "text": [
            "model saved\n",
            "epoch start...\n",
            "Epoch 177, gen loss=1.406783938407898,disc loss=1.06355881690979, 0:00:43.04\n",
            "1/1 [==============================] - 0s 34ms/step\n"
          ]
        },
        {
          "output_type": "stream",
          "name": "stderr",
          "text": [
            "WARNING:tensorflow:Compiled the loaded model, but the compiled metrics have yet to be built. `model.compile_metrics` will be empty until you train or evaluate the model.\n",
            "WARNING:tensorflow:Compiled the loaded model, but the compiled metrics have yet to be built. `model.compile_metrics` will be empty until you train or evaluate the model.\n"
          ]
        },
        {
          "output_type": "stream",
          "name": "stdout",
          "text": [
            "model saved\n",
            "epoch start...\n",
            "Epoch 178, gen loss=1.4539525508880615,disc loss=1.0557923316955566, 0:00:42.74\n",
            "1/1 [==============================] - 0s 20ms/step\n"
          ]
        },
        {
          "output_type": "stream",
          "name": "stderr",
          "text": [
            "WARNING:tensorflow:Compiled the loaded model, but the compiled metrics have yet to be built. `model.compile_metrics` will be empty until you train or evaluate the model.\n",
            "WARNING:tensorflow:Compiled the loaded model, but the compiled metrics have yet to be built. `model.compile_metrics` will be empty until you train or evaluate the model.\n"
          ]
        },
        {
          "output_type": "stream",
          "name": "stdout",
          "text": [
            "model saved\n",
            "epoch start...\n",
            "Epoch 179, gen loss=1.4251060485839844,disc loss=1.0581203699111938, 0:00:43.01\n",
            "1/1 [==============================] - 0s 33ms/step\n"
          ]
        },
        {
          "output_type": "stream",
          "name": "stderr",
          "text": [
            "WARNING:tensorflow:Compiled the loaded model, but the compiled metrics have yet to be built. `model.compile_metrics` will be empty until you train or evaluate the model.\n",
            "WARNING:tensorflow:Compiled the loaded model, but the compiled metrics have yet to be built. `model.compile_metrics` will be empty until you train or evaluate the model.\n"
          ]
        },
        {
          "output_type": "stream",
          "name": "stdout",
          "text": [
            "model saved\n",
            "epoch start...\n",
            "Epoch 180, gen loss=1.4374597072601318,disc loss=1.0600745677947998, 0:00:42.70\n",
            "1/1 [==============================] - 0s 21ms/step\n"
          ]
        },
        {
          "output_type": "stream",
          "name": "stderr",
          "text": [
            "WARNING:tensorflow:Compiled the loaded model, but the compiled metrics have yet to be built. `model.compile_metrics` will be empty until you train or evaluate the model.\n",
            "WARNING:tensorflow:Compiled the loaded model, but the compiled metrics have yet to be built. `model.compile_metrics` will be empty until you train or evaluate the model.\n"
          ]
        },
        {
          "output_type": "stream",
          "name": "stdout",
          "text": [
            "model saved\n",
            "epoch start...\n",
            "Epoch 181, gen loss=1.4870412349700928,disc loss=1.044718861579895, 0:00:42.99\n",
            "1/1 [==============================] - 0s 20ms/step\n"
          ]
        },
        {
          "output_type": "stream",
          "name": "stderr",
          "text": [
            "WARNING:tensorflow:Compiled the loaded model, but the compiled metrics have yet to be built. `model.compile_metrics` will be empty until you train or evaluate the model.\n",
            "WARNING:tensorflow:Compiled the loaded model, but the compiled metrics have yet to be built. `model.compile_metrics` will be empty until you train or evaluate the model.\n"
          ]
        },
        {
          "output_type": "stream",
          "name": "stdout",
          "text": [
            "model saved\n",
            "epoch start...\n",
            "Epoch 182, gen loss=1.4369779825210571,disc loss=1.0660722255706787, 0:00:43.43\n",
            "1/1 [==============================] - 0s 20ms/step\n"
          ]
        },
        {
          "output_type": "stream",
          "name": "stderr",
          "text": [
            "WARNING:tensorflow:Compiled the loaded model, but the compiled metrics have yet to be built. `model.compile_metrics` will be empty until you train or evaluate the model.\n",
            "WARNING:tensorflow:Compiled the loaded model, but the compiled metrics have yet to be built. `model.compile_metrics` will be empty until you train or evaluate the model.\n"
          ]
        },
        {
          "output_type": "stream",
          "name": "stdout",
          "text": [
            "model saved\n",
            "epoch start...\n",
            "Epoch 183, gen loss=1.4772775173187256,disc loss=1.0571147203445435, 0:00:42.99\n",
            "1/1 [==============================] - 0s 20ms/step\n"
          ]
        },
        {
          "output_type": "stream",
          "name": "stderr",
          "text": [
            "WARNING:tensorflow:Compiled the loaded model, but the compiled metrics have yet to be built. `model.compile_metrics` will be empty until you train or evaluate the model.\n",
            "WARNING:tensorflow:Compiled the loaded model, but the compiled metrics have yet to be built. `model.compile_metrics` will be empty until you train or evaluate the model.\n"
          ]
        },
        {
          "output_type": "stream",
          "name": "stdout",
          "text": [
            "model saved\n",
            "epoch start...\n",
            "Epoch 184, gen loss=1.5410488843917847,disc loss=1.0435945987701416, 0:00:42.69\n",
            "1/1 [==============================] - 0s 23ms/step\n"
          ]
        },
        {
          "output_type": "stream",
          "name": "stderr",
          "text": [
            "WARNING:tensorflow:Compiled the loaded model, but the compiled metrics have yet to be built. `model.compile_metrics` will be empty until you train or evaluate the model.\n",
            "WARNING:tensorflow:Compiled the loaded model, but the compiled metrics have yet to be built. `model.compile_metrics` will be empty until you train or evaluate the model.\n"
          ]
        },
        {
          "output_type": "stream",
          "name": "stdout",
          "text": [
            "model saved\n",
            "epoch start...\n",
            "Epoch 185, gen loss=1.4317752122879028,disc loss=1.0619983673095703, 0:00:42.97\n",
            "1/1 [==============================] - 0s 21ms/step\n"
          ]
        },
        {
          "output_type": "stream",
          "name": "stderr",
          "text": [
            "WARNING:tensorflow:Compiled the loaded model, but the compiled metrics have yet to be built. `model.compile_metrics` will be empty until you train or evaluate the model.\n",
            "WARNING:tensorflow:Compiled the loaded model, but the compiled metrics have yet to be built. `model.compile_metrics` will be empty until you train or evaluate the model.\n"
          ]
        },
        {
          "output_type": "stream",
          "name": "stdout",
          "text": [
            "model saved\n",
            "epoch start...\n",
            "Epoch 186, gen loss=1.444139003753662,disc loss=1.0539302825927734, 0:00:42.62\n",
            "1/1 [==============================] - 0s 19ms/step\n"
          ]
        },
        {
          "output_type": "stream",
          "name": "stderr",
          "text": [
            "WARNING:tensorflow:Compiled the loaded model, but the compiled metrics have yet to be built. `model.compile_metrics` will be empty until you train or evaluate the model.\n",
            "WARNING:tensorflow:Compiled the loaded model, but the compiled metrics have yet to be built. `model.compile_metrics` will be empty until you train or evaluate the model.\n"
          ]
        },
        {
          "output_type": "stream",
          "name": "stdout",
          "text": [
            "model saved\n",
            "epoch start...\n",
            "Epoch 187, gen loss=1.4195047616958618,disc loss=1.0662544965744019, 0:00:43.02\n",
            "1/1 [==============================] - 0s 20ms/step\n"
          ]
        },
        {
          "output_type": "stream",
          "name": "stderr",
          "text": [
            "WARNING:tensorflow:Compiled the loaded model, but the compiled metrics have yet to be built. `model.compile_metrics` will be empty until you train or evaluate the model.\n",
            "WARNING:tensorflow:Compiled the loaded model, but the compiled metrics have yet to be built. `model.compile_metrics` will be empty until you train or evaluate the model.\n"
          ]
        },
        {
          "output_type": "stream",
          "name": "stdout",
          "text": [
            "model saved\n",
            "epoch start...\n",
            "Epoch 188, gen loss=1.4499279260635376,disc loss=1.0407636165618896, 0:00:42.60\n",
            "1/1 [==============================] - 0s 20ms/step\n"
          ]
        },
        {
          "output_type": "stream",
          "name": "stderr",
          "text": [
            "WARNING:tensorflow:Compiled the loaded model, but the compiled metrics have yet to be built. `model.compile_metrics` will be empty until you train or evaluate the model.\n",
            "WARNING:tensorflow:Compiled the loaded model, but the compiled metrics have yet to be built. `model.compile_metrics` will be empty until you train or evaluate the model.\n"
          ]
        },
        {
          "output_type": "stream",
          "name": "stdout",
          "text": [
            "model saved\n",
            "epoch start...\n",
            "Epoch 189, gen loss=1.375531554222107,disc loss=1.0653588771820068, 0:00:43.61\n",
            "1/1 [==============================] - 0s 20ms/step\n"
          ]
        },
        {
          "output_type": "stream",
          "name": "stderr",
          "text": [
            "WARNING:tensorflow:Compiled the loaded model, but the compiled metrics have yet to be built. `model.compile_metrics` will be empty until you train or evaluate the model.\n",
            "WARNING:tensorflow:Compiled the loaded model, but the compiled metrics have yet to be built. `model.compile_metrics` will be empty until you train or evaluate the model.\n"
          ]
        },
        {
          "output_type": "stream",
          "name": "stdout",
          "text": [
            "model saved\n",
            "epoch start...\n",
            "Epoch 190, gen loss=1.4918537139892578,disc loss=1.0565544366836548, 0:00:42.73\n",
            "1/1 [==============================] - 0s 20ms/step\n"
          ]
        },
        {
          "output_type": "stream",
          "name": "stderr",
          "text": [
            "WARNING:tensorflow:Compiled the loaded model, but the compiled metrics have yet to be built. `model.compile_metrics` will be empty until you train or evaluate the model.\n",
            "WARNING:tensorflow:Compiled the loaded model, but the compiled metrics have yet to be built. `model.compile_metrics` will be empty until you train or evaluate the model.\n"
          ]
        },
        {
          "output_type": "stream",
          "name": "stdout",
          "text": [
            "model saved\n",
            "epoch start...\n",
            "Epoch 191, gen loss=1.4582979679107666,disc loss=1.0485206842422485, 0:00:43.04\n",
            "1/1 [==============================] - 0s 20ms/step\n"
          ]
        },
        {
          "output_type": "stream",
          "name": "stderr",
          "text": [
            "WARNING:tensorflow:Compiled the loaded model, but the compiled metrics have yet to be built. `model.compile_metrics` will be empty until you train or evaluate the model.\n",
            "WARNING:tensorflow:Compiled the loaded model, but the compiled metrics have yet to be built. `model.compile_metrics` will be empty until you train or evaluate the model.\n"
          ]
        },
        {
          "output_type": "stream",
          "name": "stdout",
          "text": [
            "model saved\n",
            "epoch start...\n",
            "Epoch 192, gen loss=1.578409194946289,disc loss=1.0418998003005981, 0:00:42.65\n",
            "1/1 [==============================] - 0s 20ms/step\n"
          ]
        },
        {
          "output_type": "stream",
          "name": "stderr",
          "text": [
            "WARNING:tensorflow:Compiled the loaded model, but the compiled metrics have yet to be built. `model.compile_metrics` will be empty until you train or evaluate the model.\n",
            "WARNING:tensorflow:Compiled the loaded model, but the compiled metrics have yet to be built. `model.compile_metrics` will be empty until you train or evaluate the model.\n"
          ]
        },
        {
          "output_type": "stream",
          "name": "stdout",
          "text": [
            "model saved\n",
            "epoch start...\n",
            "Epoch 193, gen loss=1.5028836727142334,disc loss=1.0383797883987427, 0:00:43.01\n",
            "1/1 [==============================] - 0s 19ms/step\n"
          ]
        },
        {
          "output_type": "stream",
          "name": "stderr",
          "text": [
            "WARNING:tensorflow:Compiled the loaded model, but the compiled metrics have yet to be built. `model.compile_metrics` will be empty until you train or evaluate the model.\n",
            "WARNING:tensorflow:Compiled the loaded model, but the compiled metrics have yet to be built. `model.compile_metrics` will be empty until you train or evaluate the model.\n"
          ]
        },
        {
          "output_type": "stream",
          "name": "stdout",
          "text": [
            "model saved\n",
            "epoch start...\n",
            "Epoch 194, gen loss=1.4606651067733765,disc loss=1.0517165660858154, 0:00:42.53\n",
            "1/1 [==============================] - 0s 20ms/step\n"
          ]
        },
        {
          "output_type": "stream",
          "name": "stderr",
          "text": [
            "WARNING:tensorflow:Compiled the loaded model, but the compiled metrics have yet to be built. `model.compile_metrics` will be empty until you train or evaluate the model.\n",
            "WARNING:tensorflow:Compiled the loaded model, but the compiled metrics have yet to be built. `model.compile_metrics` will be empty until you train or evaluate the model.\n"
          ]
        },
        {
          "output_type": "stream",
          "name": "stdout",
          "text": [
            "model saved\n",
            "epoch start...\n",
            "Epoch 195, gen loss=1.4967809915542603,disc loss=1.047971248626709, 0:00:42.97\n",
            "1/1 [==============================] - 0s 22ms/step\n"
          ]
        },
        {
          "output_type": "stream",
          "name": "stderr",
          "text": [
            "WARNING:tensorflow:Compiled the loaded model, but the compiled metrics have yet to be built. `model.compile_metrics` will be empty until you train or evaluate the model.\n",
            "WARNING:tensorflow:Compiled the loaded model, but the compiled metrics have yet to be built. `model.compile_metrics` will be empty until you train or evaluate the model.\n"
          ]
        },
        {
          "output_type": "stream",
          "name": "stdout",
          "text": [
            "model saved\n",
            "epoch start...\n",
            "Epoch 196, gen loss=1.477713704109192,disc loss=1.0379053354263306, 0:00:42.69\n",
            "1/1 [==============================] - 0s 21ms/step\n"
          ]
        },
        {
          "output_type": "stream",
          "name": "stderr",
          "text": [
            "WARNING:tensorflow:Compiled the loaded model, but the compiled metrics have yet to be built. `model.compile_metrics` will be empty until you train or evaluate the model.\n",
            "WARNING:tensorflow:Compiled the loaded model, but the compiled metrics have yet to be built. `model.compile_metrics` will be empty until you train or evaluate the model.\n"
          ]
        },
        {
          "output_type": "stream",
          "name": "stdout",
          "text": [
            "model saved\n",
            "epoch start...\n",
            "Epoch 197, gen loss=1.4559375047683716,disc loss=1.0549083948135376, 0:00:43.50\n",
            "1/1 [==============================] - 0s 21ms/step\n"
          ]
        },
        {
          "output_type": "stream",
          "name": "stderr",
          "text": [
            "WARNING:tensorflow:Compiled the loaded model, but the compiled metrics have yet to be built. `model.compile_metrics` will be empty until you train or evaluate the model.\n",
            "WARNING:tensorflow:Compiled the loaded model, but the compiled metrics have yet to be built. `model.compile_metrics` will be empty until you train or evaluate the model.\n"
          ]
        },
        {
          "output_type": "stream",
          "name": "stdout",
          "text": [
            "model saved\n",
            "epoch start...\n",
            "Epoch 198, gen loss=1.528232216835022,disc loss=1.0350242853164673, 0:00:42.79\n",
            "1/1 [==============================] - 0s 19ms/step\n"
          ]
        },
        {
          "output_type": "stream",
          "name": "stderr",
          "text": [
            "WARNING:tensorflow:Compiled the loaded model, but the compiled metrics have yet to be built. `model.compile_metrics` will be empty until you train or evaluate the model.\n",
            "WARNING:tensorflow:Compiled the loaded model, but the compiled metrics have yet to be built. `model.compile_metrics` will be empty until you train or evaluate the model.\n"
          ]
        },
        {
          "output_type": "stream",
          "name": "stdout",
          "text": [
            "model saved\n",
            "epoch start...\n",
            "Epoch 199, gen loss=1.5146487951278687,disc loss=1.0350017547607422, 0:00:43.05\n",
            "1/1 [==============================] - 0s 19ms/step\n"
          ]
        },
        {
          "output_type": "stream",
          "name": "stderr",
          "text": [
            "WARNING:tensorflow:Compiled the loaded model, but the compiled metrics have yet to be built. `model.compile_metrics` will be empty until you train or evaluate the model.\n",
            "WARNING:tensorflow:Compiled the loaded model, but the compiled metrics have yet to be built. `model.compile_metrics` will be empty until you train or evaluate the model.\n"
          ]
        },
        {
          "output_type": "stream",
          "name": "stdout",
          "text": [
            "model saved\n",
            "epoch start...\n",
            "Epoch 200, gen loss=1.581203579902649,disc loss=1.0313475131988525, 0:00:42.80\n",
            "1/1 [==============================] - 0s 20ms/step\n"
          ]
        },
        {
          "output_type": "stream",
          "name": "stderr",
          "text": [
            "WARNING:tensorflow:Compiled the loaded model, but the compiled metrics have yet to be built. `model.compile_metrics` will be empty until you train or evaluate the model.\n",
            "WARNING:tensorflow:Compiled the loaded model, but the compiled metrics have yet to be built. `model.compile_metrics` will be empty until you train or evaluate the model.\n"
          ]
        },
        {
          "output_type": "stream",
          "name": "stdout",
          "text": [
            "model saved\n",
            "Training time: 2:29:29.78\n"
          ]
        }
      ]
    },
    {
      "cell_type": "markdown",
      "source": [
        "# Results"
      ],
      "metadata": {
        "id": "Ip0-pddMcJ7a"
      }
    },
    {
      "cell_type": "code",
      "source": [
        "save_images_embeddings.shape"
      ],
      "metadata": {
        "colab": {
          "base_uri": "https://localhost:8080/"
        },
        "id": "95DVHaqqhhz3",
        "outputId": "71146dda-b1fb-417b-bbc8-6b9ab36d87e3"
      },
      "execution_count": null,
      "outputs": [
        {
          "output_type": "execute_result",
          "data": {
            "text/plain": [
              "(28, 768)"
            ]
          },
          "metadata": {},
          "execution_count": 26
        }
      ]
    },
    {
      "cell_type": "code",
      "source": [
        "test_embeds = nepbert.get_bert_embedding_sentence(\"पोइन्ट पखेटा, औंठीको पखेटा, एक औंठी टेल, र लामो पातलो खाकी\",)\n",
        "test_embeds = test_embeds.detach().cpu().numpy()\n",
        "noise = tf.random.normal([1, 100])\n",
        "generated_image = generator((noise,test_embeds.reshape(1,768)), training=False)\n",
        "plt.imshow(generated_image[0, :, :, 0])"
      ],
      "metadata": {
        "colab": {
          "base_uri": "https://localhost:8080/",
          "height": 883
        },
        "id": "uB0_RRlhkU7L",
        "outputId": "1c82bacf-3a9a-4b5a-9828-899a984badf9"
      },
      "execution_count": null,
      "outputs": [
        {
          "output_type": "stream",
          "name": "stdout",
          "text": [
            "0 [CLS]\n",
            "1 पोइ\n",
            "2 ##न\n",
            "3 ##ट\n",
            "4 पख\n",
            "5 ##टा\n",
            "6 ,\n",
            "7 औ\n",
            "8 ##ठी\n",
            "9 ##को\n",
            "10 पख\n",
            "11 ##टा\n",
            "12 ,\n",
            "13 एक\n",
            "14 औ\n",
            "15 ##ठी\n",
            "16 ट\n",
            "17 ##ल\n",
            "18 ,\n",
            "19 र\n",
            "20 लामो\n",
            "21 पातलो\n",
            "22 खा\n",
            "23 ##की\n",
            "24 [SEP]\n"
          ]
        },
        {
          "output_type": "execute_result",
          "data": {
            "text/plain": [
              "<matplotlib.image.AxesImage at 0x7f1885359be0>"
            ]
          },
          "metadata": {},
          "execution_count": 26
        },
        {
          "output_type": "display_data",
          "data": {
            "text/plain": [
              "<Figure size 640x480 with 1 Axes>"
            ],
            "image/png": "[encoded data removed]"
          },
          "metadata": {}
        }
      ]
    },
    {
      "cell_type": "code",
      "source": [
        "def test_image(text, num):\n",
        "  test_embeddings = nepbert.get_bert_embedding_sentence(text,)\n",
        "  test_embeddings = test_embeddings.detach().cpu().numpy().reshape(1,-1)\n",
        "  test_embeddings = np.repeat(embeds,[28],axis=0)\n",
        "  save_images(num, noise, test_embeddings)"
      ],
      "metadata": {
        "id": "-d6Kmh3ekikm"
      },
      "execution_count": null,
      "outputs": []
    },
    {
      "cell_type": "code",
      "source": [
        "image_array = np.full(( \n",
        "      PREVIEW_MARGIN + (PREVIEW_ROWS * (GENERATE_SQUARE+PREVIEW_MARGIN)), \n",
        "      PREVIEW_MARGIN + (PREVIEW_COLS * (GENERATE_SQUARE+PREVIEW_MARGIN)), 3), \n",
        "      255, dtype=np.uint8)\n",
        "\n",
        "noise = tf.random.normal([28, 100])\n",
        "embeds = nepbert.get_bert_embedding_sentence(\"यो चरा लगभग पूर्ण रूपमा अँध्यारो खैरो छ, यसको हल्का खैरो मुकुट छ\",)\n",
        "embeds = embeds.detach().cpu().numpy().reshape(1,-1)\n",
        "embeds = np.repeat(embeds,[28],axis=0)\n",
        "generated_images = generator.predict((noise,embeds))"
      ],
      "metadata": {
        "colab": {
          "base_uri": "https://localhost:8080/"
        },
        "id": "bQ6Z616NB3kA",
        "outputId": "d5b5fca6-476d-49cb-e808-7c98ba93e6bd"
      },
      "execution_count": null,
      "outputs": [
        {
          "output_type": "stream",
          "name": "stdout",
          "text": [
            "0 [CLS]\n",
            "1 यो\n",
            "2 चरा\n",
            "3 लगभग\n",
            "4 पर\n",
            "5 ##ण\n",
            "6 र\n",
            "7 ##पमा\n",
            "8 अध\n",
            "9 ##यार\n",
            "10 ##ो\n",
            "11 खरो\n",
            "12 छ\n",
            "13 ,\n",
            "14 यसको\n",
            "15 हल\n",
            "16 ##का\n",
            "17 खरो\n",
            "18 मक\n",
            "19 ##ट\n",
            "20 छ\n",
            "21 [SEP]\n",
            "1/1 [==============================] - 0s 21ms/step\n"
          ]
        }
      ]
    },
    {
      "cell_type": "code",
      "source": [
        "image_array = np.full(( \n",
        "      PREVIEW_MARGIN + (PREVIEW_ROWS * (GENERATE_SQUARE+PREVIEW_MARGIN)), \n",
        "      PREVIEW_MARGIN + (PREVIEW_COLS * (GENERATE_SQUARE+PREVIEW_MARGIN)), 3), \n",
        "      255, dtype=np.uint8)\n",
        "\n",
        "noise = tf.random.normal([28, 100])\n",
        "embeds = nepbert.get_bert_embedding_sentence(\"यो चरा लगभग पूर्ण रूपमा अँध्यारो खैरो छ, यसको हल्का खैरो मुकुट छ\",)\n",
        "embeds = embeds.detach().cpu().numpy().reshape(1,-1)\n",
        "embeds = np.repeat(embeds,[28],axis=0)\n",
        "generated_images = generator.predict((noise,embeds))"
      ],
      "metadata": {
        "id": "XhR8v2zYY3qF"
      },
      "execution_count": null,
      "outputs": []
    },
    {
      "cell_type": "code",
      "source": [
        "generated_images.shape"
      ],
      "metadata": {
        "colab": {
          "base_uri": "https://localhost:8080/"
        },
        "id": "quacmjS2FLYN",
        "outputId": "c4421451-0dd2-4ca1-db85-661173162e81"
      },
      "execution_count": null,
      "outputs": [
        {
          "output_type": "execute_result",
          "data": {
            "text/plain": [
              "(28, 64, 64, 3)"
            ]
          },
          "metadata": {},
          "execution_count": 29
        }
      ]
    },
    {
      "cell_type": "code",
      "source": [
        "plt.imshow(generated_images[27])"
      ],
      "metadata": {
        "colab": {
          "base_uri": "https://localhost:8080/",
          "height": 467
        },
        "id": "BWbG1NcHFN5U",
        "outputId": "65232689-502a-4641-f8a9-7e6c2c06235e"
      },
      "execution_count": null,
      "outputs": [
        {
          "output_type": "stream",
          "name": "stderr",
          "text": [
            "WARNING:matplotlib.image:Clipping input data to the valid range for imshow with RGB data ([0..1] for floats or [0..255] for integers).\n"
          ]
        },
        {
          "output_type": "execute_result",
          "data": {
            "text/plain": [
              "<matplotlib.image.AxesImage at 0x7f1885359e20>"
            ]
          },
          "metadata": {},
          "execution_count": 30
        },
        {
          "output_type": "display_data",
          "data": {
            "text/plain": [
              "<Figure size 640x480 with 1 Axes>"
            ],
            "image/png": "[encoded data removed]"
          },
          "metadata": {}
        }
      ]
    },
    {
      "cell_type": "code",
      "source": [
        "image_array = np.full(( \n",
        "      PREVIEW_MARGIN + (PREVIEW_ROWS * (GENERATE_SQUARE+PREVIEW_MARGIN)), \n",
        "      PREVIEW_MARGIN + (PREVIEW_COLS * (GENERATE_SQUARE+PREVIEW_MARGIN)), 3), \n",
        "      255, dtype=np.uint8)\n",
        "\n",
        "noise = tf.random.normal([28, 100])\n",
        "embeds = nepbert.get_bert_embedding_sentence(\"पोइन्ट पखेटा, औंठीको पखेटा, एक औंठी टेल, र लामो पातलो खाकी।\",)\n",
        "embeds = embeds.detach().cpu().numpy().reshape(1,-1)\n",
        "embeds = np.repeat(embeds,[28],axis=0)\n",
        "generated_images = generator.predict((noise,embeds))"
      ],
      "metadata": {
        "colab": {
          "base_uri": "https://localhost:8080/"
        },
        "id": "iM-v_xT8ZBmM",
        "outputId": "7d6d1176-9e32-4383-ae0e-f20b0e331e9b"
      },
      "execution_count": null,
      "outputs": [
        {
          "output_type": "stream",
          "name": "stdout",
          "text": [
            "0 [CLS]\n",
            "1 पोइ\n",
            "2 ##न\n",
            "3 ##ट\n",
            "4 पख\n",
            "5 ##टा\n",
            "6 ,\n",
            "7 औ\n",
            "8 ##ठी\n",
            "9 ##को\n",
            "10 पख\n",
            "11 ##टा\n",
            "12 ,\n",
            "13 एक\n",
            "14 औ\n",
            "15 ##ठी\n",
            "16 ट\n",
            "17 ##ल\n",
            "18 ,\n",
            "19 र\n",
            "20 लामो\n",
            "21 पातलो\n",
            "22 खा\n",
            "23 ##की\n",
            "24 ।\n",
            "25 [SEP]\n",
            "1/1 [==============================] - 0s 23ms/step\n"
          ]
        }
      ]
    },
    {
      "cell_type": "code",
      "source": [
        "plt.imshow(generated_images[27])"
      ],
      "metadata": {
        "colab": {
          "base_uri": "https://localhost:8080/",
          "height": 449
        },
        "id": "wijF3X_sZH5E",
        "outputId": "e74cee05-a1bf-42ae-f62f-e07b449f0b6b"
      },
      "execution_count": null,
      "outputs": [
        {
          "output_type": "execute_result",
          "data": {
            "text/plain": [
              "<matplotlib.image.AxesImage at 0x7f1be89882b0>"
            ]
          },
          "metadata": {},
          "execution_count": 32
        },
        {
          "output_type": "display_data",
          "data": {
            "text/plain": [
              "<Figure size 640x480 with 1 Axes>"
            ],
            "image/png": "[encoded data removed]"
          },
          "metadata": {}
        }
      ]
    },
    {
      "cell_type": "code",
      "source": [
        "test_image(\"एक सानो, सुन्तला मुकुट, कलर र स्तनको साथ एक सानो, प्रायः कालो चरा।\",2)"
      ],
      "metadata": {
        "colab": {
          "base_uri": "https://localhost:8080/",
          "height": 866
        },
        "id": "8L0XbCdQ7vqf",
        "outputId": "65da3d9f-c2af-4253-90e8-e8431490ec5e"
      },
      "execution_count": null,
      "outputs": [
        {
          "output_type": "stream",
          "name": "stdout",
          "text": [
            "0 [CLS]\n",
            "1 एक\n",
            "2 सानो\n",
            "3 ,\n",
            "4 सन\n",
            "5 ##तला\n",
            "6 मक\n",
            "7 ##ट\n",
            "8 ,\n",
            "9 कलर\n",
            "10 र\n",
            "11 सत\n",
            "12 ##नको\n",
            "13 साथ\n",
            "14 एक\n",
            "15 सानो\n",
            "16 ,\n",
            "17 परा\n",
            "18 ##य\n",
            "19 ##ः\n",
            "20 कालो\n",
            "21 चरा\n",
            "22 ।\n",
            "23 [SEP]\n",
            "1/1 [==============================] - 0s 37ms/step\n"
          ]
        },
        {
          "output_type": "display_data",
          "data": {
            "text/plain": [
              "<Figure size 640x480 with 1 Axes>"
            ],
            "image/png": "[encoded data removed]"
          },
          "metadata": {}
        }
      ]
    },
    {
      "cell_type": "code",
      "source": [],
      "metadata": {
        "id": "qrqxzfln77FT"
      },
      "execution_count": null,
      "outputs": []
    }
  ]
}